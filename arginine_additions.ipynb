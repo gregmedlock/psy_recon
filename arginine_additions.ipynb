{
 "cells": [
  {
   "cell_type": "markdown",
   "metadata": {},
   "source": [
    "For the purposes of annotating various arginine metabolism reactions after generation of ensembl predictions:"
   ]
  },
  {
   "cell_type": "markdown",
   "metadata": {},
   "source": [
    "Unnamed: 0    importance    fraction active in 0    fraction active in 1\n",
    "0    rxn12060_c_lower_bound    0.027648    0.164557    0.824561\n",
    "1    rxn00394_c_upper_bound    0.026927    0.303797    0.011696 - arginase\n",
    "2    rxn12060_c_upper_bound    0.025805    0.164557    0.824561\n",
    "3    rxn00399_c_upper_bound    0.024043    0.512658    0.032164 - Nitric oxide synthase\n",
    "4    rxn00399_c_lower_bound    0.020256    0.512658    0.032164 - Nitric oxide synthase\n",
    "5    rxn03990_c_lower_bound    0.013899    0.310127    0.011696 - Nitric Oxide Oxidoreductase\n",
    "6    rxn11674_c_lower_bound    0.013391    0.487342    0.081871 \n",
    "7    rxn05303_c_lower_bound    0.011722    0.183544    0.000000 - Arginine Transport\n",
    "8    rxn04702_c_upper_bound    0.011248    0.360759    0.035088\n",
    "9    rxn11674_c_upper_bound    0.011186    0.487342    0.081871 \n",
    "10    rxn01934_c_lower_bound    0.010945    0.487342    0.081871\n",
    "11    rxn03990_c_upper_bound    0.008784    0.310127    0.011696 - Nitric Oxide Oxidoreducxtase\n",
    "12    rxn01934_c_upper_bound    0.008770    0.487342    0.081871\n",
    "13    rxn27379_c_upper_bound    0.008296    0.151899    0.000000 - Glutamine/Arginine Antiporter\n",
    "14    rxn00245_c_upper_bound    0.008263    0.443038    0.078947\n",
    "15    rxn27379_c_lower_bound    0.007895    0.151899    0.000000 - Glutamine/Arginine Antiporter\n",
    "16    rxn05303_c_upper_bound    0.007374    0.183544    0.000000 - Arginine Transport\n",
    "17    rxn04702_c_lower_bound    0.007270    0.360759    0.035088\n",
    "18    rxn10966_c_upper_bound    0.007224    0.575949    0.181287 - Thioredoxidase, nitrite synthase\n",
    "19    rxn10966_c_lower_bound    0.007174    0.575949    0.181287 - Thioredoxidase, nitrite synthase"
   ]
  },
  {
   "cell_type": "code",
   "execution_count": 1,
   "metadata": {},
   "outputs": [],
   "source": [
    "import cobra\n",
    "from cobra import Metabolite, Gene, Reaction"
   ]
  },
  {
   "cell_type": "code",
   "execution_count": null,
   "metadata": {},
   "outputs": [],
   "source": [
    "#import latest update of the model\n",
    "pst = cobra.io.load_json_model('../results/v4_with_all_annotations.xml')\n",
    "base= cobra.io.load_json_model('../path/to/ensemblefile.json')\n"
   ]
  },
  {
   "cell_type": "code",
   "execution_count": null,
   "metadata": {},
   "outputs": [],
   "source": [
    "#reaction 00394 - arginine to ornathine with release of urea\n",
    "#reac_copy = base.reaction.get_by_id('rxn00394_c').copy\n",
    "#pst.add_reaction(reac_copy)\n",
    "#pst.reactions.rxn00394_c.lower_bound = 0\n",
    "#pst.reactions.rxn00394_c.upper_bound = 1000\n",
    "#pst.reactions.rxn00394_c.gene_reaction_rule = 'Unknown'\n",
    "#pst.reactions.rxn00394_c.subsystem = 'Arginine Metabolism'"
   ]
  },
  {
   "cell_type": "markdown",
   "metadata": {},
   "source": [
    "rxn00394 has evidence for function in various Pseudomonas species, including Pseudomonas putida (https://www.microbiologyresearch.org/docserver/fulltext/micro/130/1/mic-130-1-69.pdf?expires=1548948345&id=id&accname=sgid024758&checksum=52D0F9E337305B0E5083196A4CEE3C14), however, sequence similarity has only revealed the presence of an aminotranferase domain that occurs in Pto; there is a group recently that annotated this feature as having arginase, agimatase, and fumerase activity without concise agreement (University of Toronto), decided does ont exist in Pst"
   ]
  },
  {
   "cell_type": "markdown",
   "metadata": {},
   "source": [
    "rxn00245 has evidence for being non-functional in Pseudomonas syringae pv. psyringae. Evidence is based on single source carbon utilization of tartrate producing no growth, considered a hallmark of Psm (https://aem.asm.org/content/59/4/1018.short)"
   ]
  },
  {
   "cell_type": "code",
   "execution_count": null,
   "metadata": {},
   "outputs": [],
   "source": [
    "pst.reactions.rxn00399_c.remove_from_model(remove_orphans = True)\n",
    "#do I need to remove reactions: my thought is no because I should be adding from the base ensemble to the pst curation"
   ]
  },
  {
   "cell_type": "markdown",
   "metadata": {},
   "source": [
    "rxn00399 - Nitric oxide synthase, does not have significant sequence homology within the genome to the NO synthase from Nocardia(or any other microbes), which is the first microbe in which NOS was found (10.1006/bbrc.1994.2317), also NO induces plant defense response, so maybe this became an evolutionary detriment for phytopathogens?, further there is no sequence similarity to PAO1 arginine deiminase, which shares a similar function"
   ]
  },
  {
   "cell_type": "code",
   "execution_count": 1,
   "metadata": {},
   "outputs": [
    {
     "ename": "NameError",
     "evalue": "name 'pst' is not defined",
     "output_type": "error",
     "traceback": [
      "\u001b[0;31m---------------------------------------------------------------------------\u001b[0m",
      "\u001b[0;31mNameError\u001b[0m                                 Traceback (most recent call last)",
      "\u001b[0;32m<ipython-input-1-8f712eed5bb4>\u001b[0m in \u001b[0;36m<module>\u001b[0;34m\u001b[0m\n\u001b[0;32m----> 1\u001b[0;31m \u001b[0mpst\u001b[0m\u001b[0;34m.\u001b[0m\u001b[0mrxn05303_c\u001b[0m\u001b[0;34m.\u001b[0m\u001b[0mlower_bound\u001b[0m \u001b[0;34m=\u001b[0m \u001b[0;36m0\u001b[0m\u001b[0;34m\u001b[0m\u001b[0;34m\u001b[0m\u001b[0m\n\u001b[0m\u001b[1;32m      2\u001b[0m \u001b[0mpst\u001b[0m\u001b[0;34m.\u001b[0m\u001b[0mrxn05303_c\u001b[0m\u001b[0;34m.\u001b[0m\u001b[0mupper_bound\u001b[0m \u001b[0;34m=\u001b[0m \u001b[0;36m1000\u001b[0m\u001b[0;34m\u001b[0m\u001b[0;34m\u001b[0m\u001b[0m\n",
      "\u001b[0;31mNameError\u001b[0m: name 'pst' is not defined"
     ]
    }
   ],
   "source": [
    "reac_copy = base.reaction.get_by_id('rxn05303_c').copy\n",
    "pst.add_reaction(reac_copy)\n",
    "pst.rxn05303_c.lower_bound = 0\n",
    "pst.rxn05303_c.upper_bound = 1000\n",
    "pst.rxn05303_c.subsystem = \"Transport\"\n",
    "pst.rxn05303_c.gene_reaction_rule = 'Unknown'"
   ]
  },
  {
   "cell_type": "markdown",
   "metadata": {},
   "source": [
    "rxn05303 - arginine transport reaction, supports a lower bound of 0 because this is a transport reaction into the cell, however, all supoort in the literature shows ABC transport, energy dependant for arginine, with mild suggestions that GABA permease can accomidate arginine?"
   ]
  },
  {
   "cell_type": "markdown",
   "metadata": {},
   "source": [
    "rxn03990 - no evidence supporting the exsistance of this reaction, possibly the reverse of the reaction, but as it stands as written, the reaction does not proceed in the manner that is presented\n",
    "further, a strain is charaterized as not producing nitrate, https://www.ndrs.org.uk/pdfs/022/NDR_022010.pdf"
   ]
  },
  {
   "cell_type": "markdown",
   "metadata": {},
   "source": [
    "rxn27379_c does not show evidence for existing, either in E coli or in any Pseudomonas species"
   ]
  }
 ],
 "metadata": {
  "kernelspec": {
   "display_name": "Python 3",
   "language": "python",
   "name": "python3"
  },
  "language_info": {
   "codemirror_mode": {
    "name": "ipython",
    "version": 3
   },
   "file_extension": ".py",
   "mimetype": "text/x-python",
   "name": "python",
   "nbconvert_exporter": "python",
   "pygments_lexer": "ipython3",
   "version": "3.6.8"
  }
 },
 "nbformat": 4,
 "nbformat_minor": 2
}
