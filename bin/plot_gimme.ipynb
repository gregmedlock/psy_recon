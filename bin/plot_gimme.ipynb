{
 "cells": [
  {
   "cell_type": "code",
   "execution_count": 1,
   "metadata": {},
   "outputs": [],
   "source": [
    "import json\n",
    "import pandas as pd\n",
    "\n",
    "import matplotlib.pyplot as plt\n",
    "import matplotlib\n",
    "matplotlib.rcParams[\"savefig.dpi\"] = 300\n",
    "matplotlib.rcParams['figure.dpi'] = 300\n",
    "matplotlib.rcParams['font.sans-serif'] = \"Arial\"\n",
    "matplotlib.rcParams['font.family'] = \"sans-serif\""
   ]
  },
  {
   "cell_type": "code",
   "execution_count": 2,
   "metadata": {},
   "outputs": [],
   "source": [
    "# save the open reactions\n",
    "with open('../results/gimme/mock_gimme_open_reactions_cutoff4.json', 'rb') as infile:\n",
    "    mock_open_reactions = json.load(infile)\n",
    "with open('../results/gimme/flg_gimme_open_reactions_cutoff4.json', 'rb') as infile:\n",
    "    flg_open_reactions = json.load(infile)"
   ]
  },
  {
   "cell_type": "code",
   "execution_count": 3,
   "metadata": {},
   "outputs": [],
   "source": [
    "def open_reaction_frequency(open_reaction_dict):\n",
    "    open_reactions_freq = {}\n",
    "    for member in open_reaction_dict.keys():\n",
    "        for reaction in open_reaction_dict[member]:\n",
    "            if reaction in open_reactions_freq.keys():\n",
    "                open_reactions_freq[reaction] += 1\n",
    "            else:\n",
    "                open_reactions_freq[reaction] = 1\n",
    "    return open_reactions_freq\n",
    "\n",
    "mock_open_compiled = open_reaction_frequency(mock_open_reactions)\n",
    "flg_open_compiled = open_reaction_frequency(flg_open_reactions)"
   ]
  },
  {
   "cell_type": "code",
   "execution_count": 4,
   "metadata": {},
   "outputs": [],
   "source": [
    "# convert the open reaction frequency dictionaries into a single dataframe\n",
    "members_mock = list(mock_open_compiled.keys())\n",
    "mock_counts_list = [mock_open_compiled[member] for member in mock_open_compiled.keys()]\n",
    "mock_open_freq_df = pd.DataFrame(mock_counts_list, index = members_mock)\n",
    "mock_open_freq_df.columns = ['mock']\n",
    "members_flg = list(flg_open_compiled.keys())\n",
    "flg_counts_list = [flg_open_compiled[member] for member in flg_open_compiled.keys()]\n",
    "flg_open_freq_df = pd.DataFrame(flg_counts_list, index = members_flg)\n",
    "flg_open_freq_df.columns = ['flg']\n",
    "all_open_freq_df = pd.concat([flg_open_freq_df,mock_open_freq_df], join='outer',sort=True,axis=1).fillna(0)\n",
    "\n",
    "# get the difference between mock and flg for each\n",
    "all_open_freq_df['difference from mock'] = all_open_freq_df['mock'] - all_open_freq_df['flg']\n",
    "# sort by the difference\n",
    "all_open_freq_df = all_open_freq_df.sort_values(by='difference from mock')"
   ]
  },
  {
   "cell_type": "code",
   "execution_count": 5,
   "metadata": {},
   "outputs": [
    {
     "data": {
      "text/html": [
       "<div>\n",
       "<style scoped>\n",
       "    .dataframe tbody tr th:only-of-type {\n",
       "        vertical-align: middle;\n",
       "    }\n",
       "\n",
       "    .dataframe tbody tr th {\n",
       "        vertical-align: top;\n",
       "    }\n",
       "\n",
       "    .dataframe thead th {\n",
       "        text-align: right;\n",
       "    }\n",
       "</style>\n",
       "<table border=\"1\" class=\"dataframe\">\n",
       "  <thead>\n",
       "    <tr style=\"text-align: right;\">\n",
       "      <th></th>\n",
       "      <th>flg</th>\n",
       "      <th>mock</th>\n",
       "      <th>difference from mock</th>\n",
       "    </tr>\n",
       "  </thead>\n",
       "  <tbody>\n",
       "    <tr>\n",
       "      <td>rxn00127_c</td>\n",
       "      <td>99.0</td>\n",
       "      <td>29.0</td>\n",
       "      <td>-70.0</td>\n",
       "    </tr>\n",
       "    <tr>\n",
       "      <td>rxn01406_c</td>\n",
       "      <td>99.0</td>\n",
       "      <td>29.0</td>\n",
       "      <td>-70.0</td>\n",
       "    </tr>\n",
       "    <tr>\n",
       "      <td>rxn00125_c</td>\n",
       "      <td>78.0</td>\n",
       "      <td>28.0</td>\n",
       "      <td>-50.0</td>\n",
       "    </tr>\n",
       "    <tr>\n",
       "      <td>rxn01022_c</td>\n",
       "      <td>27.0</td>\n",
       "      <td>10.0</td>\n",
       "      <td>-17.0</td>\n",
       "    </tr>\n",
       "    <tr>\n",
       "      <td>rxn03057_c</td>\n",
       "      <td>27.0</td>\n",
       "      <td>10.0</td>\n",
       "      <td>-17.0</td>\n",
       "    </tr>\n",
       "    <tr>\n",
       "      <td>EX_cpd00053_e</td>\n",
       "      <td>0.0</td>\n",
       "      <td>24.0</td>\n",
       "      <td>24.0</td>\n",
       "    </tr>\n",
       "    <tr>\n",
       "      <td>rxn05155_c</td>\n",
       "      <td>0.0</td>\n",
       "      <td>24.0</td>\n",
       "      <td>24.0</td>\n",
       "    </tr>\n",
       "    <tr>\n",
       "      <td>EX_cpd00264_e</td>\n",
       "      <td>0.0</td>\n",
       "      <td>70.0</td>\n",
       "      <td>70.0</td>\n",
       "    </tr>\n",
       "    <tr>\n",
       "      <td>rxn05175_c</td>\n",
       "      <td>0.0</td>\n",
       "      <td>70.0</td>\n",
       "      <td>70.0</td>\n",
       "    </tr>\n",
       "    <tr>\n",
       "      <td>rxn00260_c</td>\n",
       "      <td>0.0</td>\n",
       "      <td>79.0</td>\n",
       "      <td>79.0</td>\n",
       "    </tr>\n",
       "  </tbody>\n",
       "</table>\n",
       "</div>"
      ],
      "text/plain": [
       "                flg  mock  difference from mock\n",
       "rxn00127_c     99.0  29.0                 -70.0\n",
       "rxn01406_c     99.0  29.0                 -70.0\n",
       "rxn00125_c     78.0  28.0                 -50.0\n",
       "rxn01022_c     27.0  10.0                 -17.0\n",
       "rxn03057_c     27.0  10.0                 -17.0\n",
       "EX_cpd00053_e   0.0  24.0                  24.0\n",
       "rxn05155_c      0.0  24.0                  24.0\n",
       "EX_cpd00264_e   0.0  70.0                  70.0\n",
       "rxn05175_c      0.0  70.0                  70.0\n",
       "rxn00260_c      0.0  79.0                  79.0"
      ]
     },
     "execution_count": 5,
     "metadata": {},
     "output_type": "execute_result"
    }
   ],
   "source": [
    "top_only = pd.concat([all_open_freq_df.head(5), all_open_freq_df.tail(5)])\n",
    "top_only"
   ]
  },
  {
   "cell_type": "code",
   "execution_count": 6,
   "metadata": {},
   "outputs": [
    {
     "data": {
      "image/png": "[encoded data removed]",
      "text/plain": [
       "<Figure size 432x288 with 1 Axes>"
      ]
     },
     "metadata": {
      "needs_background": "light"
     },
     "output_type": "display_data"
    }
   ],
   "source": [
    "import matplotlib.pyplot as plt\n",
    "import numpy as np\n",
    "\n",
    "#temp = top_only.copy()\n",
    "fig, ax = plt.subplots()\n",
    "labels = top_only.index.tolist()\n",
    "labels = [label[:-2] for label in labels] # remove compartment suffix\n",
    "x = np.arange(len(labels))\n",
    "width = 0.35\n",
    "\n",
    "flg_bar = ax.bar(x - width/2, height=top_only['flg'], width = width, label = 'flg22')\n",
    "mock_bar = ax.bar(x + width/2, height=top_only['mock'], width = width, label = 'mock')\n",
    "\n",
    "# add a line mid-way through the plotting area to represent the transition from high-flg to high-mock reactions\n",
    "plt.axvline(x=len(labels)/2 - width, color = 'black')\n",
    "\n",
    "# Add titles for either side of the plot\n",
    "ax.set_title('Enriched with\\nflg22 stimulation', fontsize=20, loc='center', x = .25)\n",
    "ax.text(7,107.0,'Enriched in\\nmock', size=20,horizontalalignment='center')\n",
    "\n",
    "\n",
    "ax.set_xticks(x)\n",
    "ax.set_xticklabels(labels,rotation=45, ha='right')\n",
    "\n",
    "ax.set_xlabel('Reaction',fontsize=20)\n",
    "ax.set_ylabel('Number of models with\\nactivity through reaction',fontsize=20)\n",
    "ax.legend(loc=(0.7,0.75))\n",
    "\n",
    "plt.tight_layout()\n",
    "\n",
    "fig.savefig('../results/figures/gimme_top_open_reactions.svg')\n",
    "fig.savefig('../results/figures/gimme_top_open_reactions.png')"
   ]
  }
 ],
 "metadata": {
  "kernelspec": {
   "display_name": "Python 3",
   "language": "python",
   "name": "python3"
  },
  "language_info": {
   "codemirror_mode": {
    "name": "ipython",
    "version": 3
   },
   "file_extension": ".py",
   "mimetype": "text/x-python",
   "name": "python",
   "nbconvert_exporter": "python",
   "pygments_lexer": "ipython3",
   "version": "3.6.8"
  }
 },
 "nbformat": 4,
 "nbformat_minor": 4
}
