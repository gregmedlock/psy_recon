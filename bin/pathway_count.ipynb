{
 "cells": [
  {
   "cell_type": "code",
   "execution_count": 2,
   "metadata": {},
   "outputs": [],
   "source": [
    "import pandas as pd"
   ]
  },
  {
   "cell_type": "code",
   "execution_count": 2,
   "metadata": {},
   "outputs": [],
   "source": [
    "#load the orthology files, generate counts for each orthology\n",
    "#add the names as headers for using the groupby function to group by pathway\n",
    "#this will allow full count of the genes with that association\n",
    "glut = pd.read_csv('../results/gene_essentiality/ensemble_essentialiity/output_orthology_files/kegg_orthology_glut.csv', names = ['Gene', 'Pathway'])\n",
    "gluc = pd.read_csv('../results/gene_essentiality/ensemble_essentialiity/output_orthology_files/kegg_orthology_gluc.csv', names = ['Gene', 'Pathway'])\n",
    "anderson = pd.read_csv('../results/gene_essentiality/ensemble_essentialiity/output_orthology_files/kegg_orthology_anderson.csv', names = ['Gene', 'Pathway'])\n",
    "complete = pd.read_csv('../results/gene_essentiality/ensemble_essentialiity/output_orthology_files/kegg_orthology_complete.csv', names = ['Gene', 'Pathway'])\n",
    "draft = pd.read_csv('../results/gene_essentiality/ensemble_essentialiity/output_orthology_files/kegg_orthology_draft.csv', names = ['Gene', 'Pathway'])\n",
    "curated = pd.read_csv('../results/gene_essentiality/ensemble_essentialiity/output_orthology_files/kegg_orthology_curated.csv', names = ['Gene', 'Pathway'])"
   ]
  },
  {
   "cell_type": "code",
   "execution_count": 3,
   "metadata": {},
   "outputs": [],
   "source": [
    "glut_p_count = glut.groupby(['Pathway']).count()\n",
    "gluc_p_count = gluc.groupby(['Pathway']).count()\n",
    "anderson_p_count = anderson.groupby(['Pathway']).count()\n",
    "complete_p_count = complete.groupby(['Pathway']).count()\n",
    "draft_p_count = draft.groupby(['Pathway']).count()\n",
    "curated_p_count = curated.groupby(['Pathway']).count()"
   ]
  },
  {
   "cell_type": "code",
   "execution_count": 6,
   "metadata": {},
   "outputs": [],
   "source": [
    "glut_p_count.to_csv('../results/gene_essentiality/ensemble_essentialiity/output_orthology_files/glut_grouped.csv')\n",
    "gluc_p_count.to_csv('../results/gene_essentiality/ensemble_essentialiity/output_orthology_files/gluc_grouped.csv')\n",
    "anderson_p_count.to_csv('../results/gene_essentiality/ensemble_essentialiity/output_orthology_files/anderson_grouped.csv')\n",
    "complete_p_count.to_csv('../results/gene_essentiality/ensemble_essentialiity/output_orthology_files/complete_grouped.csv')\n",
    "draft_p_count.to_csv('../results/gene_essentiality/ensemble_essentialiity/output_orthology_files/draft_grouped.csv')\n",
    "curated_p_count.to_csv('../results/gene_essentiality/ensemble_essentialiity/output_orthology_files/curated_grouped.csv')"
   ]
  },
  {
   "cell_type": "code",
   "execution_count": 7,
   "metadata": {},
   "outputs": [],
   "source": [
    "all_orthologie_500 = pd.read_csv('../results/gene_essentiality/ensemble_500/kegg_orthology_e500.csv', names = ['Gene', 'Pathway'])\n",
    "all_p_count = all_orthologie_500.groupby(['Pathway']).count()\n",
    "all_p_count.to_csv('../results/gene_essentiality/ensemble_500/all_grouped.csv')"
   ]
  },
  {
   "cell_type": "code",
   "execution_count": 10,
   "metadata": {},
   "outputs": [],
   "source": [
    "all_p_group = pd.read_excel('../results/gene_essentiality/ensemble_500/all_grouped.xlsx')"
   ]
  },
  {
   "cell_type": "code",
   "execution_count": 17,
   "metadata": {},
   "outputs": [],
   "source": [
    "grouped = all_p_group.groupby(['Group']).sum()\n",
    "grouped.to_csv('../results/gene_essentiality/ensemble_500/pathway_orthologies_summed.csv')"
   ]
  },
  {
   "cell_type": "code",
   "execution_count": 4,
   "metadata": {},
   "outputs": [],
   "source": [
    "complete = pd.read_csv('../results/gene_essentiality/ensemble_essentialiity/ensemble_1_updated_genes/complete10_orthologies.csv', names = ['Gene', 'Pathway'])\n",
    "complete_p_count = complete.groupby(['Pathway']).count()\n",
    "complete_p_count.to_csv('../results/gene_essentiality/ensemble_essentialiity/ensemble_1_updated_genes/complete10_grouped.csv')"
   ]
  },
  {
   "cell_type": "code",
   "execution_count": 41,
   "metadata": {},
   "outputs": [],
   "source": [
    "\n",
    "complete = pd.read_csv('../results/gene_essentiality/ensemble_essentialiity/ensemble_1_updated_genes/glucose10_orthologies.csv', names = ['Gene', 'Pathway'])\n",
    "complete_p_count = complete.groupby(['Pathway']).count()\n",
    "complete_p_count.to_csv('../results/gene_essentiality/ensemble_essentialiity/ensemble_1_updated_genes/glucose10_grouped.csv')"
   ]
  },
  {
   "cell_type": "code",
   "execution_count": 12,
   "metadata": {},
   "outputs": [],
   "source": [
    "kegg_list_super = pd.read_excel('../results/gene_essentiality/ensemble_essentialiity/kegg_list_super.xlsx', names = ['Gene', 'Pathway'])\n",
    "kegg_list_super_dict = pd.Series(kegg_list_super.Pathway.values,index=kegg_list_super.Gene).to_dict()"
   ]
  },
  {
   "cell_type": "code",
   "execution_count": 44,
   "metadata": {},
   "outputs": [],
   "source": [
    "kegg_list_super = pd.read_excel('../results/gene_essentiality/ensemble_essentialiity/kegg_list_super.xlsx', names = ['Gene', 'Pathway'])\n",
    "kegg_list_super_dict = pd.Series(kegg_list_super.Pathway.values,index=kegg_list_super.Gene).to_dict()\n",
    "complete = pd.read_csv('../results/gene_essentiality/ensemble_essentialiity/ensemble_1_updated_genes/glucose10_orthologies.csv', names = ['Gene', 'Pathway'])\n",
    "complete_p_count = complete.groupby(['Pathway']).count()\n",
    "complete_p_count.to_csv('../results/gene_essentiality/ensemble_essentialiity/ensemble_1_updated_genes/glucose10_grouped.csv')\n",
    "complete_p_count.reset_index(level=0, inplace=True)\n",
    "complete_p_count['supergroup'] = complete_p_count['Pathway'].map(kegg_list_super_dict)"
   ]
  },
  {
   "cell_type": "code",
   "execution_count": 46,
   "metadata": {},
   "outputs": [
    {
     "data": {
      "text/html": [
       "<div>\n",
       "<style scoped>\n",
       "    .dataframe tbody tr th:only-of-type {\n",
       "        vertical-align: middle;\n",
       "    }\n",
       "\n",
       "    .dataframe tbody tr th {\n",
       "        vertical-align: top;\n",
       "    }\n",
       "\n",
       "    .dataframe thead th {\n",
       "        text-align: right;\n",
       "    }\n",
       "</style>\n",
       "<table border=\"1\" class=\"dataframe\">\n",
       "  <thead>\n",
       "    <tr style=\"text-align: right;\">\n",
       "      <th></th>\n",
       "      <th>index</th>\n",
       "      <th>Pathway</th>\n",
       "      <th>Gene</th>\n",
       "    </tr>\n",
       "    <tr>\n",
       "      <th>supergroup</th>\n",
       "      <th></th>\n",
       "      <th></th>\n",
       "      <th></th>\n",
       "    </tr>\n",
       "  </thead>\n",
       "  <tbody>\n",
       "    <tr>\n",
       "      <th>Amino Acid Metabolism</th>\n",
       "      <td>15</td>\n",
       "      <td>15</td>\n",
       "      <td>15</td>\n",
       "    </tr>\n",
       "    <tr>\n",
       "      <th>Antibiotic Metabolism</th>\n",
       "      <td>5</td>\n",
       "      <td>5</td>\n",
       "      <td>5</td>\n",
       "    </tr>\n",
       "    <tr>\n",
       "      <th>Carbohydrate Metabolism</th>\n",
       "      <td>3</td>\n",
       "      <td>3</td>\n",
       "      <td>3</td>\n",
       "    </tr>\n",
       "    <tr>\n",
       "      <th>Cofactor Metabolism</th>\n",
       "      <td>9</td>\n",
       "      <td>9</td>\n",
       "      <td>9</td>\n",
       "    </tr>\n",
       "    <tr>\n",
       "      <th>Core Metabolism</th>\n",
       "      <td>1</td>\n",
       "      <td>1</td>\n",
       "      <td>1</td>\n",
       "    </tr>\n",
       "    <tr>\n",
       "      <th>Fatty Acid Metabolism</th>\n",
       "      <td>4</td>\n",
       "      <td>4</td>\n",
       "      <td>4</td>\n",
       "    </tr>\n",
       "    <tr>\n",
       "      <th>Glycerolipid Metabolism</th>\n",
       "      <td>2</td>\n",
       "      <td>2</td>\n",
       "      <td>2</td>\n",
       "    </tr>\n",
       "    <tr>\n",
       "      <th>Interaction with the Environment</th>\n",
       "      <td>1</td>\n",
       "      <td>1</td>\n",
       "      <td>1</td>\n",
       "    </tr>\n",
       "    <tr>\n",
       "      <th>Metabolism in Diverse Environments</th>\n",
       "      <td>1</td>\n",
       "      <td>1</td>\n",
       "      <td>1</td>\n",
       "    </tr>\n",
       "    <tr>\n",
       "      <th>Metabolism of Aromatic Compounds</th>\n",
       "      <td>3</td>\n",
       "      <td>3</td>\n",
       "      <td>3</td>\n",
       "    </tr>\n",
       "    <tr>\n",
       "      <th>Metabolism of Secondary Metabolites</th>\n",
       "      <td>4</td>\n",
       "      <td>4</td>\n",
       "      <td>4</td>\n",
       "    </tr>\n",
       "    <tr>\n",
       "      <th>Nucleic Acid Maintenance</th>\n",
       "      <td>6</td>\n",
       "      <td>6</td>\n",
       "      <td>6</td>\n",
       "    </tr>\n",
       "    <tr>\n",
       "      <th>Nucleotide Metabolism</th>\n",
       "      <td>3</td>\n",
       "      <td>3</td>\n",
       "      <td>3</td>\n",
       "    </tr>\n",
       "    <tr>\n",
       "      <th>Protein Biosynthesis</th>\n",
       "      <td>1</td>\n",
       "      <td>1</td>\n",
       "      <td>1</td>\n",
       "    </tr>\n",
       "    <tr>\n",
       "      <th>Regulation</th>\n",
       "      <td>1</td>\n",
       "      <td>1</td>\n",
       "      <td>1</td>\n",
       "    </tr>\n",
       "    <tr>\n",
       "      <th>Sulfur Metabolism</th>\n",
       "      <td>1</td>\n",
       "      <td>1</td>\n",
       "      <td>1</td>\n",
       "    </tr>\n",
       "    <tr>\n",
       "      <th>Transport</th>\n",
       "      <td>1</td>\n",
       "      <td>1</td>\n",
       "      <td>1</td>\n",
       "    </tr>\n",
       "    <tr>\n",
       "      <th>Virulence</th>\n",
       "      <td>1</td>\n",
       "      <td>1</td>\n",
       "      <td>1</td>\n",
       "    </tr>\n",
       "    <tr>\n",
       "      <th>tRNA Synthesis</th>\n",
       "      <td>1</td>\n",
       "      <td>1</td>\n",
       "      <td>1</td>\n",
       "    </tr>\n",
       "  </tbody>\n",
       "</table>\n",
       "</div>"
      ],
      "text/plain": [
       "                                     index  Pathway  Gene\n",
       "supergroup                                               \n",
       "Amino Acid Metabolism                   15       15    15\n",
       "Antibiotic Metabolism                    5        5     5\n",
       "Carbohydrate Metabolism                  3        3     3\n",
       "Cofactor Metabolism                      9        9     9\n",
       "Core Metabolism                          1        1     1\n",
       "Fatty Acid Metabolism                    4        4     4\n",
       "Glycerolipid Metabolism                  2        2     2\n",
       "Interaction with the Environment         1        1     1\n",
       "Metabolism in Diverse Environments       1        1     1\n",
       "Metabolism of Aromatic Compounds         3        3     3\n",
       "Metabolism of Secondary Metabolites      4        4     4\n",
       "Nucleic Acid Maintenance                 6        6     6\n",
       "Nucleotide Metabolism                    3        3     3\n",
       "Protein Biosynthesis                     1        1     1\n",
       "Regulation                               1        1     1\n",
       "Sulfur Metabolism                        1        1     1\n",
       "Transport                                1        1     1\n",
       "Virulence                                1        1     1\n",
       "tRNA Synthesis                           1        1     1"
      ]
     },
     "execution_count": 46,
     "metadata": {},
     "output_type": "execute_result"
    }
   ],
   "source": [
    "complete_p_count.groupby(['supergroup']).count()"
   ]
  },
  {
   "cell_type": "code",
   "execution_count": null,
   "metadata": {},
   "outputs": [],
   "source": []
  }
 ],
 "metadata": {
  "kernelspec": {
   "display_name": "cobraenv",
   "language": "python",
   "name": "cobraenv"
  },
  "language_info": {
   "codemirror_mode": {
    "name": "ipython",
    "version": 3
   },
   "file_extension": ".py",
   "mimetype": "text/x-python",
   "name": "python",
   "nbconvert_exporter": "python",
   "pygments_lexer": "ipython3",
   "version": "3.7.3"
  }
 },
 "nbformat": 4,
 "nbformat_minor": 2
}
