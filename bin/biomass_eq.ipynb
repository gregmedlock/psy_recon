{
 "cells": [
  {
   "cell_type": "code",
   "execution_count": 2,
   "metadata": {},
   "outputs": [],
   "source": [
    "import cobra\n",
    "from cobra import Reaction, Metabolite, Model"
   ]
  },
  {
   "cell_type": "code",
   "execution_count": 4,
   "metadata": {},
   "outputs": [],
   "source": [
    "#uploading model\n",
    "model = cobra.io.read_sbml_model(\"../results/reconstructions/psy_6_arg.xml\")"
   ]
  },
  {
   "cell_type": "code",
   "execution_count": null,
   "metadata": {},
   "outputs": [],
   "source": [
    "#DNA\n",
    "model.reaction.add_metabolite({\"nucleotide_DNA\":1,\n",
    "                               \"cpd00128_c\": -0.21916914914113794, \n",
    "                               \"cpd00151_c\": -0.21916914914113794, \n",
    "                               \"cpd00307_c\": -0.28083085085886206, \n",
    "                               \"cpd00207_c\": -0.28083085085886206})\n",
    "#RNA\n",
    "##look at protein coding fasta file, make Ts Us \n",
    "model.reaction.add_metabolite({\"nucelotide_RNA\":1,\n",
    "                               \"cpd00128_c\": -0.21916914914113794, \n",
    "                               \"cpd00151_c\": -0.21916914914113794, \n",
    "                               \"cpd00307_c\": -0.28083085085886206, \n",
    "                               \"cpd00207_c\": -0.28083085085886206})"
   ]
  },
  {
   "cell_type": "code",
   "execution_count": null,
   "metadata": {},
   "outputs": [],
   "source": [
    "#PROTEIN\n",
    "model.reaction.add_metabolite({\"protein\":1,\n",
    "                         \"cpd00035_c\": -0.10617216912031968, \n",
    "                         \"cpd00066_c\": -0.036319608590392315, \n",
    "                         \"cpd00132_c\": -0.03194521851573635, \n",
    "                         \"cpd00129_c\": -0.04784072660144642, \n",
    "                         \"cpd00107_c\": -0.11392469198081723, \n",
    "                         \"cpd00033_c\": -0.07671897063326497, \n",
    "                         \"cpd00051_c\": -0.0635379745301785, \n",
    "                         \"cpd00053_c\": -0.045577256475947736, \n",
    "                         \"cpd00084_c\": -0.009789645973446356, \n",
    "                         \"cpd00023_c\": -0.05656141989518646, \n",
    "                         \"cpd00119_c\": -0.02294861317020194, \n",
    "                         \"cpd00039_c\": -0.037538357833148656, \n",
    "                         \"cpd00060_c\": -0.023911276376861718, \n",
    "                         \"cpd00156_c\": -0.07080586145139653, \n",
    "                         \"cpd00054_c\": -0.06144688059671902, \n",
    "                         \"cpd00065_c\": -0.013921718078462559, \n",
    "                         \"cpd00322_c\": -0.04981121227274429, \n",
    "                         \"cpd00161_c\": -0.05105143969917326, \n",
    "                         \"cpd00041_c\": -0.05461736891148565, \n",
    "                         \"cpd00069_c\": -0.025559589293070367})"
   ]
  },
  {
   "cell_type": "raw",
   "metadata": {},
   "source": []
  }
 ],
 "metadata": {
  "kernelspec": {
   "display_name": "Python 3",
   "language": "python",
   "name": "python3"
  },
  "language_info": {
   "codemirror_mode": {
    "name": "ipython",
    "version": 3
   },
   "file_extension": ".py",
   "mimetype": "text/x-python",
   "name": "python",
   "nbconvert_exporter": "python",
   "pygments_lexer": "ipython3",
   "version": "3.7.0"
  }
 },
 "nbformat": 4,
 "nbformat_minor": 2
}
