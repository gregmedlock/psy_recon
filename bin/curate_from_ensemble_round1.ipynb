{
 "cells": [
  {
   "cell_type": "code",
   "execution_count": 1,
   "metadata": {},
   "outputs": [],
   "source": [
    "import pandas as pd\n",
    "import cobra\n",
    "from pickle import load"
   ]
  },
  {
   "cell_type": "code",
   "execution_count": 2,
   "metadata": {},
   "outputs": [],
   "source": [
    "# load the dataframe of important features\n",
    "imp_frame = pd.read_csv('../results/ensemble_learning_important_reactions.csv',sep=',')\n",
    "\n",
    "# load the current version of the reconstruction that was used to generate the ensemble\n",
    "model = cobra.io.read_sbml_model('../results/v4_with_all_annotations.xml')\n",
    "\n",
    "# read the ensemble so we can pull the gapfilled reactions to add to the draft reconstruction\n",
    "with open(\"../results/psy_ensemble_500_SEED_biomass.pickle\",'rb') as infile:\n",
    "            ensemble = load(infile)"
   ]
  },
  {
   "cell_type": "code",
   "execution_count": 3,
   "metadata": {},
   "outputs": [
    {
     "data": {
      "text/html": [
       "<div>\n",
       "<style scoped>\n",
       "    .dataframe tbody tr th:only-of-type {\n",
       "        vertical-align: middle;\n",
       "    }\n",
       "\n",
       "    .dataframe tbody tr th {\n",
       "        vertical-align: top;\n",
       "    }\n",
       "\n",
       "    .dataframe thead th {\n",
       "        text-align: right;\n",
       "    }\n",
       "</style>\n",
       "<table border=\"1\" class=\"dataframe\">\n",
       "  <thead>\n",
       "    <tr style=\"text-align: right;\">\n",
       "      <th></th>\n",
       "      <th>Unnamed: 0</th>\n",
       "      <th>importance</th>\n",
       "      <th>fraction active in 0</th>\n",
       "      <th>fraction active in 1</th>\n",
       "    </tr>\n",
       "  </thead>\n",
       "  <tbody>\n",
       "    <tr>\n",
       "      <th>0</th>\n",
       "      <td>rxn02276_c_upper_bound</td>\n",
       "      <td>0.027794</td>\n",
       "      <td>0.570213</td>\n",
       "      <td>0.000000</td>\n",
       "    </tr>\n",
       "    <tr>\n",
       "      <th>1</th>\n",
       "      <td>rxn09072_c_lower_bound</td>\n",
       "      <td>0.023573</td>\n",
       "      <td>0.353191</td>\n",
       "      <td>0.973585</td>\n",
       "    </tr>\n",
       "    <tr>\n",
       "      <th>2</th>\n",
       "      <td>rxn00993_c_lower_bound</td>\n",
       "      <td>0.023040</td>\n",
       "      <td>0.570213</td>\n",
       "      <td>0.000000</td>\n",
       "    </tr>\n",
       "    <tr>\n",
       "      <th>3</th>\n",
       "      <td>rxn02276_c_lower_bound</td>\n",
       "      <td>0.021274</td>\n",
       "      <td>0.570213</td>\n",
       "      <td>0.000000</td>\n",
       "    </tr>\n",
       "    <tr>\n",
       "      <th>4</th>\n",
       "      <td>rxn00993_c_upper_bound</td>\n",
       "      <td>0.020903</td>\n",
       "      <td>0.570213</td>\n",
       "      <td>0.000000</td>\n",
       "    </tr>\n",
       "    <tr>\n",
       "      <th>5</th>\n",
       "      <td>rxn09072_c_upper_bound</td>\n",
       "      <td>0.018565</td>\n",
       "      <td>0.353191</td>\n",
       "      <td>0.973585</td>\n",
       "    </tr>\n",
       "    <tr>\n",
       "      <th>6</th>\n",
       "      <td>rxn21635_c_upper_bound</td>\n",
       "      <td>0.015912</td>\n",
       "      <td>0.395745</td>\n",
       "      <td>0.022642</td>\n",
       "    </tr>\n",
       "    <tr>\n",
       "      <th>7</th>\n",
       "      <td>rxn10878_c_lower_bound</td>\n",
       "      <td>0.015222</td>\n",
       "      <td>0.131915</td>\n",
       "      <td>0.645283</td>\n",
       "    </tr>\n",
       "    <tr>\n",
       "      <th>8</th>\n",
       "      <td>rxn01418_c_upper_bound</td>\n",
       "      <td>0.015014</td>\n",
       "      <td>0.442553</td>\n",
       "      <td>0.003774</td>\n",
       "    </tr>\n",
       "    <tr>\n",
       "      <th>9</th>\n",
       "      <td>rxn01827_c_upper_bound</td>\n",
       "      <td>0.014955</td>\n",
       "      <td>0.425532</td>\n",
       "      <td>0.000000</td>\n",
       "    </tr>\n",
       "    <tr>\n",
       "      <th>10</th>\n",
       "      <td>rxn01418_c_lower_bound</td>\n",
       "      <td>0.013517</td>\n",
       "      <td>0.442553</td>\n",
       "      <td>0.003774</td>\n",
       "    </tr>\n",
       "    <tr>\n",
       "      <th>11</th>\n",
       "      <td>rxn01423_c_lower_bound</td>\n",
       "      <td>0.012410</td>\n",
       "      <td>0.463830</td>\n",
       "      <td>0.003774</td>\n",
       "    </tr>\n",
       "    <tr>\n",
       "      <th>12</th>\n",
       "      <td>rxn01423_c_upper_bound</td>\n",
       "      <td>0.011965</td>\n",
       "      <td>0.463830</td>\n",
       "      <td>0.003774</td>\n",
       "    </tr>\n",
       "    <tr>\n",
       "      <th>13</th>\n",
       "      <td>rxn01827_c_lower_bound</td>\n",
       "      <td>0.011498</td>\n",
       "      <td>0.425532</td>\n",
       "      <td>0.000000</td>\n",
       "    </tr>\n",
       "    <tr>\n",
       "      <th>14</th>\n",
       "      <td>rxn10878_c_upper_bound</td>\n",
       "      <td>0.010276</td>\n",
       "      <td>0.131915</td>\n",
       "      <td>0.645283</td>\n",
       "    </tr>\n",
       "    <tr>\n",
       "      <th>15</th>\n",
       "      <td>rxn05144_c_upper_bound</td>\n",
       "      <td>0.009950</td>\n",
       "      <td>0.365957</td>\n",
       "      <td>0.018868</td>\n",
       "    </tr>\n",
       "    <tr>\n",
       "      <th>16</th>\n",
       "      <td>rxn11674_c_lower_bound</td>\n",
       "      <td>0.009897</td>\n",
       "      <td>0.668085</td>\n",
       "      <td>0.241509</td>\n",
       "    </tr>\n",
       "    <tr>\n",
       "      <th>17</th>\n",
       "      <td>rxn00245_c_upper_bound</td>\n",
       "      <td>0.009850</td>\n",
       "      <td>0.370213</td>\n",
       "      <td>0.026415</td>\n",
       "    </tr>\n",
       "    <tr>\n",
       "      <th>18</th>\n",
       "      <td>rxn09472_c_lower_bound</td>\n",
       "      <td>0.007656</td>\n",
       "      <td>0.455319</td>\n",
       "      <td>0.901887</td>\n",
       "    </tr>\n",
       "    <tr>\n",
       "      <th>19</th>\n",
       "      <td>rxn12060_c_upper_bound</td>\n",
       "      <td>0.007138</td>\n",
       "      <td>0.548936</td>\n",
       "      <td>0.954717</td>\n",
       "    </tr>\n",
       "  </tbody>\n",
       "</table>\n",
       "</div>"
      ],
      "text/plain": [
       "                Unnamed: 0  importance  fraction active in 0  \\\n",
       "0   rxn02276_c_upper_bound    0.027794              0.570213   \n",
       "1   rxn09072_c_lower_bound    0.023573              0.353191   \n",
       "2   rxn00993_c_lower_bound    0.023040              0.570213   \n",
       "3   rxn02276_c_lower_bound    0.021274              0.570213   \n",
       "4   rxn00993_c_upper_bound    0.020903              0.570213   \n",
       "5   rxn09072_c_upper_bound    0.018565              0.353191   \n",
       "6   rxn21635_c_upper_bound    0.015912              0.395745   \n",
       "7   rxn10878_c_lower_bound    0.015222              0.131915   \n",
       "8   rxn01418_c_upper_bound    0.015014              0.442553   \n",
       "9   rxn01827_c_upper_bound    0.014955              0.425532   \n",
       "10  rxn01418_c_lower_bound    0.013517              0.442553   \n",
       "11  rxn01423_c_lower_bound    0.012410              0.463830   \n",
       "12  rxn01423_c_upper_bound    0.011965              0.463830   \n",
       "13  rxn01827_c_lower_bound    0.011498              0.425532   \n",
       "14  rxn10878_c_upper_bound    0.010276              0.131915   \n",
       "15  rxn05144_c_upper_bound    0.009950              0.365957   \n",
       "16  rxn11674_c_lower_bound    0.009897              0.668085   \n",
       "17  rxn00245_c_upper_bound    0.009850              0.370213   \n",
       "18  rxn09472_c_lower_bound    0.007656              0.455319   \n",
       "19  rxn12060_c_upper_bound    0.007138              0.548936   \n",
       "\n",
       "    fraction active in 1  \n",
       "0               0.000000  \n",
       "1               0.973585  \n",
       "2               0.000000  \n",
       "3               0.000000  \n",
       "4               0.000000  \n",
       "5               0.973585  \n",
       "6               0.022642  \n",
       "7               0.645283  \n",
       "8               0.003774  \n",
       "9               0.000000  \n",
       "10              0.003774  \n",
       "11              0.003774  \n",
       "12              0.003774  \n",
       "13              0.000000  \n",
       "14              0.645283  \n",
       "15              0.018868  \n",
       "16              0.241509  \n",
       "17              0.026415  \n",
       "18              0.901887  \n",
       "19              0.954717  "
      ]
     },
     "execution_count": 3,
     "metadata": {},
     "output_type": "execute_result"
    }
   ],
   "source": [
    "imp_frame.head(20)"
   ]
  },
  {
   "cell_type": "markdown",
   "metadata": {},
   "source": [
    "First, we'll curate rxn02276. This is 4-Maleylacetoacetate cis-trans-isomerase, which transforms 4-Maleylacetoacetate into Fumarylacetoacetate. It is annotated throughout BiGG, KEGG, and MetaCyc. A search on uniprot shows that P. syringae pv. tomato DC3000 has a predicted gene encoding the enzyme for this function, maiA/Maleylacetoacetate isomerase (https://www.uniprot.org/uniprot/Q87Z76). Let's add this function to the draft model."
   ]
  },
  {
   "cell_type": "code",
   "execution_count": 4,
   "metadata": {},
   "outputs": [],
   "source": [
    "rxn1 = ensemble.base_model.reactions.get_by_id('rxn02276_c').copy()\n",
    "rxn1.gene_reaction_rule  = ' PSPTO_3554 '\n",
    "rxn1.notes = {'ensemble_curation_step':1}\n",
    "model.add_reactions([rxn1])"
   ]
  },
  {
   "cell_type": "markdown",
   "metadata": {},
   "source": [
    "The next most important reaction is rxn09072, Pyridoxine 5'-phosphate synthase. The reaction is annotated in UniProt as a homology-inferred match for P. syringae sv. tomato DC3000: https://www.uniprot.org/uniprot/Q87XG4. Based on this, we'll add the function to the draft model."
   ]
  },
  {
   "cell_type": "code",
   "execution_count": 5,
   "metadata": {},
   "outputs": [],
   "source": [
    "rxn2 = ensemble.base_model.reactions.get_by_id('rxn09072_c').copy()\n",
    "rxn2.gene_reaction_rule = ' PSPTO_4214 '\n",
    "rxn2.notes = {'ensemble_curation_step':1}\n",
    "model.add_reactions([rxn2])"
   ]
  },
  {
   "cell_type": "markdown",
   "metadata": {},
   "source": [
    "Working down the list, let's investigate rxn00993, 4-fumarylacetoacetate fumarylhydrolase. This gene/enzyme is predicted in UniProt (https://www.uniprot.org/uniprot/Q87UK4). Let's add it."
   ]
  },
  {
   "cell_type": "code",
   "execution_count": 6,
   "metadata": {},
   "outputs": [],
   "source": [
    "rxn3 = ensemble.base_model.reactions.get_by_id('rxn00993_c').copy()\n",
    "rxn3.gene_reaction_rule = ' PSPTO_5292 '\n",
    "rxn3.notes = {'ensemble_curation_step':1}\n",
    "model.add_reactions([rxn3])"
   ]
  },
  {
   "cell_type": "markdown",
   "metadata": {},
   "source": [
    "The next target is rxn21635, pyridoxal 5'-phosphate synthase (glutamine hydrolyzing). This enzyme has two subunits, encoded by pdxS and pdxT in bacteria. Pseudomonas aeruginosa has these subunits annotated on uniport via homology modeling (https://www.uniprot.org/uniprot/A0A2X4FLN3 and https://www.uniprot.org/uniprot/A0A2X4F5U0) but BLASTing these sequences against the P. syringae sv. tomato DC3000 genome yields no hits. A literature search yields no studies on this reaction in P. syringae, so we will assume that the reaction is NOT present.\n",
    "\n",
    "Next, rxn10878, Pyruvate Oxidase. This enzyme is predicted in UniProt for P. syringae sv. tomato (no information for DC3000 strain) (https://www.uniprot.org/uniprot/A0A2R3FA08), and BLASTing the sequence against the DC3000 genome yields a 99% identity hit which is a pyruvate dehydrogenase (https://www.uniprot.org/uniprot/Q882W2), so it seems like the pyruvate oxidase function is promiscuous for PSPTO_2510 (RefSeq NP_792322.1). This particular function is interesting because DC3000 lacks lactate dehydrogenase necessary to convert pyruvate to lactate (https://www.pnas.org/content/100/18/10181), so an alternative pathway for the breakdown of pyruvate may exist instead. Additionally, infection of arabidopsis with P. syringae pv. tomato DC3000 leads to increased pyruvate levels in infected leaves (https://www.ncbi.nlm.nih.gov/pmc/articles/PMC59291/). Based on the predicted function and the contextual support for a role for alternative pyruvate metabolism."
   ]
  },
  {
   "cell_type": "code",
   "execution_count": 7,
   "metadata": {},
   "outputs": [],
   "source": [
    "rxn4 = ensemble.base_model.reactions.get_by_id('rxn10878_c').copy()\n",
    "rxn4.gene_reaction_rule = ' PSPTO_2510 '\n",
    "rxn4.notes = {'ensemble_curation_step':1}\n",
    "model.add_reactions([rxn4])"
   ]
  },
  {
   "cell_type": "markdown",
   "metadata": {},
   "source": [
    "Next, rxn01418, 2-oxoadipate dehydrogenase complex. This reaction is catalyzed by the 2-oxoglutarate dehydrogenase complex, a large, highly promiscuous complex (https://biocyc.org/META/NEW-IMAGE?type=REACTION-IN-PATHWAY&object=2-KETO-ADIPATE-DEHYDROG-RXN). Three subunits, E1, E2, and E3 make up the complex. PST has annotations for all three (https://www.genome.jp/dbget-bin/www_bget?pst:PSPTO_2199 E1, https://www.genome.jp/dbget-bin/www_bget?pst:PSPTO_2200 E2, https://www.genome.jp/dbget-bin/www_bget?pst:PSPTO_2201 E3), so we will add the reaction."
   ]
  },
  {
   "cell_type": "code",
   "execution_count": 8,
   "metadata": {},
   "outputs": [],
   "source": [
    "rxn5 = ensemble.base_model.reactions.get_by_id('rxn01418_c').copy()\n",
    "rxn5.gene_reaction_rule = ' (PSPTO_2199 and PSPTO_2200 and PSPTO_2201) '\n",
    "rxn5.notes = {'ensemble_curation_step':1}\n",
    "model.add_reactions([rxn5])"
   ]
  },
  {
   "cell_type": "code",
   "execution_count": 9,
   "metadata": {},
   "outputs": [],
   "source": [
    "cobra.io.write_sbml_model(model,'../results/model_post_ensemble_curation_round1.xml')"
   ]
  },
  {
   "cell_type": "code",
   "execution_count": null,
   "metadata": {},
   "outputs": [],
   "source": []
  },
  {
   "cell_type": "code",
   "execution_count": null,
   "metadata": {},
   "outputs": [],
   "source": []
  },
  {
   "cell_type": "code",
   "execution_count": 10,
   "metadata": {},
   "outputs": [],
   "source": [
    "#http://modelseed.org/biochem/reactions/rxn01827 - Phil"
   ]
  },
  {
   "cell_type": "code",
   "execution_count": 11,
   "metadata": {},
   "outputs": [],
   "source": [
    "#http://modelseed.org/biochem/reactions/rxn01423 - Phil"
   ]
  }
 ],
 "metadata": {
  "kernelspec": {
   "display_name": "psy_recon",
   "language": "python",
   "name": "psy_recon"
  },
  "language_info": {
   "codemirror_mode": {
    "name": "ipython",
    "version": 3
   },
   "file_extension": ".py",
   "mimetype": "text/x-python",
   "name": "python",
   "nbconvert_exporter": "python",
   "pygments_lexer": "ipython3",
   "version": "3.5.2"
  }
 },
 "nbformat": 4,
 "nbformat_minor": 2
}
