{
 "cells": [
  {
   "cell_type": "code",
   "execution_count": 1,
   "metadata": {},
   "outputs": [],
   "source": [
    "import cobra\n",
    "from cobra import Reaction, Metabolite, Model"
   ]
  },
  {
   "cell_type": "code",
   "execution_count": 2,
   "metadata": {},
   "outputs": [],
   "source": [
    "#uploading model\n",
    "model = cobra.io.read_sbml_model(\"../results/reconstructions/psy_6_lipid.xml\")\n",
    "universal = cobra.io.load_json_model('../data/modelseed_data/seed_universal.json')"
   ]
  },
  {
   "cell_type": "code",
   "execution_count": 3,
   "metadata": {},
   "outputs": [],
   "source": [
    "dna_c = Metabolite('DNA_c',\n",
    "    name='DNA Macromolecule',\n",
    "    compartment='c')\n",
    "rna_c = Metabolite('RNA_c',\n",
    "    name='RNA Macromolecule',\n",
    "    compartment='c')"
   ]
  },
  {
   "cell_type": "code",
   "execution_count": 4,
   "metadata": {},
   "outputs": [],
   "source": [
    "#DNA\n",
    "#taken directly from the genome sequencing file\n",
    "dna = Reaction(\"dna\")\n",
    "dna.name = \"Biomass Componant - DNA\"\n",
    "dna.lower_bound = 0\n",
    "dna.upper_bound = 1000\n",
    "dna.subsystem = \"Biomass production\"\n",
    "rna = Reaction(\"rna\")\n",
    "rna.name = \"Biomass Componant - RNA\"\n",
    "rna.lower_bound = 0\n",
    "rna.upper_bound = 1000\n",
    "rna.subsystem = \"Biomass production\"\n",
    "\n",
    "#these should be in the dNMP forms, TAGC order\n",
    "dna.add_metabolites({\n",
    "                    model.metabolites.cpd00298_c: -0.21916914914113794, \n",
    "                    model.metabolites.cpd00294_c: -0.21916914914113794, \n",
    "                    model.metabolites.cpd00296_c: -0.28083085085886206, \n",
    "                    model.metabolites.cpd00206_c: -0.28083085085886206,\n",
    "                    dna_c : 1})\n",
    "#RNA\n",
    "##look at protein coding fasta file, make Ts Us \n",
    "#these should be in the NMP forms,  AUGC order\n",
    "rna.add_metabolites({\n",
    "                    model.metabolites.cpd00018_c: -0.20344406138661808, \n",
    "                    model.metabolites.cpd00091_c: -0.20344406138661808, \n",
    "                    model.metabolites.cpd00126_c: -0.2965559386133819, \n",
    "                    model.metabolites.cpd00046_c: -0.2965559386133819,\n",
    "                    rna_c : 1})\n",
    "model.add_reactions([dna, rna])"
   ]
  },
  {
   "cell_type": "code",
   "execution_count": 12,
   "metadata": {},
   "outputs": [],
   "source": [
    "#PROTEIN\n",
    "protein_c = Metabolite(\"protein_c\", name = \"Protein Macromolecule\", compartment = \"c\")\n",
    "protein = Reaction(\"protein\")\n",
    "protein.name = \"Bomass Componant - Protein\"\n",
    "protein.lower_bound = 0\n",
    "protein.upper_bound = 1000\n",
    "protein.subsytem = \"Biomass production\"\n",
    "protein.add_metabolites({protein_c:1,\n",
    "                         model.metabolites.cpd00035_c: -0.10617216912031968, \n",
    "                         model.metabolites.cpd00066_c: -0.036319608590392315, \n",
    "                         model.metabolites.cpd00132_c: -0.03194521851573635, \n",
    "                         model.metabolites.cpd00129_c: -0.04784072660144642, \n",
    "                         model.metabolites.cpd00107_c: -0.11392469198081723, \n",
    "                         model.metabolites.cpd00033_c: -0.07671897063326497, \n",
    "                         model.metabolites.cpd00051_c: -0.0635379745301785, \n",
    "                         model.metabolites.cpd00053_c: -0.045577256475947736, \n",
    "                         model.metabolites.cpd00084_c: -0.009789645973446356, \n",
    "                         model.metabolites.cpd00023_c: -0.05656141989518646, \n",
    "                         model.metabolites.cpd00119_c: -0.02294861317020194, \n",
    "                         model.metabolites.cpd00039_c: -0.037538357833148656, \n",
    "                         model.metabolites.cpd00060_c: -0.023911276376861718, \n",
    "                         model.metabolites.cpd00156_c: -0.07080586145139653, \n",
    "                         model.metabolites.cpd00054_c: -0.06144688059671902, \n",
    "                         model.metabolites.cpd00065_c: -0.013921718078462559, \n",
    "                         model.metabolites.cpd00322_c: -0.04981121227274429, \n",
    "                         model.metabolites.cpd00161_c: -0.05105143969917326, \n",
    "                         model.metabolites.cpd00041_c: -0.05461736891148565, \n",
    "                         model.metabolites.cpd00069_c: -0.025559589293070367})\n",
    "model.add_reactions([protein])"
   ]
  },
  {
   "cell_type": "code",
   "execution_count": null,
   "metadata": {},
   "outputs": [],
   "source": [
    "#still need to actually save metabolites to model\n",
    "#save model with new exchange reactions\n",
    "cobra.io.write_sbml_model(current_model, \"psy_6_dna_rna.xml\", use_fbc_package=True)"
   ]
  },
  {
   "cell_type": "code",
   "execution_count": 16,
   "metadata": {},
   "outputs": [
    {
     "data": {
      "text/html": [
       "\n",
       "        <table>\n",
       "            <tr>\n",
       "                <td><strong>Reaction identifier</strong></td><td>dna</td>\n",
       "            </tr><tr>\n",
       "                <td><strong>Name</strong></td><td>Biomass Componant - DNA</td>\n",
       "            </tr><tr>\n",
       "                <td><strong>Memory address</strong></td>\n",
       "                <td>0x012405d9e8</td>\n",
       "            </tr><tr>\n",
       "                <td><strong>Stoichiometry</strong></td>\n",
       "                <td>\n",
       "                    <p style='text-align:right'>0.28083085085886206 cpd00206_c + 0.21916914914113794 cpd00294_c + 0.28083085085886206 cpd00296_c + 0.21916914914113794 cpd00298_c --> DNA_c</p>\n",
       "                    <p style='text-align:right'>0.28083085085886206 dCMP + 0.21916914914113794 dAMP + 0.28083085085886206 dGMP + 0.21916914914113794 dTMP --> DNA Macromolecule</p>\n",
       "                </td>\n",
       "            </tr><tr>\n",
       "                <td><strong>GPR</strong></td><td></td>\n",
       "            </tr><tr>\n",
       "                <td><strong>Lower bound</strong></td><td>0</td>\n",
       "            </tr><tr>\n",
       "                <td><strong>Upper bound</strong></td><td>1000</td>\n",
       "            </tr>\n",
       "        </table>\n",
       "        "
      ],
      "text/plain": [
       "<Reaction dna at 0x12405d9e8>"
      ]
     },
     "execution_count": 16,
     "metadata": {},
     "output_type": "execute_result"
    }
   ],
   "source": [
    "model.reactions.dna"
   ]
  },
  {
   "cell_type": "code",
   "execution_count": 21,
   "metadata": {},
   "outputs": [
    {
     "ename": "NameError",
     "evalue": "name 'cpd03587' is not defined",
     "output_type": "error",
     "traceback": [
      "\u001b[0;31m---------------------------------------------------------------------------\u001b[0m",
      "\u001b[0;31mNameError\u001b[0m                                 Traceback (most recent call last)",
      "\u001b[0;32m<ipython-input-21-631347ac168e>\u001b[0m in \u001b[0;36m<module>\u001b[0;34m\u001b[0m\n\u001b[1;32m      7\u001b[0m                            \u001b[0mdna\u001b[0m \u001b[0;34m:\u001b[0m \u001b[0;34m-\u001b[0m\u001b[0;36m.0271\u001b[0m\u001b[0;34m,\u001b[0m\u001b[0;34m\u001b[0m\u001b[0;34m\u001b[0m\u001b[0m\n\u001b[1;32m      8\u001b[0m                            \u001b[0mrna\u001b[0m \u001b[0;34m:\u001b[0m \u001b[0;34m-\u001b[0m\u001b[0;36m.0645\u001b[0m\u001b[0;34m,\u001b[0m\u001b[0;34m\u001b[0m\u001b[0;34m\u001b[0m\u001b[0m\n\u001b[0;32m----> 9\u001b[0;31m                             \u001b[0mcpd03587\u001b[0m \u001b[0;34m:\u001b[0m \u001b[0;34m-\u001b[0m\u001b[0;36m0.034\u001b[0m\u001b[0;34m,\u001b[0m\u001b[0;34m\u001b[0m\u001b[0;34m\u001b[0m\u001b[0m\n\u001b[0m\u001b[1;32m     10\u001b[0m                             \u001b[0mglycogen\u001b[0m \u001b[0;34m:\u001b[0m \u001b[0;34m-\u001b[0m\u001b[0;36m0.025\u001b[0m\u001b[0;34m,\u001b[0m\u001b[0;34m\u001b[0m\u001b[0;34m\u001b[0m\u001b[0m\n\u001b[1;32m     11\u001b[0m                            biomass : 1})\n",
      "\u001b[0;31mNameError\u001b[0m: name 'cpd03587' is not defined"
     ]
    }
   ],
   "source": [
    "biomass_pto = Reaction('biomass_pto')\n",
    "biomass_pto.name = \"Biomass Equation, Pto Specific\"\n",
    "biomass_pto.lower_bound = 0\n",
    "biomass_pto.upper_bound = 1000\n",
    "biomass_pto.add_metabolites({protein:-.229,\n",
    "                           model.metabolites.phospholipid : -.5924,\n",
    "                           dna : -.0271,\n",
    "                           rna : -.0645,\n",
    "                            cpd03587 : -0.034,\n",
    "                            glycogen : -0.025,\n",
    "                           biomass : 1})"
   ]
  },
  {
   "cell_type": "code",
   "execution_count": null,
   "metadata": {},
   "outputs": [],
   "source": []
  }
 ],
 "metadata": {
  "kernelspec": {
   "display_name": "Python 3",
   "language": "python",
   "name": "python3"
  },
  "language_info": {
   "codemirror_mode": {
    "name": "ipython",
    "version": 3
   },
   "file_extension": ".py",
   "mimetype": "text/x-python",
   "name": "python",
   "nbconvert_exporter": "python",
   "pygments_lexer": "ipython3",
   "version": "3.6.8"
  }
 },
 "nbformat": 4,
 "nbformat_minor": 2
}
