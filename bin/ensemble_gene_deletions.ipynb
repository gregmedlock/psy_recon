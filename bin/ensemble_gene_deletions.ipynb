{
 "cells": [
  {
   "cell_type": "code",
   "execution_count": 5,
   "metadata": {},
   "outputs": [],
   "source": [
    "import medusa\n",
    "import pandas as pd\n",
    "\n",
    "from pickle import load\n",
    "\n",
    "from medusa.flux_analysis.deletion import ensemble_single_gene_deletion\n",
    "\n",
    "from cobra.flux_analysis.deletion import single_gene_deletion"
   ]
  },
  {
   "cell_type": "code",
   "execution_count": 6,
   "metadata": {},
   "outputs": [],
   "source": [
    "# load the previously generated ensemble\n",
    "with open('../results/ensembles/psy_ensemble_500_SEED_newbiomass.pickle', 'rb') as infile:\n",
    "    ensemble = load(infile)"
   ]
  },
  {
   "cell_type": "code",
   "execution_count": 7,
   "metadata": {},
   "outputs": [
    {
     "data": {
      "text/plain": [
       "[<Member PST_gapfilled_0 at 0x125112c18>,\n",
       " <Member PST_gapfilled_21 at 0x125112c50>,\n",
       " <Member PST_gapfilled_22 at 0x125112c88>,\n",
       " <Member PST_gapfilled_83 at 0x125112cc0>,\n",
       " <Member PST_gapfilled_84 at 0x125112cf8>,\n",
       " <Member PST_gapfilled_114 at 0x125112d30>,\n",
       " <Member PST_gapfilled_115 at 0x125112d68>,\n",
       " <Member PST_gapfilled_118 at 0x125112da0>,\n",
       " <Member PST_gapfilled_119 at 0x125112dd8>,\n",
       " <Member PST_gapfilled_184 at 0x125112e10>,\n",
       " <Member PST_gapfilled_185 at 0x125112e48>,\n",
       " <Member PST_gapfilled_203 at 0x125112e80>,\n",
       " <Member PST_gapfilled_204 at 0x125112eb8>,\n",
       " <Member PST_gapfilled_243 at 0x125112ef0>,\n",
       " <Member PST_gapfilled_244 at 0x125112f28>,\n",
       " <Member PST_gapfilled_246 at 0x125112f60>,\n",
       " <Member PST_gapfilled_247 at 0x125112f98>,\n",
       " <Member PST_gapfilled_290 at 0x125112fd0>,\n",
       " <Member PST_gapfilled_291 at 0x125131048>,\n",
       " <Member PST_gapfilled_425 at 0x125131080>,\n",
       " <Member PST_gapfilled_426 at 0x1251310b8>,\n",
       " <Member PST_gapfilled_481 at 0x1251310f0>,\n",
       " <Member PST_gapfilled_482 at 0x125131128>]"
      ]
     },
     "execution_count": 7,
     "metadata": {},
     "output_type": "execute_result"
    }
   ],
   "source": [
    "ensemble.base_model.objective.expression\n",
    "ensemble.members"
   ]
  },
  {
   "cell_type": "code",
   "execution_count": 8,
   "metadata": {},
   "outputs": [
    {
     "name": "stdout",
     "output_type": "stream",
     "text": [
      "performing deletions for PST_gapfilled_247\n",
      "performing deletions for PST_gapfilled_482\n",
      "performing deletions for PST_gapfilled_426\n",
      "performing deletions for PST_gapfilled_118\n",
      "performing deletions for PST_gapfilled_291\n",
      "performing deletions for PST_gapfilled_83\n",
      "performing deletions for PST_gapfilled_481\n",
      "performing deletions for PST_gapfilled_119\n",
      "performing deletions for PST_gapfilled_114\n",
      "performing deletions for PST_gapfilled_203\n",
      "performing deletions for PST_gapfilled_185\n",
      "performing deletions for PST_gapfilled_0\n",
      "performing deletions for PST_gapfilled_243\n",
      "performing deletions for PST_gapfilled_425\n",
      "performing deletions for PST_gapfilled_184\n",
      "performing deletions for PST_gapfilled_244\n",
      "performing deletions for PST_gapfilled_204\n",
      "performing deletions for PST_gapfilled_84\n",
      "performing deletions for PST_gapfilled_21\n",
      "performing deletions for PST_gapfilled_290\n",
      "performing deletions for PST_gapfilled_22\n",
      "performing deletions for PST_gapfilled_246\n",
      "performing deletions for PST_gapfilled_115\n"
     ]
    }
   ],
   "source": [
    "# make sure all exchange reactions are open to calculate\n",
    "# growth rate in complete media\n",
    "ex_rxns = [rxn for rxn in ensemble.base_model.reactions if\n",
    "              rxn.id.startswith('EX_')]\n",
    "for rxn in ex_rxns:\n",
    "    rxn.lower_bound = -1000\n",
    "\n",
    "# identify genes that are essential in all ensemble members by opening \n",
    "# all reactions and testing for essentiality\n",
    "\n",
    "# Open all reactions in the ensemble\n",
    "for feature in ensemble.features:\n",
    "    component = ensemble.base_model.reactions.get_by_id(feature.base_component.id)\n",
    "    component.lower_bound = -1000\n",
    "    component.upper_bound = 1000\n",
    "\n",
    "# Perform the essentiality simulations with all exchanges open in the base model\n",
    "always_essential = single_gene_deletion(ensemble.base_model)\n",
    "\n",
    "# Filter by always being essential\n",
    "always_essential = always_essential.loc[always_essential['growth'] < 1E-6]\n",
    "always_essential.index = [list(gene)[0] for gene in always_essential.index]\n",
    "always_essential_genes = [ensemble.base_model.genes.get_by_id(g) \n",
    "                          for g in always_essential.index]\n",
    "genes_to_ko = [g for g in ensemble.base_model.genes if g not in always_essential_genes]\n",
    "\n",
    "# Perform the knockouts for genes that weren't essential in the opened base model\n",
    "gene_knockout_results = ensemble_single_gene_deletion(ensemble, specific_genes = genes_to_ko)\n",
    "knockout_df = pd.DataFrame()\n",
    "for member in gene_knockout_results:\n",
    "    gene_knockout_results[member].index = [list(gene)[0] for gene in gene_knockout_results[member].index]\n",
    "    knockout_df[member] = gene_knockout_results[member]['growth']\n",
    "\n",
    "knockout_df.to_csv('../results/ensemble_gene_knockouts_newbiomass.tsv', sep = '\\t')"
   ]
  },
  {
   "cell_type": "code",
   "execution_count": null,
   "metadata": {},
   "outputs": [],
   "source": []
  }
 ],
 "metadata": {
  "kernelspec": {
   "display_name": "Python 3",
   "language": "python",
   "name": "python3"
  },
  "language_info": {
   "codemirror_mode": {
    "name": "ipython",
    "version": 3
   },
   "file_extension": ".py",
   "mimetype": "text/x-python",
   "name": "python",
   "nbconvert_exporter": "python",
   "pygments_lexer": "ipython3",
   "version": "3.6.8"
  }
 },
 "nbformat": 4,
 "nbformat_minor": 2
}
