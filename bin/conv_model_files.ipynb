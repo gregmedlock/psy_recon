{
 "cells": [
  {
   "cell_type": "code",
   "execution_count": 1,
   "metadata": {},
   "outputs": [],
   "source": [
    "import cobra\n"
   ]
  },
  {
   "cell_type": "code",
   "execution_count": 4,
   "metadata": {},
   "outputs": [
    {
     "data": {
      "text/html": [
       "\n",
       "        <table>\n",
       "            <tr>\n",
       "                <td><strong>Name</strong></td>\n",
       "                <td>PST</td>\n",
       "            </tr><tr>\n",
       "                <td><strong>Memory address</strong></td>\n",
       "                <td>0x01325ef5320</td>\n",
       "            </tr><tr>\n",
       "                <td><strong>Number of metabolites</strong></td>\n",
       "                <td>242</td>\n",
       "            </tr><tr>\n",
       "                <td><strong>Number of reactions</strong></td>\n",
       "                <td>149</td>\n",
       "            </tr><tr>\n",
       "                <td><strong>Objective expression</strong></td>\n",
       "                <td>0</td>\n",
       "            </tr><tr>\n",
       "                <td><strong>Compartments</strong></td>\n",
       "                <td>c, e</td>\n",
       "            </tr>\n",
       "          </table>"
      ],
      "text/plain": [
       "<Model PST at 0x1325ef5320>"
      ]
     },
     "execution_count": 4,
     "metadata": {},
     "output_type": "execute_result"
    }
   ],
   "source": [
    "#uploading json file\n",
    "pst_feeder = cobra.io.load_json_model('../results/reconstructions/pst_feeder.json')\n",
    "#summary of model\n",
    "pst_feeder"
   ]
  },
  {
   "cell_type": "code",
   "execution_count": 7,
   "metadata": {},
   "outputs": [],
   "source": [
    "#reloading file as sbml files\n",
    "cobra.io.write_sbml_model(pst_feeder, filename='../results/reconstructions/pst_feeder.sbml', use_fbc_package = True)"
   ]
  },
  {
   "cell_type": "code",
   "execution_count": 8,
   "metadata": {},
   "outputs": [],
   "source": [
    "#uploading json file\n",
    "v2 = cobra.io.load_json_model('../results/reconstructions/PST_pao1_temp_biomass_v2.json')\n",
    "#reloading file as sbml files\n",
    "cobra.io.write_sbml_model(v2, filename='../results/reconstructions/PST_pao1_temp_biomass_v2.sbml', use_fbc_package = True)"
   ]
  },
  {
   "cell_type": "code",
   "execution_count": 9,
   "metadata": {},
   "outputs": [],
   "source": [
    "#uploading json file\n",
    "v3 = cobra.io.load_json_model('../results/reconstructions/PST_pao1_temp_biomass_v3.json')\n",
    "#reloading file as sbml files\n",
    "cobra.io.write_sbml_model(v3, filename='../results/reconstructions/PST_pao1_temp_biomass_v3.sbml', use_fbc_package = True)"
   ]
  },
  {
   "cell_type": "code",
   "execution_count": null,
   "metadata": {},
   "outputs": [],
   "source": [
    "#uploading json file\n",
    "v4 = cobra.io.load_json_model('../results/reconstructions/PST_pao1_temp_biomass_v4.json')\n",
    "#reloading file as sbml files\n",
    "cobra.io.write_sbml_model(v4, filename='../results/reconstructions/PST_pao1_temp_biomass_v3.sbml', use_fbc_package = True)"
   ]
  },
  {
   "cell_type": "code",
   "execution_count": 11,
   "metadata": {},
   "outputs": [],
   "source": [
    "#uploading json file\n",
    "v1 = cobra.io.load_json_model('../results/reconstructions/PST_pao1_temp_biomass.json')\n",
    "#reloading file as sbml files\n",
    "cobra.io.write_sbml_model(v1, filename='../results/reconstructions/PST_pao1_temp_biomass.sbml', use_fbc_package = True)"
   ]
  }
 ],
 "metadata": {
  "kernelspec": {
   "display_name": "Python 3",
   "language": "python",
   "name": "python3"
  },
  "language_info": {
   "codemirror_mode": {
    "name": "ipython",
    "version": 3
   },
   "file_extension": ".py",
   "mimetype": "text/x-python",
   "name": "python",
   "nbconvert_exporter": "python",
   "pygments_lexer": "ipython3",
   "version": "3.7.3"
  }
 },
 "nbformat": 4,
 "nbformat_minor": 2
}
