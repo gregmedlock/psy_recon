{
 "cells": [
  {
   "cell_type": "markdown",
   "metadata": {},
   "source": [
    "lipid to add to biomass equation\n",
    "add carbohydrate storage molecules for glycogen as well"
   ]
  },
  {
   "cell_type": "code",
   "execution_count": 14,
   "metadata": {},
   "outputs": [],
   "source": [
    "import cobra\n",
    "from cobra import Metabolite, Gene, Reaction"
   ]
  },
  {
   "cell_type": "code",
   "execution_count": 15,
   "metadata": {},
   "outputs": [],
   "source": [
    "model = cobra.io.read_sbml_model(\"../results/reconstructions/psy_cor_6.xml\")\n",
    "universal = cobra.io.load_json_model(\"../data/modelseed_data/seed_universal.json\")"
   ]
  },
  {
   "cell_type": "markdown",
   "metadata": {},
   "source": [
    "#from the paper Grouping of Plant-Pathogenic and Some Other Pseudomonas spp. by Using Cellular Fatty Acid  Profiles D. E. STEAD "
   ]
  },
  {
   "cell_type": "code",
   "execution_count": 16,
   "metadata": {},
   "outputs": [],
   "source": [
    "#import all of the required metabolites to model\n",
    "cpd01107_c = universal.metabolites.cpd01107_c.copy()\n",
    "cpd01535_c = universal.metabolites.cpd01535_c.copy()\n",
    "cpd03847_c = universal.metabolites.cpd03847_c.copy()\n",
    "cpd00214_c = universal.metabolites.cpd00214_c.copy()\n",
    "cpd01080_c = universal.metabolites.cpd00536_c.copy()\n",
    "cpd00536_c = universal.metabolites.cpd00536_c.copy()\n",
    "cpd05274_c = Metabolite(\n",
    "    'cpd05274_c',\n",
    "    formula = 'C16H29O2',\n",
    "    name = 'Palmitoleic Acid',\n",
    "    compartment = 'c')\n",
    "\n",
    "#import all the necessary phospho-head group\n",
    "cpd11652_c = universal.metabolites.cpd11652_c.copy()\n",
    "cpd12801_c = universal.metabolites.cpd12801_c.copy()\n",
    "\n",
    "cpd11456_c = Metabolite(\n",
    "    'cpd11456_c',\n",
    "    formula = 'C7H11NO8PR2',\n",
    "    name = 'Phosphotidylethanolamine',\n",
    "    compartment = 'c')\n",
    "cpd11715_c = Metabolite(\n",
    "    'cpd11715_c',\n",
    "    formula = 'C11H16O13PR2',\n",
    "    name = 'Phosphotidylinositol',\n",
    "    compartment = 'c')\n",
    "cpd11455_c = Metabolite(\n",
    "    'cpd11455_c',\n",
    "    formula = 'C8H10NO10PR2',\n",
    "    name = 'Phosphotidylserine',\n",
    "    compartment = 'c')"
   ]
  },
  {
   "cell_type": "code",
   "execution_count": 17,
   "metadata": {},
   "outputs": [],
   "source": [
    "#PHOSPHOLIPID\n",
    "fatty_acid = Metabolite(\n",
    "    'fatty_acid',\n",
    "    name = \"Fatty Acid Compnant of Biomass\",\n",
    "    compartment = \"c\")\n",
    "\n",
    "phospholipid_head = Metabolite(\n",
    "    'phospholipid_head',\n",
    "    name = \"Phospholipid Head componant of Biomass\",\n",
    "    compartment = \"c\")\n",
    "\n",
    "phospholipid = Metabolite(\n",
    "    'phospholipid',\n",
    "    name = \"Phospholipid componant of Biomass\",\n",
    "    compartment = \"c\")\n",
    "\n",
    "pslpd_fa = Reaction(\"pslpdfa_c\")\n",
    "pslpd_fa.name = \"Phosholipid Fatty Acid Biomass componant\"\n",
    "pslpd_fa.substems = \"Biomass\"\n",
    "pslpd_fa.lower_bound = 0\n",
    "pslpd_fa.upper_bound = 1000\n",
    "\n",
    "pslpd_fa.add_metabolites({fatty_acid : 1,\n",
    "                         cpd01107_c : -0.033,\n",
    "                         cpd01535_c : -0.113,\n",
    "                         cpd03847_c : -0.002,\n",
    "                         cpd00214_c : -0.260,\n",
    "                         cpd05274_c : -0.405,\n",
    "                         cpd01080_c : -0.009,\n",
    "                         cpd00536_c : -0.178})\n",
    "\n",
    "pslpd_hg = Reaction(\"pslpdhg_c\")\n",
    "pslpd_hg.name = \"Phosholipid Head Group Biomass componant\"\n",
    "pslpd_hg.substems = \"Biomass\"\n",
    "pslpd_hg.lower_bound = 0\n",
    "pslpd_hg.upper_bound = 1000\n",
    "\n",
    "pslpd_hg.add_metabolites({phospholipid_head : 1,\n",
    "                        cpd11456_c: -0.2,\n",
    "                        cpd11652_c: -0.2,\n",
    "                        cpd11715_c: -0.2,\n",
    "                        cpd12801_c: -0.2,\n",
    "                        cpd11455_c: -0.2})\n",
    "\n",
    "pslpd_c = Reaction(\"pslpd_c\")\n",
    "pslpd_c.name = \"Phospholipid Formation, Biomass\"\n",
    "pslpd_c.subsystem = \"Biomass\"\n",
    "pslpd_c.lower_bound = 0\n",
    "pslpd_c.upper_bound = 1000\n",
    "\n",
    "pslpd_c.add_metabolites({phospholipid : 1,\n",
    "                        phospholipid_head : -0.33,\n",
    "                        fatty_acid : -0.67})\n",
    "model.add_reactions([pslpd_c, pslpd_hg, pslpd_fa])"
   ]
  },
  {
   "cell_type": "code",
   "execution_count": 18,
   "metadata": {},
   "outputs": [],
   "source": [
    "#Carbohydrate storage in the form of glycogen\n",
    "rxn09398_c = universal.reactions.rxn09398_c.copy()\n",
    "model.add_reactions([rxn09398_c])"
   ]
  },
  {
   "cell_type": "code",
   "execution_count": 19,
   "metadata": {},
   "outputs": [],
   "source": [
    "cobra.io.write_sbml_model(model,\"../results/reconstructions/psy_6_lipid.xml\")"
   ]
  },
  {
   "cell_type": "code",
   "execution_count": null,
   "metadata": {},
   "outputs": [],
   "source": []
  }
 ],
 "metadata": {
  "kernelspec": {
   "display_name": "Python 3",
   "language": "python",
   "name": "python3"
  },
  "language_info": {
   "codemirror_mode": {
    "name": "ipython",
    "version": 3
   },
   "file_extension": ".py",
   "mimetype": "text/x-python",
   "name": "python",
   "nbconvert_exporter": "python",
   "pygments_lexer": "ipython3",
   "version": "3.7.3"
  }
 },
 "nbformat": 4,
 "nbformat_minor": 2
}
