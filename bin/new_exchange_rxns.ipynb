{
 "cells": [
  {
   "cell_type": "code",
   "execution_count": 1,
   "metadata": {},
   "outputs": [],
   "source": [
    "import cobra\n",
    "from cobra import Reaction, Metabolite, Model\n",
    "import pandas as pd\n",
    "import numpy"
   ]
  },
  {
   "cell_type": "code",
   "execution_count": 2,
   "metadata": {},
   "outputs": [
    {
     "name": "stdout",
     "output_type": "stream",
     "text": [
      "       met_id                     met_name  source\n",
      "0    cpd23643                Levoglucosan   Mhamdi\n",
      "1    cpd00881                Caffeic acid   Mhamdi\n",
      "2    cpd03847           Tetradecanoic acid  Mhamdi\n",
      "3    cpd00033                      Glycine  Mhamdi\n",
      "4    cpd00383              Shikimic acid    Mhamdi\n",
      "5    cpd00373  trans ou cis Sinapinic acid  Mhamdi\n",
      "6    cpd00121                Myo-inositol   Mhamdi\n",
      "7    cpd00214               Palmitic acid   Mhamdi\n",
      "8    cpd00139               Glycolic acid   Mhamdi\n",
      "9    cpd01122               Linoleic acid   Mhamdi\n",
      "10   cpd00129                     Proline   Mhamdi\n",
      "11   cpd01138                Threonic acid  Mhamdi\n",
      "12   cpd00069                    Tyrosine   Mhamdi\n",
      "13   cpd01107              Decanoic acid    Mhamdi\n",
      "14   cpd00009            Phosphoric acid    Mhamdi\n",
      "15   cpd00036              Succinic acid    Mhamdi\n",
      "16   cpd00132                 Asparagine    Mhamdi\n",
      "17   cpd00722            O-Acetyl-L-serine  Mhamdi\n",
      "18   cpd00136       p-Hydroxybenzoic acid   Mhamdi\n",
      "19   cpd00137                 Citric acid   Mhamdi\n",
      "20   cpd00066               Phenylalanine   Mhamdi\n",
      "21   cpd00180                 Oxalic acid   Mhamdi\n",
      "22   cpd00323             Pipecolic acid    Mhamdi\n",
      "23   cpd00159                Lactic acid    Mhamdi\n",
      "24   cpd00053                   Glutamine   Mhamdi\n",
      "25   cpd00033                     Glycine   Mhamdi\n",
      "26   cpd01210            Beta-Sitosterol    Mhamdi\n",
      "27   cpd01080               Stearic acid    Mhamdi\n",
      "28   cpd00161    Threonic acid-1,4-lactone  Mhamdi\n",
      "29   cpd00314                    Mannitol   Mhamdi\n",
      "..        ...                          ...     ...\n",
      "85   cpd00223               Glyceric acid   Mhamdi\n",
      "86   cpd00607             Citramalic acid   Mhamdi\n",
      "87   cpd00281                       GABA    Mhamdi\n",
      "88   cpd00264                  Spermidine   Mhamdi\n",
      "89   cpd00169       3-phosphoglyceric acid      Ma\n",
      "90   cpd00871        Ribulose bisphosphate      Ma\n",
      "91   cpd19036    Fructose 1,6-bisphosphate      Ma\n",
      "92   cpd19035         Fructose 6-phosphate      Ma\n",
      "93   cpd00863          Glucose-6-phosphate      Ma\n",
      "94   cpd00089          Glucose-1-phosphate      Ma\n",
      "95   cpd00095   Dihydroxyacetone phosphate      Ma\n",
      "96   cpd00238    Sedoheptulose 7-phosphate      Ma\n",
      "97   cpd00101           Ribose 5-phosphate      Ma\n",
      "98   cpd00171        Ribulose 5-phosphate       Ma\n",
      "99   cpd00198         Xylulose 5-phosphate      Ma\n",
      "100  cpd00026                  UDP glucose      Ma\n",
      "101  cpd00387      ADP diphosphate glucose      Ma\n",
      "102  cpd01693          Sucrose 6-phosphate      Ma\n",
      "103  cpd00523       Trehalose-6-phosphate       Ma\n",
      "104  cpd00061      Phosphoenolpyruvic acid      Ma\n",
      "105  cpd00020                     Pyruvate      Ma\n",
      "106  cpd00223                    Glycerate      Ma\n",
      "107  cpd00139                    Glycolate      Ma\n",
      "108  cpd00040                   Glyoxylate      Ma\n",
      "109  cpd00169                        2-PGA      Ma\n",
      "110  cpd00331                    Aconitate      Ma\n",
      "111  cpd00024                          AKG      Ma\n",
      "112  cpd00036                    Succinate      Ma\n",
      "113  cpd00106                     Fumarate      Ma\n",
      "114  cpd00130                       Malate      Ma\n",
      "\n",
      "[115 rows x 3 columns]\n"
     ]
    }
   ],
   "source": [
    "#loading new metabolite data\n",
    "current_model = cobra.io.read_sbml_model(\"results/reconstructions/v4_with_all_annotations.xml\")\n",
    "\n",
    "#loading new metabolite data\n",
    "meta_data = pd.read_csv(\"data/metabolite_ids_Mhamdi_Ma.csv\")\n",
    "print(meta_data)"
   ]
  },
  {
   "cell_type": "code",
   "execution_count": 4,
   "metadata": {},
   "outputs": [],
   "source": [
    "\n",
    "#checking for metabolite in current model (cpdXXXXX_e or _c)\n",
    "\n",
    "in_mod = []\n",
    "out_mod = []\n",
    "\n",
    "met_id = meta_data['met_id'].tolist()\n",
    "\n",
    "for cpd_id in met_id:\n",
    "    try:\n",
    "        current_model.metabolites.get_by_id(str(cpd_id)+\"_c\" or \"_e\")\n",
    "        in_mod.append(cpd_id)\n",
    "    except:\n",
    "         out_mod.append(cpd_id)\n",
    "            "
   ]
  },
  {
   "cell_type": "code",
   "execution_count": 6,
   "metadata": {},
   "outputs": [],
   "source": [
    "#checking if metabolite has exchange reaction\n",
    "RX_in_mod = []\n",
    "RX_out_mod = []\n",
    "\n",
    "for cpd_id in in_mod:\n",
    "    try:\n",
    "        current_model.reactions.get_by_id(\"EX_\"+str(cpd_id))\n",
    "        RX_in_mod.append(cpd_id)\n",
    "    except:\n",
    "        RX_out_mod.append(cpd_id)\n"
   ]
  },
  {
   "cell_type": "code",
   "execution_count": 7,
   "metadata": {},
   "outputs": [
    {
     "name": "stderr",
     "output_type": "stream",
     "text": [
      "Ignoring reaction 'EX_cpd00033' since it already exists.\n",
      "Ignoring reaction 'EX_cpd00033' since it already exists.\n",
      "Ignoring reaction 'EX_cpd00161' since it already exists.\n",
      "Ignoring reaction 'EX_cpd00020' since it already exists.\n",
      "Ignoring reaction 'EX_cpd00223' since it already exists.\n",
      "Ignoring reaction 'EX_cpd00169' since it already exists.\n",
      "Ignoring reaction 'EX_cpd00036' since it already exists.\n",
      "Ignoring reaction 'EX_cpd00106' since it already exists.\n",
      "Ignoring reaction 'EX_cpd00130' since it already exists.\n"
     ]
    }
   ],
   "source": [
    "#UNNECESSARY all existing metabolites already have exchange rxns\n",
    "#create exchange reaction of existing metabolites w bounds -1000,1000\n",
    "for cpd_id in RX_out_mod:\n",
    "    Ex_rxn = cobra.Reaction(\"EX_\" + str(cpd_id) + \"_c\")\n",
    "    met_obj = current_model.metabolites.get_by_id(str(cpd_id)+\"_c\" or \"_e\")\n",
    "    Ex_rxn.add_metabolites({met_obj.copy():-1})\n",
    "\n",
    "    Ex_rxn.id = \"EX_\"+str(cpd_id)\n",
    "    Ex_rxn.lower_bound = -1000\n",
    "    Ex_rxn.upper_bound = 1000\n",
    "    current_model.add_reaction(Ex_rxn)\n",
    "    \n",
    "    "
   ]
  },
  {
   "cell_type": "code",
   "execution_count": 8,
   "metadata": {},
   "outputs": [],
   "source": [
    "#loading universal model for meatbolites not found in current model\n",
    "universal = cobra.io.load_json_model(\"data/modelseed_data/seed_universal.json\")"
   ]
  },
  {
   "cell_type": "code",
   "execution_count": 11,
   "metadata": {},
   "outputs": [
    {
     "name": "stdout",
     "output_type": "stream",
     "text": [
      "['cpd23643', 'cpd30321', 'cpd23861', 'cpd19036', 'cpd19001', 'cpd05274', 'cpd00724', 'cpd19036', 'cpd19035']\n"
     ]
    }
   ],
   "source": [
    "#checking if metabolites not in model are in universal\n",
    "in_uni = []\n",
    "out_uni = []\n",
    "\n",
    "for cpd_id in out_mod:\n",
    "    try:\n",
    "        universal.metabolites.get_by_id(str(cpd_id)+\"_c\" or \"_e\" or \"\")\n",
    "        in_uni.append(cpd_id)\n",
    "    except:\n",
    "         out_uni.append(cpd_id)\n",
    "\n",
    "print(out_uni)"
   ]
  },
  {
   "cell_type": "code",
   "execution_count": 14,
   "metadata": {},
   "outputs": [
    {
     "name": "stderr",
     "output_type": "stream",
     "text": [
      "Ignoring reaction 'EX_cpd01122' since it already exists.\n",
      "Ignoring reaction 'EX_cpd00059' since it already exists.\n",
      "Ignoring reaction 'EX_cpd00139' since it already exists.\n"
     ]
    }
   ],
   "source": [
    "#make copy of metabolite from universal\n",
    "#create exchange reaction for universal metabolites w bounds -1000,1000\n",
    "for cpd_id in in_uni:\n",
    "    met_obj = universal.metabolites.get_by_id(str(cpd_id)+\"_c\" or \"_e\")\n",
    "    Ex_rxn = cobra.Reaction(\"EX_\" + str(cpd_id))\n",
    "    Ex_rxn.add_metabolites({met_obj.copy():-1})\n",
    "    \n",
    "    Ex_rxn.id = \"EX_\"+str(cpd_id)\n",
    "    Ex_rxn.lower_bound = -1000\n",
    "    Ex_rxn.upper_bound = 1000\n",
    "    current_model.add_reaction(Ex_rxn)\n",
    "    \n"
   ]
  },
  {
   "cell_type": "code",
   "execution_count": 16,
   "metadata": {},
   "outputs": [],
   "source": [
    "#save model with new exchange reactions\n",
    "cobra.io.write_sbml_model(current_model, \"v5_with_all_annotations.xml\", use_fbc_package=True)"
   ]
  },
  {
   "cell_type": "code",
   "execution_count": null,
   "metadata": {},
   "outputs": [],
   "source": [
    "\n"
   ]
  }
 ],
 "metadata": {
  "kernelspec": {
   "display_name": "Python 3",
   "language": "python",
   "name": "python3"
  },
  "language_info": {
   "codemirror_mode": {
    "name": "ipython",
    "version": 3
   },
   "file_extension": ".py",
   "mimetype": "text/x-python",
   "name": "python",
   "nbconvert_exporter": "python",
   "pygments_lexer": "ipython3",
   "version": "3.7.3"
  }
 },
 "nbformat": 4,
 "nbformat_minor": 2
}
