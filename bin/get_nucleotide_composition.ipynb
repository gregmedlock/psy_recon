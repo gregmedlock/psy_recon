{
 "cells": [
  {
   "cell_type": "code",
   "execution_count": 30,
   "metadata": {},
   "outputs": [],
   "source": [
    "from Bio import SeqIO\n",
    "import json"
   ]
  },
  {
   "cell_type": "code",
   "execution_count": 22,
   "metadata": {},
   "outputs": [
    {
     "name": "stdout",
     "output_type": "stream",
     "text": [
      "14739\n",
      "14837\n",
      "18510\n",
      "19387\n",
      "67473\n"
     ]
    }
   ],
   "source": [
    "for rec in SeqIO.parse(\"../data/GCF_000007805.1_ASM780v1_genomic.fna\",\"fasta\"):\n",
    "    A = rec.seq.count('A')\n",
    "    T = rec.seq.count('T')\n",
    "    C = rec.seq.count('C')\n",
    "    G = rec.seq.count('G')\n",
    "    total_bases = A + T + C + G"
   ]
  },
  {
   "cell_type": "code",
   "execution_count": 27,
   "metadata": {},
   "outputs": [
    {
     "name": "stdout",
     "output_type": "stream",
     "text": [
      "{'A': 0.218442932728647, 'T': 0.21989536555362885, 'C': 0.2743319550042239, 'G': 0.2873297467135002}\n"
     ]
    }
   ],
   "source": [
    "#Normalize to total count\n",
    "normalized_bases = {\n",
    "    'A': A/total_bases,\n",
    "    'T': T/total_bases,\n",
    "    'C': C/total_bases,\n",
    "    'G': G/total_bases\n",
    "}\n",
    "print(normalized_bases)"
   ]
  },
  {
   "cell_type": "code",
   "execution_count": 29,
   "metadata": {},
   "outputs": [
    {
     "name": "stdout",
     "output_type": "stream",
     "text": [
      "{'cpd00128_c': 0.218442932728647, 'cpd00151_c': 0.21989536555362885, 'cpd00307_c': 0.2743319550042239, 'cpd00207_c': 0.2873297467135002}\n"
     ]
    }
   ],
   "source": [
    "#covert tp modelseed identifiers\n",
    "letter_to_seed = {\n",
    "    'A': 'cpd00128_c',\n",
    "    'T': 'cpd00151_c',\n",
    "    'C': 'cpd00307_c',\n",
    "    'G': 'cpd00207_c'    \n",
    "}\n",
    "\n",
    "normalized_base_seeds = {letter_to_seed[letter]:value for \n",
    "                          letter,value in normalized_bases.items()}\n",
    "print(normalized_base_seeds)"
   ]
  },
  {
   "cell_type": "code",
   "execution_count": 33,
   "metadata": {},
   "outputs": [],
   "source": [
    "#save the dictionary\n",
    "with open('../results/biomass/nucleotide_composition.json','w') as fp:\n",
    "    json.dump(normalized_base_seeds, fp)"
   ]
  }
 ],
 "metadata": {
  "kernelspec": {
   "display_name": "Python 3",
   "language": "python",
   "name": "python3"
  },
  "language_info": {
   "codemirror_mode": {
    "name": "ipython",
    "version": 3
   },
   "file_extension": ".py",
   "mimetype": "text/x-python",
   "name": "python",
   "nbconvert_exporter": "python",
   "pygments_lexer": "ipython3",
   "version": "3.7.0"
  }
 },
 "nbformat": 4,
 "nbformat_minor": 2
}
