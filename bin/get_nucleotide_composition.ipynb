{
 "cells": [
  {
   "cell_type": "code",
   "execution_count": 1,
   "metadata": {},
   "outputs": [],
   "source": [
    "from Bio import SeqIO\n",
    "import json"
   ]
  },
  {
   "cell_type": "code",
   "execution_count": 31,
   "metadata": {},
   "outputs": [],
   "source": [
    "for rec in SeqIO.parse(\"../data/GCF_000007805.1_ASM780v1_genomic.fna\",\"fasta\"):\n",
    "    A = rec.seq.count('A')\n",
    "    T = rec.seq.count('T')\n",
    "    C = rec.seq.count('C')\n",
    "    G = rec.seq.count('G')\n",
    "    total_bases = A + T + C + G\n",
    "    \n",
    "A_T = (A+T)/2\n",
    "G_C = (G+C)/2"
   ]
  },
  {
   "cell_type": "code",
   "execution_count": 32,
   "metadata": {},
   "outputs": [
    {
     "name": "stdout",
     "output_type": "stream",
     "text": [
      "{'A': 0.21916914914113794, 'T': 0.21916914914113794, 'C': 0.28083085085886206, 'G': 0.28083085085886206}\n"
     ]
    }
   ],
   "source": [
    "#Normalize to total count\n",
    "\n",
    "normalized_bases = {\n",
    "    'A': A_T/total_bases,\n",
    "    'T': A_T/total_bases,\n",
    "    'C': G_C/total_bases,\n",
    "    'G': G_C/total_bases\n",
    "}\n",
    "print(normalized_bases)"
   ]
  },
  {
   "cell_type": "code",
   "execution_count": 33,
   "metadata": {},
   "outputs": [
    {
     "name": "stdout",
     "output_type": "stream",
     "text": [
      "{'cpd00128_c': 0.21916914914113794, 'cpd00151_c': 0.21916914914113794, 'cpd00307_c': 0.28083085085886206, 'cpd00207_c': 0.28083085085886206}\n"
     ]
    }
   ],
   "source": [
    "#covert tp modelseed identifiers\n",
    "letter_to_seed = {\n",
    "    'A': 'cpd00128_c',\n",
    "    'T': 'cpd00151_c',\n",
    "    'C': 'cpd00307_c',\n",
    "    'G': 'cpd00207_c'    \n",
    "}\n",
    "\n",
    "normalized_base_seeds = {letter_to_seed[letter]:value for \n",
    "                          letter,value in normalized_bases.items()}\n",
    "print(normalized_base_seeds)"
   ]
  },
  {
   "cell_type": "code",
   "execution_count": 34,
   "metadata": {},
   "outputs": [],
   "source": [
    "#save the dictionary\n",
    "with open('../results/biomass/DNA_nucleotide_composition.json','w') as fp:\n",
    "    json.dump(normalized_base_seeds, fp)"
   ]
  },
  {
   "cell_type": "code",
   "execution_count": 35,
   "metadata": {},
   "outputs": [],
   "source": [
    "A_total = 0\n",
    "U_total = 0\n",
    "G_total = 0\n",
    "C_total = 0\n",
    "for rec in SeqIO.parse(\"../data/psuedomonas_protein_coding.txt\",\"fasta\"):\n",
    "    A_total += rec.seq.count('A')\n",
    "    U_total += rec.seq.count('T')\n",
    "    G_total += rec.seq.count('G')\n",
    "    C_total += rec.seq.count('C')\n",
    "    \n",
    "total = A_total + U_total + G_total + C_total\n",
    "A_U = (A_total+U_total)/2\n",
    "C_G = (C_total+G_total)/2"
   ]
  },
  {
   "cell_type": "code",
   "execution_count": 36,
   "metadata": {},
   "outputs": [
    {
     "name": "stdout",
     "output_type": "stream",
     "text": [
      "{'A': 0.20344406138661808, 'U': 0.20344406138661808, 'C': 0.2965559386133819, 'G': 0.2965559386133819}\n"
     ]
    }
   ],
   "source": [
    "#Normalize to total count\n",
    "normalized_basesRNA = {\n",
    "    'A': A_U/total,\n",
    "    'U': A_U/total,\n",
    "    'C': C_G/total,\n",
    "    'G': C_G/total\n",
    "}\n",
    "print(normalized_basesRNA)\n"
   ]
  },
  {
   "cell_type": "code",
   "execution_count": 37,
   "metadata": {},
   "outputs": [
    {
     "name": "stdout",
     "output_type": "stream",
     "text": [
      "{'cpd00128_c': 0.20344406138661808, 'cpd00092_c': 0.20344406138661808, 'cpd00307_c': 0.2965559386133819, 'cpd00207_c': 0.2965559386133819}\n"
     ]
    }
   ],
   "source": [
    "#covert tp modelseed identifiers\n",
    "letter_to_seedRNA = {\n",
    "    'A': 'cpd00128_c',\n",
    "    'U': 'cpd00092_c',\n",
    "    'C': 'cpd00307_c',\n",
    "    'G': 'cpd00207_c'    \n",
    "}\n",
    "\n",
    "normalized_base_seedsRNA = {letter_to_seedRNA[letter]:value for \n",
    "                          letter,value in normalized_basesRNA.items()}\n",
    "print(normalized_base_seedsRNA)"
   ]
  },
  {
   "cell_type": "code",
   "execution_count": 38,
   "metadata": {},
   "outputs": [],
   "source": [
    "#save the dictionary\n",
    "with open('../results/biomass/RNA_nucleotide_composition.json','w') as fp:\n",
    "    json.dump(normalized_base_seeds, fp)"
   ]
  }
 ],
 "metadata": {
  "kernelspec": {
   "display_name": "Python 3",
   "language": "python",
   "name": "python3"
  },
  "language_info": {
   "codemirror_mode": {
    "name": "ipython",
    "version": 3
   },
   "file_extension": ".py",
   "mimetype": "text/x-python",
   "name": "python",
   "nbconvert_exporter": "python",
   "pygments_lexer": "ipython3",
   "version": "3.7.0"
  }
 },
 "nbformat": 4,
 "nbformat_minor": 2
}
