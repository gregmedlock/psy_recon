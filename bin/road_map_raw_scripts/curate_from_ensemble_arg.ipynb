{
 "cells": [
  {
   "cell_type": "code",
   "execution_count": 2,
   "metadata": {},
   "outputs": [],
   "source": [
    "import pandas as pd\n",
    "import cobra\n",
    "from pickle import load"
   ]
  },
  {
   "cell_type": "code",
   "execution_count": 3,
   "metadata": {},
   "outputs": [],
   "source": [
    "# load the dataframe of important features\n",
    "imp_frame = pd.read_csv('../results/ensemble_learning_important_reactions_round2.csv',sep=',')\n",
    "\n",
    "# load the current version of the reconstruction that was used to generate the ensemble\n",
    "model = cobra.io.read_sbml_model('../results/reconstructions/model_post_ensemble_curation_round2.xml')\n",
    "\n",
    "# read the ensemble so we can pull the gapfilled reactions to add to the draft reconstruction\n",
    "with open(\"../results/ensembles/psy_ensemble_500_SEED_biomass_round2.pickle\",'rb') as infile:\n",
    "            ensemble = load(infile)"
   ]
  },
  {
   "cell_type": "code",
   "execution_count": 4,
   "metadata": {},
   "outputs": [
    {
     "data": {
      "text/html": [
       "<div>\n",
       "<style scoped>\n",
       "    .dataframe tbody tr th:only-of-type {\n",
       "        vertical-align: middle;\n",
       "    }\n",
       "\n",
       "    .dataframe tbody tr th {\n",
       "        vertical-align: top;\n",
       "    }\n",
       "\n",
       "    .dataframe thead th {\n",
       "        text-align: right;\n",
       "    }\n",
       "</style>\n",
       "<table border=\"1\" class=\"dataframe\">\n",
       "  <thead>\n",
       "    <tr style=\"text-align: right;\">\n",
       "      <th></th>\n",
       "      <th>Unnamed: 0</th>\n",
       "      <th>importance</th>\n",
       "      <th>fraction active in 0</th>\n",
       "      <th>fraction active in 1</th>\n",
       "    </tr>\n",
       "  </thead>\n",
       "  <tbody>\n",
       "    <tr>\n",
       "      <th>0</th>\n",
       "      <td>rxn03005_c_upper_bound</td>\n",
       "      <td>0.111398</td>\n",
       "      <td>0.000000</td>\n",
       "      <td>1.000000</td>\n",
       "    </tr>\n",
       "    <tr>\n",
       "      <th>1</th>\n",
       "      <td>rxn03005_c_lower_bound</td>\n",
       "      <td>0.107421</td>\n",
       "      <td>0.000000</td>\n",
       "      <td>1.000000</td>\n",
       "    </tr>\n",
       "    <tr>\n",
       "      <th>2</th>\n",
       "      <td>rxn00688_c_lower_bound</td>\n",
       "      <td>0.071730</td>\n",
       "      <td>0.083333</td>\n",
       "      <td>1.000000</td>\n",
       "    </tr>\n",
       "    <tr>\n",
       "      <th>3</th>\n",
       "      <td>rxn01211_c_lower_bound</td>\n",
       "      <td>0.068848</td>\n",
       "      <td>0.000000</td>\n",
       "      <td>0.909091</td>\n",
       "    </tr>\n",
       "    <tr>\n",
       "      <th>4</th>\n",
       "      <td>rxn01211_c_upper_bound</td>\n",
       "      <td>0.065563</td>\n",
       "      <td>0.000000</td>\n",
       "      <td>0.909091</td>\n",
       "    </tr>\n",
       "    <tr>\n",
       "      <th>5</th>\n",
       "      <td>rxn00835_c_lower_bound</td>\n",
       "      <td>0.062994</td>\n",
       "      <td>0.916667</td>\n",
       "      <td>0.000000</td>\n",
       "    </tr>\n",
       "    <tr>\n",
       "      <th>6</th>\n",
       "      <td>rxn00688_c_upper_bound</td>\n",
       "      <td>0.062036</td>\n",
       "      <td>0.083333</td>\n",
       "      <td>1.000000</td>\n",
       "    </tr>\n",
       "    <tr>\n",
       "      <th>7</th>\n",
       "      <td>rxn00157_c_lower_bound</td>\n",
       "      <td>0.056756</td>\n",
       "      <td>0.916667</td>\n",
       "      <td>0.000000</td>\n",
       "    </tr>\n",
       "    <tr>\n",
       "      <th>8</th>\n",
       "      <td>rxn00835_c_upper_bound</td>\n",
       "      <td>0.054024</td>\n",
       "      <td>0.916667</td>\n",
       "      <td>0.000000</td>\n",
       "    </tr>\n",
       "    <tr>\n",
       "      <th>9</th>\n",
       "      <td>rxn00157_c_upper_bound</td>\n",
       "      <td>0.038861</td>\n",
       "      <td>0.916667</td>\n",
       "      <td>0.000000</td>\n",
       "    </tr>\n",
       "    <tr>\n",
       "      <th>10</th>\n",
       "      <td>rxn05316_c_lower_bound</td>\n",
       "      <td>0.025677</td>\n",
       "      <td>0.750000</td>\n",
       "      <td>0.000000</td>\n",
       "    </tr>\n",
       "    <tr>\n",
       "      <th>11</th>\n",
       "      <td>rxn13150_c_upper_bound</td>\n",
       "      <td>0.020871</td>\n",
       "      <td>0.750000</td>\n",
       "      <td>0.000000</td>\n",
       "    </tr>\n",
       "    <tr>\n",
       "      <th>12</th>\n",
       "      <td>rxn10663_c_lower_bound</td>\n",
       "      <td>0.017321</td>\n",
       "      <td>0.916667</td>\n",
       "      <td>0.181818</td>\n",
       "    </tr>\n",
       "    <tr>\n",
       "      <th>13</th>\n",
       "      <td>rxn13150_c_lower_bound</td>\n",
       "      <td>0.017318</td>\n",
       "      <td>0.750000</td>\n",
       "      <td>0.000000</td>\n",
       "    </tr>\n",
       "    <tr>\n",
       "      <th>14</th>\n",
       "      <td>rxn10036_c_upper_bound</td>\n",
       "      <td>0.017226</td>\n",
       "      <td>0.916667</td>\n",
       "      <td>0.181818</td>\n",
       "    </tr>\n",
       "    <tr>\n",
       "      <th>15</th>\n",
       "      <td>rxn05316_c_upper_bound</td>\n",
       "      <td>0.013860</td>\n",
       "      <td>0.750000</td>\n",
       "      <td>0.000000</td>\n",
       "    </tr>\n",
       "    <tr>\n",
       "      <th>16</th>\n",
       "      <td>rxn10036_c_lower_bound</td>\n",
       "      <td>0.013499</td>\n",
       "      <td>0.916667</td>\n",
       "      <td>0.181818</td>\n",
       "    </tr>\n",
       "    <tr>\n",
       "      <th>17</th>\n",
       "      <td>rxn09997_c_lower_bound</td>\n",
       "      <td>0.013047</td>\n",
       "      <td>0.666667</td>\n",
       "      <td>0.000000</td>\n",
       "    </tr>\n",
       "    <tr>\n",
       "      <th>18</th>\n",
       "      <td>rxn10663_c_upper_bound</td>\n",
       "      <td>0.011874</td>\n",
       "      <td>0.916667</td>\n",
       "      <td>0.181818</td>\n",
       "    </tr>\n",
       "    <tr>\n",
       "      <th>19</th>\n",
       "      <td>rxn19443_c_upper_bound</td>\n",
       "      <td>0.010369</td>\n",
       "      <td>0.416667</td>\n",
       "      <td>0.000000</td>\n",
       "    </tr>\n",
       "  </tbody>\n",
       "</table>\n",
       "</div>"
      ],
      "text/plain": [
       "                Unnamed: 0  importance  fraction active in 0  \\\n",
       "0   rxn03005_c_upper_bound    0.111398              0.000000   \n",
       "1   rxn03005_c_lower_bound    0.107421              0.000000   \n",
       "2   rxn00688_c_lower_bound    0.071730              0.083333   \n",
       "3   rxn01211_c_lower_bound    0.068848              0.000000   \n",
       "4   rxn01211_c_upper_bound    0.065563              0.000000   \n",
       "5   rxn00835_c_lower_bound    0.062994              0.916667   \n",
       "6   rxn00688_c_upper_bound    0.062036              0.083333   \n",
       "7   rxn00157_c_lower_bound    0.056756              0.916667   \n",
       "8   rxn00835_c_upper_bound    0.054024              0.916667   \n",
       "9   rxn00157_c_upper_bound    0.038861              0.916667   \n",
       "10  rxn05316_c_lower_bound    0.025677              0.750000   \n",
       "11  rxn13150_c_upper_bound    0.020871              0.750000   \n",
       "12  rxn10663_c_lower_bound    0.017321              0.916667   \n",
       "13  rxn13150_c_lower_bound    0.017318              0.750000   \n",
       "14  rxn10036_c_upper_bound    0.017226              0.916667   \n",
       "15  rxn05316_c_upper_bound    0.013860              0.750000   \n",
       "16  rxn10036_c_lower_bound    0.013499              0.916667   \n",
       "17  rxn09997_c_lower_bound    0.013047              0.666667   \n",
       "18  rxn10663_c_upper_bound    0.011874              0.916667   \n",
       "19  rxn19443_c_upper_bound    0.010369              0.416667   \n",
       "\n",
       "    fraction active in 1  \n",
       "0               1.000000  \n",
       "1               1.000000  \n",
       "2               1.000000  \n",
       "3               0.909091  \n",
       "4               0.909091  \n",
       "5               0.000000  \n",
       "6               1.000000  \n",
       "7               0.000000  \n",
       "8               0.000000  \n",
       "9               0.000000  \n",
       "10              0.000000  \n",
       "11              0.000000  \n",
       "12              0.181818  \n",
       "13              0.000000  \n",
       "14              0.181818  \n",
       "15              0.000000  \n",
       "16              0.181818  \n",
       "17              0.000000  \n",
       "18              0.181818  \n",
       "19              0.000000  "
      ]
     },
     "execution_count": 4,
     "metadata": {},
     "output_type": "execute_result"
    }
   ],
   "source": [
    "imp_frame.head(20)"
   ]
  },
  {
   "cell_type": "markdown",
   "metadata": {},
   "source": [
    "First, we'll curate a few reactions from the previous round that we finished curating after starting the second round of ensemble generation. The first is rxn01423, L-2-aminoadipate:2-oxoglutarate aminotransferase. There is evidence that this exists in Pseudomonas putida (doi: 10.1128/JB.187.21.7500–7510.2005); there are two candidates that match in the P. syringae sv. tomato DC3000 genome, PSPTO_4775 (https://www.uniprot.org/uniprot/Q87W08) and PSPTO_5504 (https://www.uniprot.org/uniprot/Q87U11). Both are GntR transcriptional regulators that also have aminotransferase activity (MocR family, which transfers amino groups to keto-acid receptors), there is significant sequence similarity to a Pseudomonas florescens 2-aminoadipate aminotransferase (Uniprot accession P florescens: A0A0K1QLZ8). BLAST of the two putative P. syringae sv tomato DC3000 genes suggests the aminotransferase domain is conserved, but the proteins are ~100AA different in length. We hypothesize that a duplication event led to insertion of the aminotransferase in a transcription factor gene, so we will add both genes within an OR relationship for this reaction."
   ]
  },
  {
   "cell_type": "code",
   "execution_count": 5,
   "metadata": {},
   "outputs": [
    {
     "name": "stderr",
     "output_type": "stream",
     "text": [
      "Ignoring reaction 'rxn01423_c' since it already exists.\n"
     ]
    }
   ],
   "source": [
    "rxn1 = ensemble.base_model.reactions.get_by_id('rxn01423_c').copy()\n",
    "rxn1.gene_reaction_rule  = ' PSPTO_4775 or PSPTO_5504 '\n",
    "rxn1.notes = {'ensemble_curation_step':1}\n",
    "model.add_reactions([rxn1])"
   ]
  },
  {
   "cell_type": "markdown",
   "metadata": {},
   "source": [
    "rxn00394 has evidence for function in various Pseudomonas species, including Pseudomonas putida (https://www.microbiologyresearch.org/docserver/fulltext/micro/130/1/mic-130-1-69.pdf?expires=1548948345&id=id&accname=sgid024758&checksum=52D0F9E337305B0E5083196A4CEE3C14), however, sequence similarity has only revealed the presence of an aminotranferase domain that occurs in Pto; there is a group recently that annotated this feature as having arginase, agimatase, and fumerase activity without concise agreement (University of Toronto), decided does ont exist in Pst"
   ]
  },
  {
   "cell_type": "markdown",
   "metadata": {},
   "source": [
    "rxn00245 has evidence for being non-functional in Pseudomonas syringae pv. psyringae. Evidence is based on single source carbon utilization of tartrate producing no growth, considered a hallmark of Psm (https://aem.asm.org/content/59/4/1018.short)"
   ]
  },
  {
   "cell_type": "markdown",
   "metadata": {},
   "source": [
    "rxn00399 - Nitric oxide synthase, does not have significant sequence homology within the genome to the NO synthase from Nocardia(or any other microbes), which is the first microbe in which NOS was found (10.1006/bbrc.1994.2317), also NO induces plant defense response, so maybe this became an evolutionary detriment for phytopathogens?, further there is no sequence similarity to PAO1 arginine deiminase, which shares a similar function"
   ]
  },
  {
   "cell_type": "markdown",
   "metadata": {},
   "source": [
    "rxn05303 - arginine transport reaction, supports a lower bound of 0 because this is a transport reaction into the cell, however, all supoort in the literature shows ABC transport, energy dependant for arginine, with mild suggestions that GABA permease can accomidate arginine?"
   ]
  },
  {
   "cell_type": "code",
   "execution_count": 6,
   "metadata": {},
   "outputs": [],
   "source": [
    "rxn2 = ensemble.base_model.reactions.get_by_id('rxn05303_c').copy()\n",
    "rxn2.gene_reactions_rule = 'Unknown'\n",
    "rxn2.notes = {'ensemble_curation_step':1}\n",
    "model.add_reactions([rxn2])"
   ]
  },
  {
   "cell_type": "markdown",
   "metadata": {},
   "source": [
    "rxn03990 - no evidence supporting the exsistance of this reaction, possibly the reverse of the reaction, but as it stands as written, the reaction does not proceed in the manner that is presented\n",
    "further, a strain is charaterized as not producing nitrate, https://www.ndrs.org.uk/pdfs/022/NDR_022010.pdf"
   ]
  },
  {
   "cell_type": "markdown",
   "metadata": {},
   "source": [
    "rxn27379 - no evidence in pseudomonas or other bacterial species, only seems present in humans as yLAT"
   ]
  },
  {
   "cell_type": "markdown",
   "metadata": {},
   "source": [
    "rxn04702 - no evidence in pseudomonas species, "
   ]
  },
  {
   "cell_type": "markdown",
   "metadata": {},
   "source": [
    "Working down the round 2 list, let's investigate rxn12060, a multistep reaction that converts xanthine and s-adenosyl-L-methionine to theophylline and s-adenosyl-L-homocysteine. Through many papers, there is no evidence of this particular reaction occuring. However, there is evidence of another form of theobromine/caffience degredation in /Pseudomonas putida/ found here: doi 10.1590/S0001-37141999000100013 Yamaoka-Yano and Mazzafera, Brasil"
   ]
  },
  {
   "cell_type": "markdown",
   "metadata": {},
   "source": [
    "rxn000245 has evidence of exisiting in multiple /Pseudomonas/ species, as per : Ornston, 1971 PMCID PMC378377"
   ]
  },
  {
   "cell_type": "code",
   "execution_count": 7,
   "metadata": {},
   "outputs": [],
   "source": [
    "rxn3 = ensemble.base_model.reactions.get_by_id('rxn00245_c').copy()\n",
    "rxn3.gene_reaction_rule = '(PSPTO_2662)'\n",
    "rxn3.notes = {'ensemble_curation_step' :1}\n",
    "model.add_reactions([rxn3])"
   ]
  },
  {
   "cell_type": "markdown",
   "metadata": {},
   "source": [
    "rxn01934 is present in /Pseudomonas convexa/ and was originally curated in /Pseudomonas putida/ : PMID : 976259\n",
    "Here, we also found that there are no annotations regarding this specific ativity of alpha-hydroxy-acid dehydrogenase, but BLAST local alignment suggests the presence of AHA dehydrogenase in the genome"
   ]
  },
  {
   "cell_type": "code",
   "execution_count": 8,
   "metadata": {},
   "outputs": [],
   "source": [
    "rxn4 = ensemble.base_model.reactions.get_by_id('rxn01934_c').copy()\n",
    "rxn4.gene_reaction_rule = '(PSPTO_2424 or PSPTO_2434 or PSPTO_3287 or PSPTO_3460 or PSPTO_3920)'\n",
    "rxn4.notes = {'ensemble_curation_step' :1}\n",
    "model.add_reactions([rxn4])"
   ]
  },
  {
   "cell_type": "markdown",
   "metadata": {},
   "source": [
    "rxn01827 shows evidence of exsisting due to the presence of the catalyzing enzyme in the Pto genome: PSPTO_2346"
   ]
  },
  {
   "cell_type": "code",
   "execution_count": 9,
   "metadata": {},
   "outputs": [],
   "source": [
    "rxn5 = ensemble.base_model.reactions.get_by_id('rxn01827_c').copy()\n",
    "rxn5.gene_reaction_rule = '(PSPTO_2346)'\n",
    "rxn5.notes = {'ensemble_curation_step' :1}\n",
    "model.add_reactions([rxn5])"
   ]
  },
  {
   "cell_type": "raw",
   "metadata": {},
   "source": [
    "rxn01423 shows evidence in Pto, however, there is evidence in other species of /Pseduomonas/. BLAST shows no signficant results other than an apparent PLP-dependant domain, which is present in both PLP amino transferases and the Pto protein : PLP dependant protein, which may be a pseudogene of it; for Pto, the protein that seems to fill this role is PSPTO_0096, annotated as a GntR family transcriptional regulator/ aminotransferase, a blast of this against /Pseudomonas/ shows this is a PLP-dependant aminotransferase and likely the one responsible for this transfer"
   ]
  },
  {
   "cell_type": "code",
   "execution_count": 10,
   "metadata": {},
   "outputs": [
    {
     "name": "stderr",
     "output_type": "stream",
     "text": [
      "Ignoring reaction 'rxn01423_c' since it already exists.\n"
     ]
    }
   ],
   "source": [
    "rxn6 = ensemble.base_model.reactions.get_by_id('rxn01423_c').copy()\n",
    "rxn6.gene_reaction_rule = '(PSPTO_0096)'\n",
    "rxn6.notes = {'ensemble_curation_step' :1}\n",
    "model.add_reactions([rxn6])"
   ]
  },
  {
   "cell_type": "code",
   "execution_count": 11,
   "metadata": {},
   "outputs": [
    {
     "name": "stderr",
     "output_type": "stream",
     "text": [
      "Error encountered trying to <set model history>.\n",
      "LibSBML error code -5: The object passed as an argument to the method is not of a type that is valid for the operation or kind of object involved. For example, handing an invalidly-constructed ASTNode to a method expecting an ASTNode will result in this error.\n"
     ]
    }
   ],
   "source": [
    "cobra.io.write_sbml_model(model, '../results/reconstructions/psy4_arg.xml')"
   ]
  },
  {
   "cell_type": "code",
   "execution_count": null,
   "metadata": {},
   "outputs": [],
   "source": []
  }
 ],
 "metadata": {
  "kernelspec": {
   "display_name": "Python 3",
   "language": "python",
   "name": "python3"
  },
  "language_info": {
   "codemirror_mode": {
    "name": "ipython",
    "version": 3
   },
   "file_extension": ".py",
   "mimetype": "text/x-python",
   "name": "python",
   "nbconvert_exporter": "python",
   "pygments_lexer": "ipython3",
   "version": "3.7.3"
  }
 },
 "nbformat": 4,
 "nbformat_minor": 2
}
