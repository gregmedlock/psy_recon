{
 "cells": [
  {
   "cell_type": "code",
   "execution_count": 4,
   "metadata": {},
   "outputs": [],
   "source": [
    "import pandas as pd\n",
    "import cobra\n",
    "from pickle import load"
   ]
  },
  {
   "cell_type": "code",
   "execution_count": 5,
   "metadata": {},
   "outputs": [],
   "source": [
    "# load the dataframe of important features\n",
    "imp_frame = pd.read_csv('../results/ensemble_learning_important_reactions_round2.csv',sep=',')\n",
    "\n",
    "# load the current version of the reconstruction that was used to generate the ensemble\n",
    "model = cobra.io.read_sbml_model('../results/reconstructions/model_post_ensemble_curation_round1.xml')\n",
    "\n",
    "# read the ensemble so we can pull the gapfilled reactions to add to the draft reconstruction\n",
    "with open(\"../results/ensembles/psy_ensemble_500_SEED_biomass_round2.pickle\",'rb') as infile:\n",
    "            ensemble = load(infile)"
   ]
  },
  {
   "cell_type": "code",
   "execution_count": 6,
   "metadata": {},
   "outputs": [
    {
     "data": {
      "text/html": [
       "<div>\n",
       "<style scoped>\n",
       "    .dataframe tbody tr th:only-of-type {\n",
       "        vertical-align: middle;\n",
       "    }\n",
       "\n",
       "    .dataframe tbody tr th {\n",
       "        vertical-align: top;\n",
       "    }\n",
       "\n",
       "    .dataframe thead th {\n",
       "        text-align: right;\n",
       "    }\n",
       "</style>\n",
       "<table border=\"1\" class=\"dataframe\">\n",
       "  <thead>\n",
       "    <tr style=\"text-align: right;\">\n",
       "      <th></th>\n",
       "      <th>Unnamed: 0</th>\n",
       "      <th>importance</th>\n",
       "      <th>fraction active in 0</th>\n",
       "      <th>fraction active in 1</th>\n",
       "    </tr>\n",
       "  </thead>\n",
       "  <tbody>\n",
       "    <tr>\n",
       "      <th>0</th>\n",
       "      <td>rxn03005_c_upper_bound</td>\n",
       "      <td>0.111398</td>\n",
       "      <td>0.000000</td>\n",
       "      <td>1.000000</td>\n",
       "    </tr>\n",
       "    <tr>\n",
       "      <th>1</th>\n",
       "      <td>rxn03005_c_lower_bound</td>\n",
       "      <td>0.107421</td>\n",
       "      <td>0.000000</td>\n",
       "      <td>1.000000</td>\n",
       "    </tr>\n",
       "    <tr>\n",
       "      <th>2</th>\n",
       "      <td>rxn00688_c_lower_bound</td>\n",
       "      <td>0.071730</td>\n",
       "      <td>0.083333</td>\n",
       "      <td>1.000000</td>\n",
       "    </tr>\n",
       "    <tr>\n",
       "      <th>3</th>\n",
       "      <td>rxn01211_c_lower_bound</td>\n",
       "      <td>0.068848</td>\n",
       "      <td>0.000000</td>\n",
       "      <td>0.909091</td>\n",
       "    </tr>\n",
       "    <tr>\n",
       "      <th>4</th>\n",
       "      <td>rxn01211_c_upper_bound</td>\n",
       "      <td>0.065563</td>\n",
       "      <td>0.000000</td>\n",
       "      <td>0.909091</td>\n",
       "    </tr>\n",
       "    <tr>\n",
       "      <th>5</th>\n",
       "      <td>rxn00835_c_lower_bound</td>\n",
       "      <td>0.062994</td>\n",
       "      <td>0.916667</td>\n",
       "      <td>0.000000</td>\n",
       "    </tr>\n",
       "    <tr>\n",
       "      <th>6</th>\n",
       "      <td>rxn00688_c_upper_bound</td>\n",
       "      <td>0.062036</td>\n",
       "      <td>0.083333</td>\n",
       "      <td>1.000000</td>\n",
       "    </tr>\n",
       "    <tr>\n",
       "      <th>7</th>\n",
       "      <td>rxn00157_c_lower_bound</td>\n",
       "      <td>0.056756</td>\n",
       "      <td>0.916667</td>\n",
       "      <td>0.000000</td>\n",
       "    </tr>\n",
       "    <tr>\n",
       "      <th>8</th>\n",
       "      <td>rxn00835_c_upper_bound</td>\n",
       "      <td>0.054024</td>\n",
       "      <td>0.916667</td>\n",
       "      <td>0.000000</td>\n",
       "    </tr>\n",
       "    <tr>\n",
       "      <th>9</th>\n",
       "      <td>rxn00157_c_upper_bound</td>\n",
       "      <td>0.038861</td>\n",
       "      <td>0.916667</td>\n",
       "      <td>0.000000</td>\n",
       "    </tr>\n",
       "    <tr>\n",
       "      <th>10</th>\n",
       "      <td>rxn05316_c_lower_bound</td>\n",
       "      <td>0.025677</td>\n",
       "      <td>0.750000</td>\n",
       "      <td>0.000000</td>\n",
       "    </tr>\n",
       "    <tr>\n",
       "      <th>11</th>\n",
       "      <td>rxn13150_c_upper_bound</td>\n",
       "      <td>0.020871</td>\n",
       "      <td>0.750000</td>\n",
       "      <td>0.000000</td>\n",
       "    </tr>\n",
       "    <tr>\n",
       "      <th>12</th>\n",
       "      <td>rxn10663_c_lower_bound</td>\n",
       "      <td>0.017321</td>\n",
       "      <td>0.916667</td>\n",
       "      <td>0.181818</td>\n",
       "    </tr>\n",
       "    <tr>\n",
       "      <th>13</th>\n",
       "      <td>rxn13150_c_lower_bound</td>\n",
       "      <td>0.017318</td>\n",
       "      <td>0.750000</td>\n",
       "      <td>0.000000</td>\n",
       "    </tr>\n",
       "    <tr>\n",
       "      <th>14</th>\n",
       "      <td>rxn10036_c_upper_bound</td>\n",
       "      <td>0.017226</td>\n",
       "      <td>0.916667</td>\n",
       "      <td>0.181818</td>\n",
       "    </tr>\n",
       "    <tr>\n",
       "      <th>15</th>\n",
       "      <td>rxn05316_c_upper_bound</td>\n",
       "      <td>0.013860</td>\n",
       "      <td>0.750000</td>\n",
       "      <td>0.000000</td>\n",
       "    </tr>\n",
       "    <tr>\n",
       "      <th>16</th>\n",
       "      <td>rxn10036_c_lower_bound</td>\n",
       "      <td>0.013499</td>\n",
       "      <td>0.916667</td>\n",
       "      <td>0.181818</td>\n",
       "    </tr>\n",
       "    <tr>\n",
       "      <th>17</th>\n",
       "      <td>rxn09997_c_lower_bound</td>\n",
       "      <td>0.013047</td>\n",
       "      <td>0.666667</td>\n",
       "      <td>0.000000</td>\n",
       "    </tr>\n",
       "    <tr>\n",
       "      <th>18</th>\n",
       "      <td>rxn10663_c_upper_bound</td>\n",
       "      <td>0.011874</td>\n",
       "      <td>0.916667</td>\n",
       "      <td>0.181818</td>\n",
       "    </tr>\n",
       "    <tr>\n",
       "      <th>19</th>\n",
       "      <td>rxn19443_c_upper_bound</td>\n",
       "      <td>0.010369</td>\n",
       "      <td>0.416667</td>\n",
       "      <td>0.000000</td>\n",
       "    </tr>\n",
       "  </tbody>\n",
       "</table>\n",
       "</div>"
      ],
      "text/plain": [
       "                Unnamed: 0  importance  fraction active in 0  \\\n",
       "0   rxn03005_c_upper_bound    0.111398              0.000000   \n",
       "1   rxn03005_c_lower_bound    0.107421              0.000000   \n",
       "2   rxn00688_c_lower_bound    0.071730              0.083333   \n",
       "3   rxn01211_c_lower_bound    0.068848              0.000000   \n",
       "4   rxn01211_c_upper_bound    0.065563              0.000000   \n",
       "5   rxn00835_c_lower_bound    0.062994              0.916667   \n",
       "6   rxn00688_c_upper_bound    0.062036              0.083333   \n",
       "7   rxn00157_c_lower_bound    0.056756              0.916667   \n",
       "8   rxn00835_c_upper_bound    0.054024              0.916667   \n",
       "9   rxn00157_c_upper_bound    0.038861              0.916667   \n",
       "10  rxn05316_c_lower_bound    0.025677              0.750000   \n",
       "11  rxn13150_c_upper_bound    0.020871              0.750000   \n",
       "12  rxn10663_c_lower_bound    0.017321              0.916667   \n",
       "13  rxn13150_c_lower_bound    0.017318              0.750000   \n",
       "14  rxn10036_c_upper_bound    0.017226              0.916667   \n",
       "15  rxn05316_c_upper_bound    0.013860              0.750000   \n",
       "16  rxn10036_c_lower_bound    0.013499              0.916667   \n",
       "17  rxn09997_c_lower_bound    0.013047              0.666667   \n",
       "18  rxn10663_c_upper_bound    0.011874              0.916667   \n",
       "19  rxn19443_c_upper_bound    0.010369              0.416667   \n",
       "\n",
       "    fraction active in 1  \n",
       "0               1.000000  \n",
       "1               1.000000  \n",
       "2               1.000000  \n",
       "3               0.909091  \n",
       "4               0.909091  \n",
       "5               0.000000  \n",
       "6               1.000000  \n",
       "7               0.000000  \n",
       "8               0.000000  \n",
       "9               0.000000  \n",
       "10              0.000000  \n",
       "11              0.000000  \n",
       "12              0.181818  \n",
       "13              0.000000  \n",
       "14              0.181818  \n",
       "15              0.000000  \n",
       "16              0.181818  \n",
       "17              0.000000  \n",
       "18              0.181818  \n",
       "19              0.000000  "
      ]
     },
     "execution_count": 6,
     "metadata": {},
     "output_type": "execute_result"
    }
   ],
   "source": [
    "imp_frame.head(20)"
   ]
  },
  {
   "cell_type": "markdown",
   "metadata": {},
   "source": [
    "First, we'll curate a few reactions from the previous round that we finished curating after starting the second round of ensemble generation. The first is rxn01423, L-2-aminoadipate:2-oxoglutarate aminotransferase. There is evidence that this exists in Pseudomonas putida (doi: 10.1128/JB.187.21.7500–7510.2005); there are two candidates that match in the P. syringae sv. tomato DC3000 genome, PSPTO_4775 (https://www.uniprot.org/uniprot/Q87W08) and PSPTO_5504 (https://www.uniprot.org/uniprot/Q87U11). Both are GntR transcriptional regulators that also have aminotransferase activity (MocR family, which transfers amino groups to keto-acid receptors), there is significant sequence similarity to a Pseudomonas florescens 2-aminoadipate aminotransferase (Uniprot accession P florescens: A0A0K1QLZ8). BLAST of the two putative P. syringae sv tomato DC3000 genes suggests the aminotransferase domain is conserved, but the proteins are ~100AA different in length. We hypothesize that a duplication event led to insertion of the aminotransferase in a transcription factor gene, so we will add both genes within an OR relationship for this reaction."
   ]
  },
  {
   "cell_type": "code",
   "execution_count": 7,
   "metadata": {},
   "outputs": [],
   "source": [
    "rxn1 = ensemble.base_model.reactions.get_by_id('rxn01423_c').copy()\n",
    "rxn1.gene_reaction_rule  = 'PSPTO_4775 or PSPTO_5504'\n",
    "rxn1.notes = {'ensemble_curation_step':2}\n",
    "model.add_reactions([rxn1])"
   ]
  },
  {
   "cell_type": "markdown",
   "metadata": {},
   "source": [
    "The next reaction is rxn03005, which is part of the one carbon pool by folate. It is named as an N2-FormylN1-(5-phospho-D-robosyl)glycinamide formyltransferase. This reaction is already annotated with the EC number 2.1.2.2, PSPTO_1468 and PSPTO_1699."
   ]
  },
  {
   "cell_type": "code",
   "execution_count": 8,
   "metadata": {},
   "outputs": [],
   "source": [
    "rxn1 = ensemble.base_model.reactions.get_by_id('rxn03005_c').copy()\n",
    "rxn1.gene_reaction_rule  = 'PSPTO_1468 or PSPTO_1699'\n",
    "rxn1.notes = {'ensemble_curation_step':2}\n",
    "model.add_reactions([rxn1])"
   ]
  },
  {
   "cell_type": "markdown",
   "metadata": {},
   "source": [
    "Next reaction is rxn00688. This reaction is also part of the one carbon pool by folate, and formally known as 10-formyl tetrahydrofolate:NADPH oxidoreductase EC 1.5.1.6. There are flavin reductases that match the potential function of this reaction in the PST genome, however, it seems that this would actually fall under the similar genes that PAO1 has, of which there are PSPTO_4866, PSPTO_1468, PSPTO_1699, or PSPTO_0178."
   ]
  },
  {
   "cell_type": "code",
   "execution_count": 9,
   "metadata": {},
   "outputs": [],
   "source": [
    "rxn1 = ensemble.base_model.reactions.get_by_id('rxn00688_c').copy()\n",
    "rxn1.gene_reaction_rule  = 'PSPTO_1468 or PSPTO_1699 or PSPTO_4866 or PSPTO_0178'\n",
    "rxn1.notes = {'ensemble_curation_step':2}\n",
    "model.add_reactions([rxn1])"
   ]
  },
  {
   "cell_type": "markdown",
   "metadata": {},
   "source": [
    "The next reaction is rxn01211, characterized by the enzyme 5,10-Methenyltetrahydrofolate 5-hydrolase, functioning as a decyclase. Annotated is PSPTO_2453."
   ]
  },
  {
   "cell_type": "code",
   "execution_count": 10,
   "metadata": {},
   "outputs": [],
   "source": [
    "rxn1 = ensemble.base_model.reactions.get_by_id('rxn01211_c').copy()\n",
    "rxn1.gene_reaction_rule  = 'PSPTO_2453'\n",
    "rxn1.notes = {'ensemble_curation_step':2}\n",
    "model.add_reactions([rxn1])"
   ]
  },
  {
   "cell_type": "markdown",
   "metadata": {},
   "source": [
    "rxn00835, represented by ATP:inosine 5'-phosphotransferase. While the reaction stated does not function directly, there is evidence that this is achived through a three step pathway, summarized by the genes : PSPTO_2022 and PSPTO_1131"
   ]
  },
  {
   "cell_type": "code",
   "execution_count": 11,
   "metadata": {},
   "outputs": [],
   "source": [
    "rxn1 = ensemble.base_model.reactions.get_by_id('rxn00835_c').copy()\n",
    "rxn1.gene_reaction_rule  = 'PSPTO_2022 and PSPTO_1131'\n",
    "rxn1.notes = {'ensemble_curation_step':2}\n",
    "model.add_reactions([rxn1])"
   ]
  },
  {
   "cell_type": "markdown",
   "metadata": {},
   "source": [
    "rxn00157: Acetyl-CoA:formate C-acetyltransferase, this does not exist in PST based on genomic evidence"
   ]
  },
  {
   "cell_type": "markdown",
   "metadata": {},
   "source": [
    "rxn05316: Previous evidence suggests that pst is able to use inosine as a sole carbon source, validating uptake.\n",
    "(Rico and Preston 2008)"
   ]
  },
  {
   "cell_type": "code",
   "execution_count": 12,
   "metadata": {},
   "outputs": [],
   "source": [
    "rxn1 = ensemble.base_model.reactions.get_by_id('rxn05316_c').copy()\n",
    "rxn1.gene_reaction_rule  = 'Unknown'\n",
    "rxn1.notes = {'ensemble_curation_step':2}\n",
    "model.add_reactions([rxn1])"
   ]
  },
  {
   "cell_type": "markdown",
   "metadata": {},
   "source": [
    "rxn13150 : 5-formyltetrahydrofolate cyclo-ligase, EC:3.5.4.9 (PSPTO_2453 or PSPTO_3733) and 1.5.1.5 (same genes) and 1.5.1.20 (PSPTO_5069)"
   ]
  },
  {
   "cell_type": "code",
   "execution_count": 17,
   "metadata": {},
   "outputs": [
    {
     "name": "stderr",
     "output_type": "stream",
     "text": [
      "Ignoring reaction 'rxn13150_c' since it already exists.\n"
     ]
    }
   ],
   "source": [
    "rxn1 = ensemble.base_model.reactions.get_by_id('rxn13150_c').copy()\n",
    "rxn1.gene_reaction_rule  = 'PSPTO_2453 and PSPTO_3733 and PSPTO_5069'\n",
    "rxn1.notes = {'ensemble_curation_step':2}\n",
    "model.add_reactions([rxn1])"
   ]
  },
  {
   "cell_type": "markdown",
   "metadata": {},
   "source": [
    "rxn10663 : Fatty acid oxidation, this is a biosynthetic reaction, in that it is a whole pathway that is combined into one reaction, not annotatable"
   ]
  },
  {
   "cell_type": "markdown",
   "metadata": {},
   "source": [
    "rxn10336 : Cardiolipin synthase, same as above, however can be annotatted, PSPTO_3503 and PSPTO_5530."
   ]
  },
  {
   "cell_type": "code",
   "execution_count": 16,
   "metadata": {},
   "outputs": [
    {
     "name": "stderr",
     "output_type": "stream",
     "text": [
      "Ignoring reaction 'rxn10036_c' since it already exists.\n"
     ]
    }
   ],
   "source": [
    "rxn1 = ensemble.base_model.reactions.get_by_id('rxn10036_c').copy()\n",
    "rxn1.gene_reaction_rule  = 'PSPTO_3503 and PSPTO_5530'\n",
    "rxn1.notes = {'ensemble_curation_step':2}\n",
    "model.add_reactions([rxn1])"
   ]
  },
  {
   "cell_type": "code",
   "execution_count": 18,
   "metadata": {},
   "outputs": [
    {
     "name": "stderr",
     "output_type": "stream",
     "text": [
      "Error encountered trying to <set model history>.\n",
      "LibSBML error code -5: The object passed as an argument to the method is not of a type that is valid for the operation or kind of object involved. For example, handing an invalidly-constructed ASTNode to a method expecting an ASTNode will result in this error.\n"
     ]
    }
   ],
   "source": [
    "cobra.io.write_sbml_model(model,'../results/reconstructions/model_post_ensemble_curation_round2.xml')"
   ]
  },
  {
   "cell_type": "markdown",
   "metadata": {},
   "source": [
    "rxn09997: not a lot of annotation on this reaction, so not too much to go by to make a call."
   ]
  },
  {
   "cell_type": "markdown",
   "metadata": {},
   "source": [
    "rxn19443: glycoaldehyde synthase, ribulose 1-p mutase, not much else to make a call."
   ]
  }
 ],
 "metadata": {
  "kernelspec": {
   "display_name": "Python 3",
   "language": "python",
   "name": "python3"
  },
  "language_info": {
   "codemirror_mode": {
    "name": "ipython",
    "version": 3
   },
   "file_extension": ".py",
   "mimetype": "text/x-python",
   "name": "python",
   "nbconvert_exporter": "python",
   "pygments_lexer": "ipython3",
   "version": "3.7.3"
  }
 },
 "nbformat": 4,
 "nbformat_minor": 2
}
