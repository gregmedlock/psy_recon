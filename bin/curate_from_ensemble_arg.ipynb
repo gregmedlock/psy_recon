{
 "cells": [
  {
   "cell_type": "code",
   "execution_count": 3,
   "metadata": {},
   "outputs": [],
   "source": [
    "import pandas as pd\n",
    "import cobra\n",
    "from pickle import load"
   ]
  },
  {
   "cell_type": "code",
   "execution_count": 4,
   "metadata": {},
   "outputs": [],
   "source": [
    "# load the dataframe of important features\n",
    "imp_frame = pd.read_csv('../results/ensemble_learning_important_reactions_round2.csv',sep=',')\n",
    "\n",
    "# load the current version of the reconstruction that was used to generate the ensemble\n",
    "model = cobra.io.read_sbml_model('../results/reconstructions/psy_cor_6.xml')\n",
    "\n",
    "# read the ensemble so we can pull the gapfilled reactions to add to the draft reconstruction\n",
    "with open(\"../results/ensembles/psy_ensemble_500_SEED_biomass_round2.pickle\",'rb') as infile:\n",
    "            ensemble = load(infile)"
   ]
  },
  {
   "cell_type": "code",
   "execution_count": 5,
   "metadata": {},
   "outputs": [
    {
     "data": {
      "text/html": [
       "<div>\n",
       "<style scoped>\n",
       "    .dataframe tbody tr th:only-of-type {\n",
       "        vertical-align: middle;\n",
       "    }\n",
       "\n",
       "    .dataframe tbody tr th {\n",
       "        vertical-align: top;\n",
       "    }\n",
       "\n",
       "    .dataframe thead th {\n",
       "        text-align: right;\n",
       "    }\n",
       "</style>\n",
       "<table border=\"1\" class=\"dataframe\">\n",
       "  <thead>\n",
       "    <tr style=\"text-align: right;\">\n",
       "      <th></th>\n",
       "      <th>Unnamed: 0</th>\n",
       "      <th>importance</th>\n",
       "      <th>fraction active in 0</th>\n",
       "      <th>fraction active in 1</th>\n",
       "    </tr>\n",
       "  </thead>\n",
       "  <tbody>\n",
       "    <tr>\n",
       "      <th>0</th>\n",
       "      <td>rxn12060_c_lower_bound</td>\n",
       "      <td>0.027648</td>\n",
       "      <td>0.164557</td>\n",
       "      <td>0.824561</td>\n",
       "    </tr>\n",
       "    <tr>\n",
       "      <th>1</th>\n",
       "      <td>rxn00394_c_upper_bound</td>\n",
       "      <td>0.026927</td>\n",
       "      <td>0.303797</td>\n",
       "      <td>0.011696</td>\n",
       "    </tr>\n",
       "    <tr>\n",
       "      <th>2</th>\n",
       "      <td>rxn12060_c_upper_bound</td>\n",
       "      <td>0.025805</td>\n",
       "      <td>0.164557</td>\n",
       "      <td>0.824561</td>\n",
       "    </tr>\n",
       "    <tr>\n",
       "      <th>3</th>\n",
       "      <td>rxn00399_c_upper_bound</td>\n",
       "      <td>0.024043</td>\n",
       "      <td>0.512658</td>\n",
       "      <td>0.032164</td>\n",
       "    </tr>\n",
       "    <tr>\n",
       "      <th>4</th>\n",
       "      <td>rxn00399_c_lower_bound</td>\n",
       "      <td>0.020256</td>\n",
       "      <td>0.512658</td>\n",
       "      <td>0.032164</td>\n",
       "    </tr>\n",
       "    <tr>\n",
       "      <th>5</th>\n",
       "      <td>rxn03990_c_lower_bound</td>\n",
       "      <td>0.013899</td>\n",
       "      <td>0.310127</td>\n",
       "      <td>0.011696</td>\n",
       "    </tr>\n",
       "    <tr>\n",
       "      <th>6</th>\n",
       "      <td>rxn11674_c_lower_bound</td>\n",
       "      <td>0.013391</td>\n",
       "      <td>0.487342</td>\n",
       "      <td>0.081871</td>\n",
       "    </tr>\n",
       "    <tr>\n",
       "      <th>7</th>\n",
       "      <td>rxn05303_c_lower_bound</td>\n",
       "      <td>0.011722</td>\n",
       "      <td>0.183544</td>\n",
       "      <td>0.000000</td>\n",
       "    </tr>\n",
       "    <tr>\n",
       "      <th>8</th>\n",
       "      <td>rxn04702_c_upper_bound</td>\n",
       "      <td>0.011248</td>\n",
       "      <td>0.360759</td>\n",
       "      <td>0.035088</td>\n",
       "    </tr>\n",
       "    <tr>\n",
       "      <th>9</th>\n",
       "      <td>rxn11674_c_upper_bound</td>\n",
       "      <td>0.011186</td>\n",
       "      <td>0.487342</td>\n",
       "      <td>0.081871</td>\n",
       "    </tr>\n",
       "    <tr>\n",
       "      <th>10</th>\n",
       "      <td>rxn01934_c_lower_bound</td>\n",
       "      <td>0.010945</td>\n",
       "      <td>0.487342</td>\n",
       "      <td>0.081871</td>\n",
       "    </tr>\n",
       "    <tr>\n",
       "      <th>11</th>\n",
       "      <td>rxn03990_c_upper_bound</td>\n",
       "      <td>0.008784</td>\n",
       "      <td>0.310127</td>\n",
       "      <td>0.011696</td>\n",
       "    </tr>\n",
       "    <tr>\n",
       "      <th>12</th>\n",
       "      <td>rxn01934_c_upper_bound</td>\n",
       "      <td>0.008770</td>\n",
       "      <td>0.487342</td>\n",
       "      <td>0.081871</td>\n",
       "    </tr>\n",
       "    <tr>\n",
       "      <th>13</th>\n",
       "      <td>rxn27379_c_upper_bound</td>\n",
       "      <td>0.008296</td>\n",
       "      <td>0.151899</td>\n",
       "      <td>0.000000</td>\n",
       "    </tr>\n",
       "    <tr>\n",
       "      <th>14</th>\n",
       "      <td>rxn00245_c_upper_bound</td>\n",
       "      <td>0.008263</td>\n",
       "      <td>0.443038</td>\n",
       "      <td>0.078947</td>\n",
       "    </tr>\n",
       "    <tr>\n",
       "      <th>15</th>\n",
       "      <td>rxn27379_c_lower_bound</td>\n",
       "      <td>0.007895</td>\n",
       "      <td>0.151899</td>\n",
       "      <td>0.000000</td>\n",
       "    </tr>\n",
       "    <tr>\n",
       "      <th>16</th>\n",
       "      <td>rxn05303_c_upper_bound</td>\n",
       "      <td>0.007374</td>\n",
       "      <td>0.183544</td>\n",
       "      <td>0.000000</td>\n",
       "    </tr>\n",
       "    <tr>\n",
       "      <th>17</th>\n",
       "      <td>rxn04702_c_lower_bound</td>\n",
       "      <td>0.007270</td>\n",
       "      <td>0.360759</td>\n",
       "      <td>0.035088</td>\n",
       "    </tr>\n",
       "    <tr>\n",
       "      <th>18</th>\n",
       "      <td>rxn10966_c_upper_bound</td>\n",
       "      <td>0.007224</td>\n",
       "      <td>0.575949</td>\n",
       "      <td>0.181287</td>\n",
       "    </tr>\n",
       "    <tr>\n",
       "      <th>19</th>\n",
       "      <td>rxn10966_c_lower_bound</td>\n",
       "      <td>0.007174</td>\n",
       "      <td>0.575949</td>\n",
       "      <td>0.181287</td>\n",
       "    </tr>\n",
       "  </tbody>\n",
       "</table>\n",
       "</div>"
      ],
      "text/plain": [
       "                Unnamed: 0  importance  fraction active in 0  \\\n",
       "0   rxn12060_c_lower_bound    0.027648              0.164557   \n",
       "1   rxn00394_c_upper_bound    0.026927              0.303797   \n",
       "2   rxn12060_c_upper_bound    0.025805              0.164557   \n",
       "3   rxn00399_c_upper_bound    0.024043              0.512658   \n",
       "4   rxn00399_c_lower_bound    0.020256              0.512658   \n",
       "5   rxn03990_c_lower_bound    0.013899              0.310127   \n",
       "6   rxn11674_c_lower_bound    0.013391              0.487342   \n",
       "7   rxn05303_c_lower_bound    0.011722              0.183544   \n",
       "8   rxn04702_c_upper_bound    0.011248              0.360759   \n",
       "9   rxn11674_c_upper_bound    0.011186              0.487342   \n",
       "10  rxn01934_c_lower_bound    0.010945              0.487342   \n",
       "11  rxn03990_c_upper_bound    0.008784              0.310127   \n",
       "12  rxn01934_c_upper_bound    0.008770              0.487342   \n",
       "13  rxn27379_c_upper_bound    0.008296              0.151899   \n",
       "14  rxn00245_c_upper_bound    0.008263              0.443038   \n",
       "15  rxn27379_c_lower_bound    0.007895              0.151899   \n",
       "16  rxn05303_c_upper_bound    0.007374              0.183544   \n",
       "17  rxn04702_c_lower_bound    0.007270              0.360759   \n",
       "18  rxn10966_c_upper_bound    0.007224              0.575949   \n",
       "19  rxn10966_c_lower_bound    0.007174              0.575949   \n",
       "\n",
       "    fraction active in 1  \n",
       "0               0.824561  \n",
       "1               0.011696  \n",
       "2               0.824561  \n",
       "3               0.032164  \n",
       "4               0.032164  \n",
       "5               0.011696  \n",
       "6               0.081871  \n",
       "7               0.000000  \n",
       "8               0.035088  \n",
       "9               0.081871  \n",
       "10              0.081871  \n",
       "11              0.011696  \n",
       "12              0.081871  \n",
       "13              0.000000  \n",
       "14              0.078947  \n",
       "15              0.000000  \n",
       "16              0.000000  \n",
       "17              0.035088  \n",
       "18              0.181287  \n",
       "19              0.181287  "
      ]
     },
     "execution_count": 5,
     "metadata": {},
     "output_type": "execute_result"
    }
   ],
   "source": [
    "imp_frame.head(20)"
   ]
  },
  {
   "cell_type": "markdown",
   "metadata": {},
   "source": [
    "First, we'll curate a few reactions from the previous round that we finished curating after starting the second round of ensemble generation. The first is rxn01423, L-2-aminoadipate:2-oxoglutarate aminotransferase. There is evidence that this exists in Pseudomonas putida (doi: 10.1128/JB.187.21.7500–7510.2005); there are two candidates that match in the P. syringae sv. tomato DC3000 genome, PSPTO_4775 (https://www.uniprot.org/uniprot/Q87W08) and PSPTO_5504 (https://www.uniprot.org/uniprot/Q87U11). Both are GntR transcriptional regulators that also have aminotransferase activity (MocR family, which transfers amino groups to keto-acid receptors), there is significant sequence similarity to a Pseudomonas florescens 2-aminoadipate aminotransferase (Uniprot accession P florescens: A0A0K1QLZ8). BLAST of the two putative P. syringae sv tomato DC3000 genes suggests the aminotransferase domain is conserved, but the proteins are ~100AA different in length. We hypothesize that a duplication event led to insertion of the aminotransferase in a transcription factor gene, so we will add both genes within an OR relationship for this reaction."
   ]
  },
  {
   "cell_type": "code",
   "execution_count": 6,
   "metadata": {},
   "outputs": [],
   "source": [
    "rxn1 = ensemble.base_model.reactions.get_by_id('rxn01423_c').copy()\n",
    "rxn1.gene_reaction_rule  = ' PSPTO_4775 or PSPTO_5504 '\n",
    "rxn1.notes = {'ensemble_curation_step':1}\n",
    "model.add_reactions([rxn1])"
   ]
  },
  {
   "cell_type": "markdown",
   "metadata": {},
   "source": [
    "rxn00394 has evidence for function in various Pseudomonas species, including Pseudomonas putida (https://www.microbiologyresearch.org/docserver/fulltext/micro/130/1/mic-130-1-69.pdf?expires=1548948345&id=id&accname=sgid024758&checksum=52D0F9E337305B0E5083196A4CEE3C14), however, sequence similarity has only revealed the presence of an aminotranferase domain that occurs in Pto; there is a group recently that annotated this feature as having arginase, agimatase, and fumerase activity without concise agreement (University of Toronto), decided does ont exist in Pst"
   ]
  },
  {
   "cell_type": "markdown",
   "metadata": {},
   "source": [
    "rxn00245 has evidence for being non-functional in Pseudomonas syringae pv. psyringae. Evidence is based on single source carbon utilization of tartrate producing no growth, considered a hallmark of Psm (https://aem.asm.org/content/59/4/1018.short)"
   ]
  },
  {
   "cell_type": "markdown",
   "metadata": {},
   "source": [
    "rxn00399 - Nitric oxide synthase, does not have significant sequence homology within the genome to the NO synthase from Nocardia(or any other microbes), which is the first microbe in which NOS was found (10.1006/bbrc.1994.2317), also NO induces plant defense response, so maybe this became an evolutionary detriment for phytopathogens?, further there is no sequence similarity to PAO1 arginine deiminase, which shares a similar function"
   ]
  },
  {
   "cell_type": "markdown",
   "metadata": {},
   "source": [
    "rxn05303 - arginine transport reaction, supports a lower bound of 0 because this is a transport reaction into the cell, however, all supoort in the literature shows ABC transport, energy dependant for arginine, with mild suggestions that GABA permease can accomidate arginine?"
   ]
  },
  {
   "cell_type": "code",
   "execution_count": 8,
   "metadata": {},
   "outputs": [],
   "source": [
    "rxn2 = ensemble.base_model.reactions.get_by_id('rxn05303_c').copy()\n",
    "rxn2.gene_reactions_rule = 'Unknown'\n",
    "rxn2.notes = {'ensemble_curation_step':1}\n",
    "model.add_reactions([rxn2])"
   ]
  },
  {
   "cell_type": "markdown",
   "metadata": {},
   "source": [
    "rxn03990 - no evidence supporting the exsistance of this reaction, possibly the reverse of the reaction, but as it stands as written, the reaction does not proceed in the manner that is presented\n",
    "further, a strain is charaterized as not producing nitrate, https://www.ndrs.org.uk/pdfs/022/NDR_022010.pdf"
   ]
  },
  {
   "cell_type": "markdown",
   "metadata": {},
   "source": [
    "rxn27379 - no evidence in pseudomonas or other bacterial species, only seems present in humans as yLAT"
   ]
  },
  {
   "cell_type": "markdown",
   "metadata": {},
   "source": [
    "rxn04702 - no evidence in pseudomonas species, "
   ]
  },
  {
   "cell_type": "markdown",
   "metadata": {},
   "source": [
    "Working down the round 2 list, let's investigate rxn12060, a multistep reaction that converts xanthine and s-adenosyl-L-methionine to theophylline and s-adenosyl-L-homocysteine. Through many papers, there is no evidence of this particular reaction occuring. However, there is evidence of another form of theobromine/caffience degredation in /Pseudomonas putida/ found here: doi 10.1590/S0001-37141999000100013 Yamaoka-Yano and Mazzafera, Brasil"
   ]
  },
  {
   "cell_type": "markdown",
   "metadata": {},
   "source": [
    "rxn000245 has evidence of exisiting in multiple /Pseudomonas/ species, as per : Ornston, 1971 PMCID PMC378377"
   ]
  },
  {
   "cell_type": "code",
   "execution_count": 9,
   "metadata": {},
   "outputs": [],
   "source": [
    "rxn3 = ensemble.base_model.reactions.get_by_id('rxn00245_c').copy()\n",
    "rxn3.gene_reaction_rule = '(PSPTO_2662)'\n",
    "rxn3.notes = {'ensemble_curation_step' :1}\n",
    "model.add_reactions([rxn3])"
   ]
  },
  {
   "cell_type": "markdown",
   "metadata": {},
   "source": [
    "rxn01934 is present in /Pseudomonas convexa/ and was originally curated in /Pseudomonas putida/ : PMID : 976259\n",
    "Here, we also found that there are no annotations regarding this specific ativity of alpha-hydroxy-acid dehydrogenase, but BLAST local alignment suggests the presence of AHA dehydrogenase in the genome"
   ]
  },
  {
   "cell_type": "code",
   "execution_count": 10,
   "metadata": {},
   "outputs": [],
   "source": [
    "rxn4 = ensemble.base_model.reactions.get_by_id('rxn01934_c').copy()\n",
    "rxn4.gene_reaction_rule = '(PSPTO_2424 or PSPTO_2434 or PSPTO_3287 or PSPTO_3460 or PSPTO_3920)'\n",
    "rxn4.notes = {'ensemble_curation_step' :1}\n",
    "model.add_reactions([rxn4])"
   ]
  },
  {
   "cell_type": "markdown",
   "metadata": {},
   "source": [
    "rxn01827 shows evidence of exsisting due to the presence of the catalyzing enzyme in the Pto genome: PSPTO_2346"
   ]
  },
  {
   "cell_type": "code",
   "execution_count": 11,
   "metadata": {},
   "outputs": [],
   "source": [
    "rxn5 = ensemble.base_model.reactions.get_by_id('rxn01827_c').copy()\n",
    "rxn5.gene_reaction_rule = '(PSPTO_2346)'\n",
    "rxn5.notes = {'ensemble_curation_step' :1}\n",
    "model.add_reactions([rxn5])"
   ]
  },
  {
   "cell_type": "raw",
   "metadata": {},
   "source": [
    "rxn01423 shows evidence in Pto, however, there is evidence in other species of /Pseduomonas/. BLAST shows no signficant results other than an apparent PLP-dependant domain, which is present in both PLP amino transferases and the Pto protein : PLP dependant protein, which may be a pseudogene of it; for Pto, the protein that seems to fill this role is PSPTO_0096, annotated as a GntR family transcriptional regulator/ aminotransferase, a blast of this against /Pseudomonas/ shows this is a PLP-dependant aminotransferase and likely the one responsible for this transfer"
   ]
  },
  {
   "cell_type": "code",
   "execution_count": 12,
   "metadata": {},
   "outputs": [
    {
     "name": "stderr",
     "output_type": "stream",
     "text": [
      "Ignoring reaction 'rxn01423_c' since it already exists.\n"
     ]
    }
   ],
   "source": [
    "rxn6 = ensemble.base_model.reactions.get_by_id('rxn01423_c').copy()\n",
    "rxn6.gene_reaction_rule = '(PSPTO_0096)'\n",
    "rxn6.notes = {'ensemble_curation_step' :1}\n",
    "model.add_reactions([rxn6])"
   ]
  },
  {
   "cell_type": "code",
   "execution_count": 15,
   "metadata": {},
   "outputs": [],
   "source": [
    "cobra.io.write_sbml_model(model, '../results/reconstructions/psy_6_arg.xml')"
   ]
  }
 ],
 "metadata": {
  "kernelspec": {
   "display_name": "Python 3",
   "language": "python",
   "name": "python3"
  },
  "language_info": {
   "codemirror_mode": {
    "name": "ipython",
    "version": 3
   },
   "file_extension": ".py",
   "mimetype": "text/x-python",
   "name": "python",
   "nbconvert_exporter": "python",
   "pygments_lexer": "ipython3",
   "version": "3.6.8"
  }
 },
 "nbformat": 4,
 "nbformat_minor": 2
}
