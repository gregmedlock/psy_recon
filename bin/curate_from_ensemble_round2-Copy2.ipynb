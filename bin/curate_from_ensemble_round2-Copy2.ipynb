{
 "cells": [
  {
   "cell_type": "code",
   "execution_count": 1,
   "metadata": {},
   "outputs": [],
   "source": [
    "import pandas as pd\n",
    "import cobra\n",
    "from pickle import load"
   ]
  },
  {
   "cell_type": "code",
   "execution_count": 3,
   "metadata": {},
   "outputs": [],
   "source": [
    "# load the dataframe of important features\n",
    "imp_frame = pd.read_csv('../results/ensemble_learning_important_reactions_round2.csv',sep=',')\n",
    "\n",
    "# load the current version of the reconstruction that was used to generate the ensemble\n",
    "model = cobra.io.read_sbml_model('../results/reconstructions/model_post_ensemble_curation_round1.xml')\n",
    "\n",
    "# read the ensemble so we can pull the gapfilled reactions to add to the draft reconstruction\n",
    "with open(\"../results/ensembles/psy_ensemble_500_SEED_biomass_round2.pickle\",'rb') as infile:\n",
    "            ensemble = load(infile)"
   ]
  },
  {
   "cell_type": "code",
   "execution_count": 4,
   "metadata": {},
   "outputs": [
    {
     "data": {
      "text/html": [
       "<div>\n",
       "<style scoped>\n",
       "    .dataframe tbody tr th:only-of-type {\n",
       "        vertical-align: middle;\n",
       "    }\n",
       "\n",
       "    .dataframe tbody tr th {\n",
       "        vertical-align: top;\n",
       "    }\n",
       "\n",
       "    .dataframe thead th {\n",
       "        text-align: right;\n",
       "    }\n",
       "</style>\n",
       "<table border=\"1\" class=\"dataframe\">\n",
       "  <thead>\n",
       "    <tr style=\"text-align: right;\">\n",
       "      <th></th>\n",
       "      <th>Unnamed: 0</th>\n",
       "      <th>importance</th>\n",
       "      <th>fraction active in 0</th>\n",
       "      <th>fraction active in 1</th>\n",
       "    </tr>\n",
       "  </thead>\n",
       "  <tbody>\n",
       "    <tr>\n",
       "      <th>0</th>\n",
       "      <td>rxn12060_c_lower_bound</td>\n",
       "      <td>0.027648</td>\n",
       "      <td>0.164557</td>\n",
       "      <td>0.824561</td>\n",
       "    </tr>\n",
       "    <tr>\n",
       "      <th>1</th>\n",
       "      <td>rxn00394_c_upper_bound</td>\n",
       "      <td>0.026927</td>\n",
       "      <td>0.303797</td>\n",
       "      <td>0.011696</td>\n",
       "    </tr>\n",
       "    <tr>\n",
       "      <th>2</th>\n",
       "      <td>rxn12060_c_upper_bound</td>\n",
       "      <td>0.025805</td>\n",
       "      <td>0.164557</td>\n",
       "      <td>0.824561</td>\n",
       "    </tr>\n",
       "    <tr>\n",
       "      <th>3</th>\n",
       "      <td>rxn00399_c_upper_bound</td>\n",
       "      <td>0.024043</td>\n",
       "      <td>0.512658</td>\n",
       "      <td>0.032164</td>\n",
       "    </tr>\n",
       "    <tr>\n",
       "      <th>4</th>\n",
       "      <td>rxn00399_c_lower_bound</td>\n",
       "      <td>0.020256</td>\n",
       "      <td>0.512658</td>\n",
       "      <td>0.032164</td>\n",
       "    </tr>\n",
       "    <tr>\n",
       "      <th>5</th>\n",
       "      <td>rxn03990_c_lower_bound</td>\n",
       "      <td>0.013899</td>\n",
       "      <td>0.310127</td>\n",
       "      <td>0.011696</td>\n",
       "    </tr>\n",
       "    <tr>\n",
       "      <th>6</th>\n",
       "      <td>rxn11674_c_lower_bound</td>\n",
       "      <td>0.013391</td>\n",
       "      <td>0.487342</td>\n",
       "      <td>0.081871</td>\n",
       "    </tr>\n",
       "    <tr>\n",
       "      <th>7</th>\n",
       "      <td>rxn05303_c_lower_bound</td>\n",
       "      <td>0.011722</td>\n",
       "      <td>0.183544</td>\n",
       "      <td>0.000000</td>\n",
       "    </tr>\n",
       "    <tr>\n",
       "      <th>8</th>\n",
       "      <td>rxn04702_c_upper_bound</td>\n",
       "      <td>0.011248</td>\n",
       "      <td>0.360759</td>\n",
       "      <td>0.035088</td>\n",
       "    </tr>\n",
       "    <tr>\n",
       "      <th>9</th>\n",
       "      <td>rxn11674_c_upper_bound</td>\n",
       "      <td>0.011186</td>\n",
       "      <td>0.487342</td>\n",
       "      <td>0.081871</td>\n",
       "    </tr>\n",
       "    <tr>\n",
       "      <th>10</th>\n",
       "      <td>rxn01934_c_lower_bound</td>\n",
       "      <td>0.010945</td>\n",
       "      <td>0.487342</td>\n",
       "      <td>0.081871</td>\n",
       "    </tr>\n",
       "    <tr>\n",
       "      <th>11</th>\n",
       "      <td>rxn03990_c_upper_bound</td>\n",
       "      <td>0.008784</td>\n",
       "      <td>0.310127</td>\n",
       "      <td>0.011696</td>\n",
       "    </tr>\n",
       "    <tr>\n",
       "      <th>12</th>\n",
       "      <td>rxn01934_c_upper_bound</td>\n",
       "      <td>0.008770</td>\n",
       "      <td>0.487342</td>\n",
       "      <td>0.081871</td>\n",
       "    </tr>\n",
       "    <tr>\n",
       "      <th>13</th>\n",
       "      <td>rxn27379_c_upper_bound</td>\n",
       "      <td>0.008296</td>\n",
       "      <td>0.151899</td>\n",
       "      <td>0.000000</td>\n",
       "    </tr>\n",
       "    <tr>\n",
       "      <th>14</th>\n",
       "      <td>rxn00245_c_upper_bound</td>\n",
       "      <td>0.008263</td>\n",
       "      <td>0.443038</td>\n",
       "      <td>0.078947</td>\n",
       "    </tr>\n",
       "    <tr>\n",
       "      <th>15</th>\n",
       "      <td>rxn27379_c_lower_bound</td>\n",
       "      <td>0.007895</td>\n",
       "      <td>0.151899</td>\n",
       "      <td>0.000000</td>\n",
       "    </tr>\n",
       "    <tr>\n",
       "      <th>16</th>\n",
       "      <td>rxn05303_c_upper_bound</td>\n",
       "      <td>0.007374</td>\n",
       "      <td>0.183544</td>\n",
       "      <td>0.000000</td>\n",
       "    </tr>\n",
       "    <tr>\n",
       "      <th>17</th>\n",
       "      <td>rxn04702_c_lower_bound</td>\n",
       "      <td>0.007270</td>\n",
       "      <td>0.360759</td>\n",
       "      <td>0.035088</td>\n",
       "    </tr>\n",
       "    <tr>\n",
       "      <th>18</th>\n",
       "      <td>rxn10966_c_upper_bound</td>\n",
       "      <td>0.007224</td>\n",
       "      <td>0.575949</td>\n",
       "      <td>0.181287</td>\n",
       "    </tr>\n",
       "    <tr>\n",
       "      <th>19</th>\n",
       "      <td>rxn10966_c_lower_bound</td>\n",
       "      <td>0.007174</td>\n",
       "      <td>0.575949</td>\n",
       "      <td>0.181287</td>\n",
       "    </tr>\n",
       "  </tbody>\n",
       "</table>\n",
       "</div>"
      ],
      "text/plain": [
       "                Unnamed: 0  importance  fraction active in 0  \\\n",
       "0   rxn12060_c_lower_bound    0.027648              0.164557   \n",
       "1   rxn00394_c_upper_bound    0.026927              0.303797   \n",
       "2   rxn12060_c_upper_bound    0.025805              0.164557   \n",
       "3   rxn00399_c_upper_bound    0.024043              0.512658   \n",
       "4   rxn00399_c_lower_bound    0.020256              0.512658   \n",
       "5   rxn03990_c_lower_bound    0.013899              0.310127   \n",
       "6   rxn11674_c_lower_bound    0.013391              0.487342   \n",
       "7   rxn05303_c_lower_bound    0.011722              0.183544   \n",
       "8   rxn04702_c_upper_bound    0.011248              0.360759   \n",
       "9   rxn11674_c_upper_bound    0.011186              0.487342   \n",
       "10  rxn01934_c_lower_bound    0.010945              0.487342   \n",
       "11  rxn03990_c_upper_bound    0.008784              0.310127   \n",
       "12  rxn01934_c_upper_bound    0.008770              0.487342   \n",
       "13  rxn27379_c_upper_bound    0.008296              0.151899   \n",
       "14  rxn00245_c_upper_bound    0.008263              0.443038   \n",
       "15  rxn27379_c_lower_bound    0.007895              0.151899   \n",
       "16  rxn05303_c_upper_bound    0.007374              0.183544   \n",
       "17  rxn04702_c_lower_bound    0.007270              0.360759   \n",
       "18  rxn10966_c_upper_bound    0.007224              0.575949   \n",
       "19  rxn10966_c_lower_bound    0.007174              0.575949   \n",
       "\n",
       "    fraction active in 1  \n",
       "0               0.824561  \n",
       "1               0.011696  \n",
       "2               0.824561  \n",
       "3               0.032164  \n",
       "4               0.032164  \n",
       "5               0.011696  \n",
       "6               0.081871  \n",
       "7               0.000000  \n",
       "8               0.035088  \n",
       "9               0.081871  \n",
       "10              0.081871  \n",
       "11              0.011696  \n",
       "12              0.081871  \n",
       "13              0.000000  \n",
       "14              0.078947  \n",
       "15              0.000000  \n",
       "16              0.000000  \n",
       "17              0.035088  \n",
       "18              0.181287  \n",
       "19              0.181287  "
      ]
     },
     "execution_count": 4,
     "metadata": {},
     "output_type": "execute_result"
    }
   ],
   "source": [
    "imp_frame.head(20)"
   ]
  },
  {
   "cell_type": "markdown",
   "metadata": {},
   "source": [
    "First, we'll curate a few reactions from the previous round that we finished curating after starting the second round of ensemble generation. The first is rxn01423, L-2-aminoadipate:2-oxoglutarate aminotransferase. There is evidence that this exists in Pseudomonas putida (doi: 10.1128/JB.187.21.7500–7510.2005); there are two candidates that match in the P. syringae sv. tomato DC3000 genome, PSPTO_4775 (https://www.uniprot.org/uniprot/Q87W08) and PSPTO_5504 (https://www.uniprot.org/uniprot/Q87U11). Both are GntR transcriptional regulators that also have aminotransferase activity (MocR family, which transfers amino groups to keto-acid receptors), there is significant sequence similarity to a Pseudomonas florescens 2-aminoadipate aminotransferase (Uniprot accession P florescens: A0A0K1QLZ8). BLAST of the two putative P. syringae sv tomato DC3000 genes suggests the aminotransferase domain is conserved, but the proteins are ~100AA different in length. We hypothesize that a duplication event led to insertion of the aminotransferase in a transcription factor gene, so we will add both genes within an OR relationship for this reaction."
   ]
  },
  {
   "cell_type": "code",
   "execution_count": 5,
   "metadata": {},
   "outputs": [],
   "source": [
    "rxn1 = ensemble.base_model.reactions.get_by_id('rxn01423_c').copy()\n",
    "rxn1.gene_reaction_rule  = ' PSPTO_4775 or PSPTO_5504 '\n",
    "rxn1.notes = {'ensemble_curation_step':1}\n",
    "model.add_reactions([rxn1])"
   ]
  },
  {
   "cell_type": "markdown",
   "metadata": {},
   "source": [
    "Filler text for Phil's next reaction"
   ]
  },
  {
   "cell_type": "code",
   "execution_count": 5,
   "metadata": {},
   "outputs": [],
   "source": []
  },
  {
   "cell_type": "markdown",
   "metadata": {},
   "source": [
    "Working down the round 2 list, let's investigate rxn12060, a multistep reaction that converts xanthine and s-adenosyl-L-methionine to theophylline and s-adenosyl-L-homocysteine. "
   ]
  },
  {
   "cell_type": "code",
   "execution_count": 6,
   "metadata": {},
   "outputs": [],
   "source": []
  },
  {
   "cell_type": "markdown",
   "metadata": {},
   "source": []
  },
  {
   "cell_type": "code",
   "execution_count": 7,
   "metadata": {},
   "outputs": [],
   "source": []
  },
  {
   "cell_type": "markdown",
   "metadata": {},
   "source": []
  },
  {
   "cell_type": "code",
   "execution_count": 8,
   "metadata": {},
   "outputs": [],
   "source": []
  },
  {
   "cell_type": "code",
   "execution_count": 9,
   "metadata": {},
   "outputs": [],
   "source": []
  },
  {
   "cell_type": "code",
   "execution_count": 10,
   "metadata": {},
   "outputs": [],
   "source": [
    "#http://modelseed.org/biochem/reactions/rxn01827 - Phil"
   ]
  },
  {
   "cell_type": "code",
   "execution_count": 11,
   "metadata": {},
   "outputs": [],
   "source": [
    "#http://modelseed.org/biochem/reactions/rxn01423 - Phil"
   ]
  },
  {
   "cell_type": "code",
   "execution_count": 29,
   "metadata": {},
   "outputs": [
    {
     "data": {
      "text/plain": [
       "78"
      ]
     },
     "execution_count": 29,
     "metadata": {},
     "output_type": "execute_result"
    }
   ],
   "source": []
  }
 ],
 "metadata": {
  "kernelspec": {
   "display_name": "Python 3",
   "language": "python",
   "name": "python3"
  },
  "language_info": {
   "codemirror_mode": {
    "name": "ipython",
    "version": 3
   },
   "file_extension": ".py",
   "mimetype": "text/x-python",
   "name": "python",
   "nbconvert_exporter": "python",
   "pygments_lexer": "ipython3",
   "version": "3.6.8"
  }
 },
 "nbformat": 4,
 "nbformat_minor": 2
}
