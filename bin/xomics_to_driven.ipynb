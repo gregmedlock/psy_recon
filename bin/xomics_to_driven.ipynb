{
 "cells": [
  {
   "cell_type": "code",
   "execution_count": 1,
   "metadata": {},
   "outputs": [],
   "source": [
    "import pandas as pd"
   ]
  },
  {
   "cell_type": "code",
   "execution_count": 2,
   "metadata": {},
   "outputs": [
    {
     "name": "stderr",
     "output_type": "stream",
     "text": [
      "/Users/greg/.virtualenvs/psy_recons/lib/python3.6/site-packages/ipykernel_launcher.py:25: FutureWarning: Sorting because non-concatenation axis is not aligned. A future version\n",
      "of pandas will change to not sort by default.\n",
      "\n",
      "To accept the future behavior, pass 'sort=False'.\n",
      "\n",
      "To retain the current behavior and silence the warning, pass 'sort=True'.\n",
      "\n"
     ]
    }
   ],
   "source": [
    "fname = '../data/nobori_2018/pnas.1800529115.sd02.xlsx'\n",
    "conditions = ['MM','vivo','flg22','D36E','AvrRpt2','AvrRps4']\n",
    "all_conditions_frames = []\n",
    "# load the up and down sheet for each comparison, then merge\n",
    "# them into a single dataframe and rename the columns to meet the\n",
    "# conventions in the driven package.\n",
    "for condition in conditions:\n",
    "    down = pd.read_excel(fname,sheet_name=condition+\"_down\")\n",
    "    down = down.rename({condition+'_down':'gene'},axis='columns')\n",
    "    up = pd.read_excel(fname,sheet_name=condition+\"_up\")\n",
    "    up = up.rename({condition+'_up':'gene'},axis='columns')\n",
    "    both = pd.concat([down,up])\n",
    "    fchange_col = both.columns\n",
    "    expression_column = [c for c in both.columns if \"fold change\" in c][0]\n",
    "    p_column = [c for c in both.columns if \"q-value\" in c][0]\n",
    "    condition = expression_column.split(': ')[1]\n",
    "    both = both.rename({p_column:\\\n",
    "        \"p-value-\"+condition,expression_column:condition},axis='columns')\n",
    "    \n",
    "    # split each gene name by '-' to get the KEGG gene ID only,\n",
    "    # then reassign it to the index\n",
    "    new_index = [s[0] for s in both['gene'].str.split('-')]\n",
    "    both.index = new_index\n",
    "    both = both.drop('gene',axis=1)\n",
    "    all_conditions_frames.append(both)\n",
    "xomics_data = pd.concat(all_conditions_frames,axis=1)\n",
    "\n",
    "# for p-value columns that are NaN after the merge, reassign as 1 to indicate\n",
    "# not significant\n",
    "\n",
    "# for expression, do the equivalent (set foldchange to 0)"
   ]
  },
  {
   "cell_type": "code",
   "execution_count": 3,
   "metadata": {},
   "outputs": [],
   "source": [
    "# try loading flg vs. mock expression first"
   ]
  },
  {
   "cell_type": "code",
   "execution_count": null,
   "metadata": {},
   "outputs": [],
   "source": []
  }
 ],
 "metadata": {
  "kernelspec": {
   "display_name": "Python 3",
   "language": "python",
   "name": "python3"
  },
  "language_info": {
   "codemirror_mode": {
    "name": "ipython",
    "version": 3
   },
   "file_extension": ".py",
   "mimetype": "text/x-python",
   "name": "python",
   "nbconvert_exporter": "python",
   "pygments_lexer": "ipython3",
   "version": "3.6.5"
  }
 },
 "nbformat": 4,
 "nbformat_minor": 2
}
