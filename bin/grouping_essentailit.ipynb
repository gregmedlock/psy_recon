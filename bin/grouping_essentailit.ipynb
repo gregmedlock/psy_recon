{
 "cells": [
  {
   "cell_type": "code",
   "execution_count": 1,
   "metadata": {},
   "outputs": [],
   "source": [
    "#group the gene essentaility screens based on ID\n",
    "import pandas as pd"
   ]
  },
  {
   "cell_type": "code",
   "execution_count": 2,
   "metadata": {},
   "outputs": [],
   "source": [
    "all_tables = pd.read_csv(\"../results/gene_essentiality/ensemble_essentialiity/complete_essentiality.csv\")\n",
    "df3 = all_tables['growth'].groupby(all_tables['ids']).unique().apply(pd.Series)\n",
    "df3.to_csv('../results/gene_essentiality/ensemble_essentialiity/unique_complete.csv')"
   ]
  },
  {
   "cell_type": "code",
   "execution_count": 4,
   "metadata": {},
   "outputs": [],
   "source": [
    "all_tables = pd.read_csv(\"../results/gene_essentiality/ensemble_essentialiity/anderson_essentiality.csv\")\n",
    "df3 = all_tables['growth'].groupby(all_tables['ids']).unique().apply(pd.Series)\n",
    "df3.to_csv('../results/gene_essentiality/ensemble_essentialiity/unique_anderson.csv')"
   ]
  },
  {
   "cell_type": "code",
   "execution_count": 5,
   "metadata": {},
   "outputs": [],
   "source": [
    "all_tables = pd.read_csv(\"../results/gene_essentiality/ensemble_essentialiity/gluc_essentiality.csv\")\n",
    "df3 = all_tables['growth'].groupby(all_tables['ids']).unique().apply(pd.Series)\n",
    "df3.to_csv('../results/gene_essentiality/ensemble_essentialiity/unique_gluc.csv')"
   ]
  },
  {
   "cell_type": "code",
   "execution_count": 6,
   "metadata": {},
   "outputs": [],
   "source": [
    "all_tables = pd.read_csv(\"../results/gene_essentiality/ensemble_essentialiity/glut_essentiality.csv\")\n",
    "df3 = all_tables['growth'].groupby(all_tables['ids']).unique().apply(pd.Series)\n",
    "df3.to_csv('../results/gene_essentiality/ensemble_essentialiity/unique_glut.csv')"
   ]
  },
  {
   "cell_type": "code",
   "execution_count": null,
   "metadata": {},
   "outputs": [],
   "source": []
  }
 ],
 "metadata": {
  "kernelspec": {
   "display_name": "cobraenv",
   "language": "python",
   "name": "cobraenv"
  },
  "language_info": {
   "codemirror_mode": {
    "name": "ipython",
    "version": 3
   },
   "file_extension": ".py",
   "mimetype": "text/x-python",
   "name": "python",
   "nbconvert_exporter": "python",
   "pygments_lexer": "ipython3",
   "version": "3.7.3"
  }
 },
 "nbformat": 4,
 "nbformat_minor": 2
}
