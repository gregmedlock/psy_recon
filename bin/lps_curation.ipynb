{
 "cells": [
  {
   "cell_type": "code",
   "execution_count": 1,
   "metadata": {},
   "outputs": [
    {
     "ename": "ModuleNotFoundError",
     "evalue": "No module named 'cobra'",
     "output_type": "error",
     "traceback": [
      "\u001b[0;31m---------------------------------------------------------------------------\u001b[0m",
      "\u001b[0;31mModuleNotFoundError\u001b[0m                       Traceback (most recent call last)",
      "\u001b[0;32m<ipython-input-1-8d6440d1668e>\u001b[0m in \u001b[0;36m<module>\u001b[0;34m\u001b[0m\n\u001b[0;32m----> 1\u001b[0;31m \u001b[0;32mimport\u001b[0m \u001b[0mcobra\u001b[0m\u001b[0;34m\u001b[0m\u001b[0;34m\u001b[0m\u001b[0m\n\u001b[0m\u001b[1;32m      2\u001b[0m \u001b[0;32mfrom\u001b[0m \u001b[0mcobra\u001b[0m \u001b[0;32mimport\u001b[0m \u001b[0mGene\u001b[0m\u001b[0;34m,\u001b[0m \u001b[0mMetabolite\u001b[0m\u001b[0;34m,\u001b[0m \u001b[0mReaction\u001b[0m\u001b[0;34m\u001b[0m\u001b[0;34m\u001b[0m\u001b[0m\n",
      "\u001b[0;31mModuleNotFoundError\u001b[0m: No module named 'cobra'"
     ]
    }
   ],
   "source": [
    "import cobra\n",
    "from cobra import Gene, Metabolite, Reaction"
   ]
  },
  {
   "cell_type": "code",
   "execution_count": 2,
   "metadata": {},
   "outputs": [],
   "source": [
    "model = cobra.io.read_sbml_model(\"../results/reconstructions/v5_with_all_annotations.xml\")\n",
    "universal = cobra.io.load_json_model(\"../data/modelseed_data/seed_universal.json\")"
   ]
  },
  {
   "cell_type": "code",
   "execution_count": 3,
   "metadata": {},
   "outputs": [
    {
     "data": {
      "text/html": [
       "\n",
       "        <table>\n",
       "            <tr>\n",
       "                <td><strong>Metabolite identifier</strong></td><td>cpd03587_c</td>\n",
       "            </tr><tr>\n",
       "                <td><strong>Name</strong></td><td>kdo2-lipid a</td>\n",
       "            </tr><tr>\n",
       "                <td><strong>Memory address</strong></td>\n",
       "                <td>0x011da8cd68</td>\n",
       "            </tr><tr>\n",
       "                <td><strong>Formula</strong></td><td>C110H196N2O39P2</td>\n",
       "            </tr><tr>\n",
       "                <td><strong>Compartment</strong></td><td>c</td>\n",
       "            </tr><tr>\n",
       "                <td><strong>In 6 reaction(s)</strong></td><td>\n",
       "                    rxn08790_c, rxn10088_c, rxn09082_c, rxn08710_c, rxn09083_c, rxn06848_c</td>\n",
       "            </tr>\n",
       "        </table>"
      ],
      "text/plain": [
       "<Metabolite cpd03587_c at 0x11da8cd68>"
      ]
     },
     "execution_count": 3,
     "metadata": {},
     "output_type": "execute_result"
    }
   ],
   "source": [
    "universal.metabolites.cpd03587_c"
   ]
  },
  {
   "cell_type": "code",
   "execution_count": 4,
   "metadata": {},
   "outputs": [
    {
     "data": {
      "text/plain": [
       "479"
      ]
     },
     "execution_count": 4,
     "metadata": {},
     "output_type": "execute_result"
    }
   ],
   "source": [
    "len(model.genes)"
   ]
  },
  {
   "cell_type": "markdown",
   "metadata": {},
   "source": [
    "The pathway for lipid A biosynthesis, key for virulance and LPS biosynthesis, citing from doi.org/10.1371/journal.pone.0121216"
   ]
  },
  {
   "cell_type": "code",
   "execution_count": 5,
   "metadata": {},
   "outputs": [],
   "source": [
    "#reaction of lps lipid a biosythesis identified by the gene names\n",
    "lpxa = universal.reactions.rxn06729_c.copy()\n",
    "lpxa.gene_reaciton_rule = (\"PSPTO_1546\")\n",
    "\n",
    "lpxc = universal.reactions.rxn03146_c.copy()\n",
    "lpxc.gene_reaction_rule = (\"PSPTO_4402\")\n",
    "\n",
    "lpxd = universal.reactions.rxn06723_c.copy()\n",
    "lpxd.gene_reaction_rule = (\"PSPTO_1542\")\n",
    "\n",
    "lpxh = universal.reactions.rxn03130_c.copy()\n",
    "lpxh.gene_reaction_rule = (\"PSPTO_3745\")\n",
    "\n",
    "lpxb1 = universal.reactions.rxn03159_c.copy()\n",
    "lpxb1.gene_reaction_rule = (\"PSPTO_1547\")\n",
    "\n",
    "lpxb2 = universal.reactions.rxn03181_c.copy()\n",
    "lpxb2.gene_reaction_rule = (\"PSPTO_1547\")\n",
    "\n",
    "kdta1 = universal.reactions.rxn03182_c.copy()\n",
    "kdta1.gene_reaction_rule = (\"PSPTO_4978\")\n",
    "\n",
    "kdta2 = universal.reactions.rxn03439_c.copy()\n",
    "kdta2.gene_reaction_rule = (\"PSPTO_4978\")\n",
    "\n",
    "htrb = universal.reactions.rxn06848_c.copy()\n",
    "htrb.gene_reaction_rule = (\"PSPTO_3871\")\n",
    "\n",
    "model.add_reactions([lpxa, lpxc, lpxd,lpxh,lpxb1,lpxb2,kdta1,kdta2,htrb])"
   ]
  },
  {
   "cell_type": "markdown",
   "metadata": {},
   "source": [
    "# msba is transport reaction to membrane, requires ABC transporter, not previously annotataed in modelseed\n",
    "msba = Reaction(\"rxn0001_PT\")\n",
    "msba.name = (\"Lipid A Transport\")\n",
    "msba.lower_bound = 0\n",
    "msba.upper_bound = 1000\n",
    "cpd03587_e = Metabolite(\n",
    "    'LipidA_e',\n",
    "    formula='C110H196N2O39P2',\n",
    "    name='KDO2 Lipid A, membrane bound',\n",
    "    compartment='e')\n",
    "msba.add_metabolites({cpd03587_c: -1.0,cpd00002_c: -1.0,cpd00001_c: -1.0,cpd03587_e: 1.0,cpd00008_c: 1.0,cpd00009_c: 1.0})\n",
    "msba.gene_reaction_rule = (\"PSPTO_4984\")\n",
    "model.add_reactions([msba])"
   ]
  },
  {
   "cell_type": "code",
   "execution_count": 7,
   "metadata": {},
   "outputs": [],
   "source": [
    "cobra.io.write_sbml_model(model, \"../results/psy_6.xml\")"
   ]
  },
  {
   "cell_type": "code",
   "execution_count": null,
   "metadata": {},
   "outputs": [],
   "source": []
  }
 ],
 "metadata": {
  "kernelspec": {
   "display_name": "Python 3",
   "language": "python",
   "name": "python3"
  },
  "language_info": {
   "codemirror_mode": {
    "name": "ipython",
    "version": 3
   },
   "file_extension": ".py",
   "mimetype": "text/x-python",
   "name": "python",
   "nbconvert_exporter": "python",
   "pygments_lexer": "ipython3",
   "version": "3.7.3"
  }
 },
 "nbformat": 4,
 "nbformat_minor": 2
}
