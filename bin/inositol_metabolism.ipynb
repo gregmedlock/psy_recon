{
 "cells": [
  {
   "cell_type": "markdown",
   "metadata": {},
   "source": [
    "Purpose: Due to the high growth produce in myo-inositol only substrate, curation of the pathway is necessary. Thus:"
   ]
  },
  {
   "cell_type": "code",
   "execution_count": 1,
   "metadata": {},
   "outputs": [],
   "source": [
    "import cobra\n",
    "from cobra import Metabolite, Gene, Reaction"
   ]
  },
  {
   "cell_type": "code",
   "execution_count": 2,
   "metadata": {},
   "outputs": [],
   "source": [
    "model = cobra.io.read_sbml_model('../results/reconstructions/psy_6_arg.xml')\n",
    "universal = cobra.io.load_json_model('../data/modelseed_data/seed_universal.json')"
   ]
  },
  {
   "cell_type": "markdown",
   "metadata": {},
   "source": [
    "begin curation of the myo inositol pathway, starting with initial catabolism, curated using the KEGG pathway rn00562 pathway:phosphoinositol metabolism"
   ]
  },
  {
   "cell_type": "code",
   "execution_count": 17,
   "metadata": {},
   "outputs": [
    {
     "name": "stderr",
     "output_type": "stream",
     "text": [
      "Ignoring reaction 'rxn00879_c' since it already exists.\n",
      "Ignoring reaction 'rxn02007_c' since it already exists.\n",
      "Ignoring reaction 'rxn12147_c' since it already exists.\n",
      "Ignoring reaction 'rxn12146_c' since it already exists.\n",
      "Ignoring reaction 'rxn03032_c' since it already exists.\n",
      "Ignoring reaction 'rxn01176_c' since it already exists.\n",
      "Ignoring reaction 'rxn00747_c' since it already exists.\n"
     ]
    }
   ],
   "source": [
    "# add the reaction objects\n",
    "rxn1 = universal.reactions.rxn00879_c.copy()\n",
    "rxn1.gene_reaction_rule = (\"PSPTO_3047 or PSPTO_3495\")\n",
    "rxn2 = universal.reactions.rxn02007_c.copy()\n",
    "rxn2.gene_reaction_rule = ('PSPTO_3499 or PSPTO_3018')\n",
    "rxn3 = universal.reactions.rxn12147_c.copy()\n",
    "rxn3.gene_reaction_rule = (\"PSPTO_3495\")\n",
    "rxn4 = universal.reactions.rxn12146_c.copy()\n",
    "rxn4.gene_reaction_rule = ('PSPTO_3948')\n",
    "rxn5 = universal.reactions.rxn03032_c.copy()\n",
    "rxn5.gene_reaction_rule = (\"PSPTO_3500\")\n",
    "rxn6 = universal.reactions.rxn01176_c.copy()\n",
    "rxn6.gene_reaction_rule = ('PSPTO_0390')\n",
    "rxn7 = universal.reactions.rxn00747_c.copy()\n",
    "rxn7.gene_reaction_rule = ('PSPTO_4494')\n",
    "rxn8 = universal.reactions.rxn05593_c.copy()\n",
    "rxn8.gene_reaction_rule = (\"PSPTO_3050 and PSPTO_3488 and PSPTO_3489 and PSPTO_3490\")\n",
    "\n",
    "model.add_reactions([rxn1,rxn2,rxn3,rxn4,rxn5,rxn6,rxn7, rxn8])"
   ]
  },
  {
   "cell_type": "code",
   "execution_count": 18,
   "metadata": {},
   "outputs": [
    {
     "data": {
      "text/plain": [
       "515"
      ]
     },
     "execution_count": 18,
     "metadata": {},
     "output_type": "execute_result"
    }
   ],
   "source": [
    "len(model.genes)"
   ]
  },
  {
   "cell_type": "code",
   "execution_count": 15,
   "metadata": {},
   "outputs": [
    {
     "data": {
      "text/plain": [
       "<optlang.container.Container at 0x12161eba8>"
      ]
     },
     "execution_count": 15,
     "metadata": {},
     "output_type": "execute_result"
    }
   ],
   "source": []
  },
  {
   "cell_type": "code",
   "execution_count": null,
   "metadata": {},
   "outputs": [],
   "source": []
  }
 ],
 "metadata": {
  "kernelspec": {
   "display_name": "cobraenv",
   "language": "python",
   "name": "cobraenv"
  },
  "language_info": {
   "codemirror_mode": {
    "name": "ipython",
    "version": 3
   },
   "file_extension": ".py",
   "mimetype": "text/x-python",
   "name": "python",
   "nbconvert_exporter": "python",
   "pygments_lexer": "ipython3",
   "version": "3.7.3"
  }
 },
 "nbformat": 4,
 "nbformat_minor": 2
}
