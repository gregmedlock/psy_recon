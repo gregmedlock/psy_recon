{
 "cells": [
  {
   "cell_type": "code",
   "execution_count": 1,
   "metadata": {},
   "outputs": [],
   "source": [
    "import cobra\n",
    "import pandas as pd\n",
    "from cobra import Metabolite, Gene, Reaction"
   ]
  },
  {
   "cell_type": "code",
   "execution_count": 2,
   "metadata": {},
   "outputs": [],
   "source": [
    "psy = cobra.io.load_json_model('../results/reconstructions/v4_genes.json')"
   ]
  },
  {
   "cell_type": "code",
   "execution_count": 5,
   "metadata": {},
   "outputs": [
    {
     "data": {
      "text/html": [
       "\n",
       "        <table>\n",
       "            <tr>\n",
       "                <td><strong>Metabolite identifier</strong></td><td>cpd00002_c0</td>\n",
       "            </tr><tr>\n",
       "                <td><strong>Name</strong></td><td>ATP</td>\n",
       "            </tr><tr>\n",
       "                <td><strong>Memory address</strong></td>\n",
       "                <td>0x0119b15320</td>\n",
       "            </tr><tr>\n",
       "                <td><strong>Formula</strong></td><td>C10H13N5O13P3</td>\n",
       "            </tr><tr>\n",
       "                <td><strong>Compartment</strong></td><td>c</td>\n",
       "            </tr><tr>\n",
       "                <td><strong>In 138 reaction(s)</strong></td><td>\n",
       "                    rxn02155_c0, rxn05557_c0, rxn00148_c0, rxn01603_c0, rxn10258_c0, rxn00147_c0, rxn05163_c0, rxn02175_c0, rxn05164_c0, rxn05167_c0, rxn05168_c0, rxn05172_c0, rxn05175_c0, rxn05585_c0, rxn05179_c0, rx...</td>\n",
       "            </tr>\n",
       "        </table>"
      ],
      "text/plain": [
       "<Metabolite cpd00002_c0 at 0x119b15320>"
      ]
     },
     "execution_count": 5,
     "metadata": {},
     "output_type": "execute_result"
    }
   ],
   "source": [
    "psy.metabolites.cpd00002_c0"
   ]
  },
  {
   "cell_type": "code",
   "execution_count": 20,
   "metadata": {},
   "outputs": [],
   "source": [
    "#fix one gpr that was miss annotated\n",
    "psy.genes.PAPTO_2706.gene_id = 'PSPTO_2706'\n",
    "psy.genes.PAPTO_2706\n",
    "psy.reactions.rxn05614_c0.gene_reaction_rule = '(PSPTO_0886 and PSPTO_2705 and PSPTO_2706 and PSPTO_0364)'\n",
    "psy.reactions.rxn05614_c0\n",
    "cobra.io.save_json_model(psy, '../results/reconstructions/v5_genes.json')"
   ]
  },
  {
   "cell_type": "code",
   "execution_count": null,
   "metadata": {},
   "outputs": [],
   "source": []
  }
 ],
 "metadata": {
  "kernelspec": {
   "display_name": "Python 3",
   "language": "python",
   "name": "python3"
  },
  "language_info": {
   "codemirror_mode": {
    "name": "ipython",
    "version": 3
   },
   "file_extension": ".py",
   "mimetype": "text/x-python",
   "name": "python",
   "nbconvert_exporter": "python",
   "pygments_lexer": "ipython3",
   "version": "3.5.2"
  }
 },
 "nbformat": 4,
 "nbformat_minor": 2
}
