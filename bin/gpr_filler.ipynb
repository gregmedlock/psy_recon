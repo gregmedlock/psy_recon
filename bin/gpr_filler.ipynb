{
 "cells": [
  {
   "cell_type": "code",
   "execution_count": 6,
   "metadata": {},
   "outputs": [],
   "source": [
    "import pandas as pd\n",
    "import csv"
   ]
  },
  {
   "cell_type": "code",
   "execution_count": 2,
   "metadata": {},
   "outputs": [],
   "source": [
    "no_gpr_reaction_list = pd.read_excel('../data/reactions_from_ensemble_parsed.xlsx')\n",
    "kegg_reaction_list = pd.read_csv('../data/modelseed_data/reactions_seed_20180809.csv')\n",
    "from pickle import load\n",
    "with open(\"../results/ensembles/pto_ensemble_100_cfixed.pickle\", 'rb') as infile:\n",
    "    ensemble = load(infile)"
   ]
  },
  {
   "cell_type": "code",
   "execution_count": 7,
   "metadata": {},
   "outputs": [
    {
     "data": {
      "text/plain": [
       "0                                R00004\n",
       "1                                R00005\n",
       "2                                R00006\n",
       "3                                R00008\n",
       "4                                R00009\n",
       "5                                R00010\n",
       "6                                R00011\n",
       "7                                R00012\n",
       "8                                R00013\n",
       "9                                R00014\n",
       "10                               R00015\n",
       "11                               G1PPDM\n",
       "12                               R00017\n",
       "13                               R00018\n",
       "14                               R00022\n",
       "15                               R00023\n",
       "16                               R00024\n",
       "17                                2NPDO\n",
       "18                               R00026\n",
       "19                               R00027\n",
       "20                               R00028\n",
       "21                               R00029\n",
       "22                               R00031\n",
       "23                               R00032\n",
       "24                               R00033\n",
       "25                               R00034\n",
       "26                               R00068\n",
       "27                               R00036\n",
       "28                               R00038\n",
       "29                               R00039\n",
       "                      ...              \n",
       "34681                   TrnRxn_cpd30658\n",
       "34682                   TrnRxn_cpd26495\n",
       "34683                   TrnRxn_cpd30669\n",
       "34684                   TrnRxn_cpd30708\n",
       "34685                   TrnRxn_cpd27293\n",
       "34686                   TrnRxn_cpd26291\n",
       "34687                   TrnRxn_cpd30700\n",
       "34688                   TrnRxn_cpd30721\n",
       "34689                   TrnRxn_cpd19118\n",
       "34690                   TrnRxn_cpd30660\n",
       "34691                   TrnRxn_cpd30674\n",
       "34692                   TrnRxn_cpd30682\n",
       "34693                   TrnRxn_cpd30654\n",
       "34694                   TrnRxn_cpd30702\n",
       "34695                   TrnRxn_cpd30677\n",
       "34696                       5-MTHF Trns\n",
       "34697            5,10-MethyleneTHF Trns\n",
       "34698           5,10-MethylenylTHF Trns\n",
       "34699                           HU Trns\n",
       "34700    Ribonucleotide reductase (ATP)\n",
       "34701    Ribonucleotide reductase (GTP)\n",
       "34702    Ribonucleotide reductase (CTP)\n",
       "34703    Ribonucleotide reductase (UTP)\n",
       "34704                         Amob Trns\n",
       "34705                           dad-5-p\n",
       "34706                           5-drp-i\n",
       "34707                          5-drlp-a\n",
       "34708                       Sol-PP Trns\n",
       "34709                       UbiQ-9 Trns\n",
       "34710                         PlsQ Trns\n",
       "Name: abbreviation, Length: 34711, dtype: object"
      ]
     },
     "execution_count": 7,
     "metadata": {},
     "output_type": "execute_result"
    }
   ],
   "source": [
    "kegg_reaction_list.abbreviation"
   ]
  },
  {
   "cell_type": "code",
   "execution_count": 3,
   "metadata": {},
   "outputs": [],
   "source": [
    "#modify the gprs to include the manually annotated gene:reactions pairs from KEGG and BLASTing\n",
    "missing_gprs_df = pd.read_excel('../data/gpr_kegg_missing_reactions.xlsx', columns = ['rxn_id', 'gpr'])\n",
    "rxn_gpr_dict = {}\n",
    "for idx, row in missing_gprs_df.iterrows():\n",
    "    rxn_gpr_dict[row.rxn_id + '_c'] = row.gpr\n",
    "    \n",
    "\n",
    "for rxn,gpr in rxn_gpr_dict.items():\n",
    "    if rxn in str(ensemble.base_model.reactions):\n",
    "        ensemble.base_model.reactions.get_by_id(rxn).gene_reaction_rule = gpr"
   ]
  },
  {
   "cell_type": "code",
   "execution_count": 4,
   "metadata": {},
   "outputs": [],
   "source": [
    "save_dir = (\"../results/ensembles/pto_ensemble_100_genes_added_2.pickle\")\n",
    "ensemble.to_pickle(save_dir)"
   ]
  },
  {
   "cell_type": "code",
   "execution_count": 9,
   "metadata": {},
   "outputs": [],
   "source": [
    "gene_list = []\n",
    "for gene in ensemble.base_model.genes:\n",
    "    gene_list.append(gene.id)\n"
   ]
  },
  {
   "cell_type": "code",
   "execution_count": 11,
   "metadata": {},
   "outputs": [],
   "source": [
    "import numpy as np\n",
    "np.savetxt(\"../data/ensemble_genes_for_kegg_ont.csv\", gene_list, delimiter=\",\", fmt='%s')"
   ]
  },
  {
   "cell_type": "code",
   "execution_count": null,
   "metadata": {},
   "outputs": [],
   "source": []
  }
 ],
 "metadata": {
  "kernelspec": {
   "display_name": "Python 3",
   "language": "python",
   "name": "python3"
  },
  "language_info": {
   "codemirror_mode": {
    "name": "ipython",
    "version": 3
   },
   "file_extension": ".py",
   "mimetype": "text/x-python",
   "name": "python",
   "nbconvert_exporter": "python",
   "pygments_lexer": "ipython3",
   "version": "3.6.8"
  }
 },
 "nbformat": 4,
 "nbformat_minor": 4
}
