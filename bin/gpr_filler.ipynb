{
 "cells": [
  {
   "cell_type": "code",
   "execution_count": 1,
   "metadata": {},
   "outputs": [],
   "source": [
    "import pandas as pd\n",
    "import csv"
   ]
  },
  {
   "cell_type": "code",
   "execution_count": 2,
   "metadata": {},
   "outputs": [],
   "source": [
    "no_gpr_reaction_list = pd.read_excel('../data/reactions_from_ensemble_parsed.xlsx')\n",
    "kegg_reaction_list = pd.read_csv('../data/modelseed_data/reactions_seed_20180809.csv')\n",
    "from pickle import load\n",
    "with open(\"../results/ensembles/pto_ensemble_100_round2.pickle\", 'rb') as infile:\n",
    "    ensemble = load(infile)"
   ]
  },
  {
   "cell_type": "code",
   "execution_count": 3,
   "metadata": {},
   "outputs": [
    {
     "data": {
      "text/plain": [
       "0                                R00004\n",
       "1                                R00005\n",
       "2                                R00006\n",
       "3                                R00008\n",
       "4                                R00009\n",
       "5                                R00010\n",
       "6                                R00011\n",
       "7                                R00012\n",
       "8                                R00013\n",
       "9                                R00014\n",
       "10                               R00015\n",
       "11                               G1PPDM\n",
       "12                               R00017\n",
       "13                               R00018\n",
       "14                               R00022\n",
       "15                               R00023\n",
       "16                               R00024\n",
       "17                                2NPDO\n",
       "18                               R00026\n",
       "19                               R00027\n",
       "20                               R00028\n",
       "21                               R00029\n",
       "22                               R00031\n",
       "23                               R00032\n",
       "24                               R00033\n",
       "25                               R00034\n",
       "26                               R00068\n",
       "27                               R00036\n",
       "28                               R00038\n",
       "29                               R00039\n",
       "                      ...              \n",
       "34681                   TrnRxn_cpd30658\n",
       "34682                   TrnRxn_cpd26495\n",
       "34683                   TrnRxn_cpd30669\n",
       "34684                   TrnRxn_cpd30708\n",
       "34685                   TrnRxn_cpd27293\n",
       "34686                   TrnRxn_cpd26291\n",
       "34687                   TrnRxn_cpd30700\n",
       "34688                   TrnRxn_cpd30721\n",
       "34689                   TrnRxn_cpd19118\n",
       "34690                   TrnRxn_cpd30660\n",
       "34691                   TrnRxn_cpd30674\n",
       "34692                   TrnRxn_cpd30682\n",
       "34693                   TrnRxn_cpd30654\n",
       "34694                   TrnRxn_cpd30702\n",
       "34695                   TrnRxn_cpd30677\n",
       "34696                       5-MTHF Trns\n",
       "34697            5,10-MethyleneTHF Trns\n",
       "34698           5,10-MethylenylTHF Trns\n",
       "34699                           HU Trns\n",
       "34700    Ribonucleotide reductase (ATP)\n",
       "34701    Ribonucleotide reductase (GTP)\n",
       "34702    Ribonucleotide reductase (CTP)\n",
       "34703    Ribonucleotide reductase (UTP)\n",
       "34704                         Amob Trns\n",
       "34705                           dad-5-p\n",
       "34706                           5-drp-i\n",
       "34707                          5-drlp-a\n",
       "34708                       Sol-PP Trns\n",
       "34709                       UbiQ-9 Trns\n",
       "34710                         PlsQ Trns\n",
       "Name: abbreviation, Length: 34711, dtype: object"
      ]
     },
     "execution_count": 3,
     "metadata": {},
     "output_type": "execute_result"
    }
   ],
   "source": [
    "kegg_reaction_list.abbreviation"
   ]
  },
  {
   "cell_type": "code",
   "execution_count": 4,
   "metadata": {},
   "outputs": [],
   "source": [
    "#modify the gprs to include the manually annotated gene:reactions pairs from KEGG and BLASTing\n",
    "missing_gprs_df = pd.read_excel('../data/gpr_kegg_missing_reactions.xlsx', columns = ['rxn_id', 'gpr'])\n",
    "rxn_gpr_dict = {}\n",
    "for idx, row in missing_gprs_df.iterrows():\n",
    "    rxn_gpr_dict[row.rxn_id + '_c'] = row.gpr\n",
    "    \n",
    "\n",
    "for rxn,gpr in rxn_gpr_dict.items():\n",
    "    if rxn in str(ensemble.base_model.reactions):\n",
    "        ensemble.base_model.reactions.get_by_id(rxn).gene_reaction_rule = gpr"
   ]
  },
  {
   "cell_type": "code",
   "execution_count": 5,
   "metadata": {},
   "outputs": [],
   "source": [
    "save_dir = (\"../results/ensembles/pto_ensemble_100_genes_added_2.pickle\")\n",
    "ensemble.to_pickle(save_dir)"
   ]
  },
  {
   "cell_type": "code",
   "execution_count": 9,
   "metadata": {},
   "outputs": [],
   "source": [
    "gene_list = []\n",
    "for gene in ensemble.base_model.genes:\n",
    "    gene_list.append(gene.id)\n"
   ]
  },
  {
   "cell_type": "code",
   "execution_count": 11,
   "metadata": {},
   "outputs": [],
   "source": [
    "import numpy as np\n",
    "np.savetxt(\"../data/ensemble_genes_for_kegg_ont.csv\", gene_list, delimiter=\",\", fmt='%s')"
   ]
  },
  {
   "cell_type": "code",
   "execution_count": 7,
   "metadata": {},
   "outputs": [
    {
     "data": {
      "text/plain": [
       "[<Member PST_gapfilled_0 at 0x1234a2a20>,\n",
       " <Member PST_gapfilled_1 at 0x1234a2a58>,\n",
       " <Member PST_gapfilled_2 at 0x1234a2a90>,\n",
       " <Member PST_gapfilled_3 at 0x1234a2ac8>,\n",
       " <Member PST_gapfilled_4 at 0x1234a2b00>,\n",
       " <Member PST_gapfilled_5 at 0x1234a2b38>,\n",
       " <Member PST_gapfilled_6 at 0x1234a2b70>,\n",
       " <Member PST_gapfilled_7 at 0x1234a2ba8>,\n",
       " <Member PST_gapfilled_8 at 0x1234a2be0>,\n",
       " <Member PST_gapfilled_9 at 0x1234a2c18>,\n",
       " <Member PST_gapfilled_10 at 0x1234a2c50>,\n",
       " <Member PST_gapfilled_11 at 0x1234a2c88>,\n",
       " <Member PST_gapfilled_12 at 0x1234a2cc0>,\n",
       " <Member PST_gapfilled_13 at 0x1234a2cf8>,\n",
       " <Member PST_gapfilled_14 at 0x1234a2d30>,\n",
       " <Member PST_gapfilled_15 at 0x1234a2d68>,\n",
       " <Member PST_gapfilled_16 at 0x1234a2da0>,\n",
       " <Member PST_gapfilled_17 at 0x1234a2dd8>,\n",
       " <Member PST_gapfilled_18 at 0x1234a2e10>,\n",
       " <Member PST_gapfilled_19 at 0x1234a2e48>,\n",
       " <Member PST_gapfilled_20 at 0x1234a2e80>,\n",
       " <Member PST_gapfilled_21 at 0x1234a2eb8>,\n",
       " <Member PST_gapfilled_22 at 0x1234a2ef0>,\n",
       " <Member PST_gapfilled_23 at 0x1234a2f28>,\n",
       " <Member PST_gapfilled_24 at 0x1234a2f60>,\n",
       " <Member PST_gapfilled_25 at 0x1234a2f98>,\n",
       " <Member PST_gapfilled_26 at 0x1234a2fd0>,\n",
       " <Member PST_gapfilled_27 at 0x123522048>,\n",
       " <Member PST_gapfilled_28 at 0x123522080>,\n",
       " <Member PST_gapfilled_29 at 0x1235220b8>,\n",
       " <Member PST_gapfilled_30 at 0x1235220f0>,\n",
       " <Member PST_gapfilled_31 at 0x123522128>,\n",
       " <Member PST_gapfilled_32 at 0x123522160>,\n",
       " <Member PST_gapfilled_33 at 0x123522198>,\n",
       " <Member PST_gapfilled_34 at 0x1235221d0>,\n",
       " <Member PST_gapfilled_35 at 0x123522208>,\n",
       " <Member PST_gapfilled_36 at 0x123522240>,\n",
       " <Member PST_gapfilled_37 at 0x123522278>,\n",
       " <Member PST_gapfilled_38 at 0x1235222b0>,\n",
       " <Member PST_gapfilled_39 at 0x1235222e8>,\n",
       " <Member PST_gapfilled_40 at 0x123522320>,\n",
       " <Member PST_gapfilled_41 at 0x123522358>,\n",
       " <Member PST_gapfilled_42 at 0x123522390>,\n",
       " <Member PST_gapfilled_43 at 0x1235223c8>,\n",
       " <Member PST_gapfilled_44 at 0x123522400>,\n",
       " <Member PST_gapfilled_45 at 0x123522438>,\n",
       " <Member PST_gapfilled_46 at 0x123522470>,\n",
       " <Member PST_gapfilled_47 at 0x1235224a8>,\n",
       " <Member PST_gapfilled_48 at 0x1235224e0>,\n",
       " <Member PST_gapfilled_49 at 0x123522518>,\n",
       " <Member PST_gapfilled_50 at 0x123522550>,\n",
       " <Member PST_gapfilled_51 at 0x123522588>,\n",
       " <Member PST_gapfilled_52 at 0x1235225c0>,\n",
       " <Member PST_gapfilled_53 at 0x1235225f8>,\n",
       " <Member PST_gapfilled_54 at 0x123522630>,\n",
       " <Member PST_gapfilled_55 at 0x123522668>,\n",
       " <Member PST_gapfilled_56 at 0x1235226a0>,\n",
       " <Member PST_gapfilled_57 at 0x1235226d8>,\n",
       " <Member PST_gapfilled_58 at 0x123522710>,\n",
       " <Member PST_gapfilled_59 at 0x123522748>,\n",
       " <Member PST_gapfilled_60 at 0x123522780>,\n",
       " <Member PST_gapfilled_61 at 0x1235227b8>,\n",
       " <Member PST_gapfilled_62 at 0x1235227f0>,\n",
       " <Member PST_gapfilled_63 at 0x123522828>,\n",
       " <Member PST_gapfilled_64 at 0x123522860>,\n",
       " <Member PST_gapfilled_65 at 0x123522898>,\n",
       " <Member PST_gapfilled_66 at 0x1235228d0>,\n",
       " <Member PST_gapfilled_67 at 0x123522908>,\n",
       " <Member PST_gapfilled_68 at 0x123522940>,\n",
       " <Member PST_gapfilled_69 at 0x123522978>,\n",
       " <Member PST_gapfilled_70 at 0x1235229b0>,\n",
       " <Member PST_gapfilled_71 at 0x1235229e8>,\n",
       " <Member PST_gapfilled_72 at 0x123522a20>,\n",
       " <Member PST_gapfilled_73 at 0x123522a58>,\n",
       " <Member PST_gapfilled_74 at 0x123522a90>,\n",
       " <Member PST_gapfilled_75 at 0x123522ac8>,\n",
       " <Member PST_gapfilled_76 at 0x123522b00>,\n",
       " <Member PST_gapfilled_77 at 0x123522b38>,\n",
       " <Member PST_gapfilled_78 at 0x123522b70>,\n",
       " <Member PST_gapfilled_79 at 0x123522ba8>,\n",
       " <Member PST_gapfilled_80 at 0x123522be0>,\n",
       " <Member PST_gapfilled_81 at 0x123522c18>,\n",
       " <Member PST_gapfilled_82 at 0x123522c50>,\n",
       " <Member PST_gapfilled_83 at 0x123522c88>,\n",
       " <Member PST_gapfilled_84 at 0x123522cc0>,\n",
       " <Member PST_gapfilled_85 at 0x123522cf8>,\n",
       " <Member PST_gapfilled_86 at 0x123522d30>,\n",
       " <Member PST_gapfilled_87 at 0x123522d68>,\n",
       " <Member PST_gapfilled_88 at 0x123522da0>,\n",
       " <Member PST_gapfilled_89 at 0x123522dd8>,\n",
       " <Member PST_gapfilled_90 at 0x123522e10>,\n",
       " <Member PST_gapfilled_91 at 0x123522e48>,\n",
       " <Member PST_gapfilled_92 at 0x123522e80>,\n",
       " <Member PST_gapfilled_93 at 0x123522eb8>,\n",
       " <Member PST_gapfilled_94 at 0x123522ef0>,\n",
       " <Member PST_gapfilled_95 at 0x123522f28>,\n",
       " <Member PST_gapfilled_96 at 0x123522f60>,\n",
       " <Member PST_gapfilled_97 at 0x123522f98>,\n",
       " <Member PST_gapfilled_98 at 0x123522fd0>,\n",
       " <Member PST_gapfilled_99 at 0x123ab3048>,\n",
       " <Member PST_gapfilled_100 at 0x123ab3080>,\n",
       " <Member PST_gapfilled_101 at 0x123ab30b8>]"
      ]
     },
     "execution_count": 7,
     "metadata": {},
     "output_type": "execute_result"
    }
   ],
   "source": [
    "ensemble.members"
   ]
  },
  {
   "cell_type": "code",
   "execution_count": null,
   "metadata": {},
   "outputs": [],
   "source": []
  }
 ],
 "metadata": {
  "kernelspec": {
   "display_name": "Python 3",
   "language": "python",
   "name": "python3"
  },
  "language_info": {
   "codemirror_mode": {
    "name": "ipython",
    "version": 3
   },
   "file_extension": ".py",
   "mimetype": "text/x-python",
   "name": "python",
   "nbconvert_exporter": "python",
   "pygments_lexer": "ipython3",
   "version": "3.6.8"
  }
 },
 "nbformat": 4,
 "nbformat_minor": 4
}
