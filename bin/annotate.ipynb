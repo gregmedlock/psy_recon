{
 "cells": [
  {
   "cell_type": "code",
   "execution_count": 1,
   "metadata": {},
   "outputs": [],
   "source": [
    "import pandas as pd\n",
    "import cobra"
   ]
  },
  {
   "cell_type": "code",
   "execution_count": 2,
   "metadata": {},
   "outputs": [],
   "source": [
    "features = pd.read_csv('../data/pst_kegg.tsv', sep = '^')\n",
    "features['Kegg Ontology'], features['RefSeq'] = features['KO'].str.split('|').str\n",
    "\n",
    "# Separate the KO number and text description into separate columns.\n",
    "features['KO'] = features['KO'].str[:6]\n",
    "features['Kegg Ontology'] = features['Kegg Ontology'].str[6:]\n",
    "\n",
    "# Replace missing annotations with consistent nomenclature\n",
    "features['KO'] = features['KO'].str.replace('no KO ','none')\n",
    "features.loc[features['KO'] == 'none','Kegg Ontology'] = 'none'\n",
    "\n",
    "# Remove the RefSeq tag in the RefSeq column\n",
    "features['RefSeq'] = features['RefSeq'].str[10:]\n",
    "\n",
    "# extract EC numbers and then transfer to reactions\n",
    "gene_to_EC = {}\n",
    "for geneid in features['kegg id']:\n",
    "    if features.loc[features['kegg id'] == geneid, 'Kegg Ontology'].str.find('EC:').values[0] > -1:\n",
    "        # Extract the EC number from the Kegg Ontology column\n",
    "        gene_to_EC[geneid] = features.loc[features['kegg id'] == geneid, 'Kegg Ontology'].str.split('EC:').values[0][1].split(']')[0]\n",
    "    else:\n",
    "        gene_to_EC[geneid] = 'none'\n",
    "#extract_func = lambda x: x.split('[')[1]\n",
    "#features['EC'] = features['Kegg Ontology'].str.split('[')[1]\n",
    "gene_to_EC = pd.Series(gene_to_EC, name = 'EC')\n",
    "gene_to_EC.index.name = 'kegg id'\n",
    "gene_to_EC = gene_to_EC.reset_index()\n",
    "\n",
    "features = features.merge(gene_to_EC, on='kegg id')"
   ]
  },
  {
   "cell_type": "code",
   "execution_count": null,
   "metadata": {},
   "outputs": [],
   "source": []
  },
  {
   "cell_type": "code",
   "execution_count": 3,
   "metadata": {},
   "outputs": [],
   "source": [
    "#annotate the genes with specific kegg information from the all_features_kegg df\n",
    "\n",
    "#import working gapfilled model\n",
    "psy = cobra.io.read_sbml_model(\"../results/suffix_fixed_no_biomass.xml\")\n",
    "\n",
    "# fix seed reaction/metabolite identifiers by removing '0' suffix if it exists\n",
    "for metabolite in psy.metabolites:\n",
    "    if metabolite.id.endswith('0'):\n",
    "        metabolite.id = metabolite.id[:-1]\n",
    "\n",
    "for reaction in psy.reactions:\n",
    "    if reaction.id.endswith('0'):\n",
    "        reaction.id = reaction.id[:-1]\n",
    "\n",
    "#For each gene that is in the model, add the annotated kegg gene and refseq function name\n",
    "for index, row in features.iterrows():\n",
    "    gene_id = row['kegg id']\n",
    "    if gene_id in psy.genes:\n",
    "        gene_obj = psy.genes.get_by_id(gene_id)\n",
    "        gene_obj.annotation['kegg.genes'] = 'pst:' + gene_id\n",
    "        \n",
    "        # Assign the function as the name for the gene\n",
    "        gene_obj.name = row['RefSeq'].split(';')[0]\n",
    "        \n",
    "        # Add the EC annotation to the reactions for each gene\n",
    "        for reaction in gene_obj.reactions:\n",
    "            reaction_obj = psy.reactions.get_by_id(reaction.id)\n",
    "            reaction_obj.annotation['ec-code'] = features.loc[features['kegg id'] == gene_id, 'EC']"
   ]
  },
  {
   "cell_type": "code",
   "execution_count": null,
   "metadata": {},
   "outputs": [],
   "source": []
  },
  {
   "cell_type": "code",
   "execution_count": 4,
   "metadata": {},
   "outputs": [],
   "source": [
    "# Next, load the modelseed reaction and compound aliases to annotate reactions and metabolites.\n",
    "seed_rxn_aliases = pd.read_csv('../data/Reactions_Aliases.tsv', sep = '\\t')\n",
    "seed_cpd_aliases = pd.read_csv('../data/Compounds_Aliases.tsv', sep = '\\t')"
   ]
  },
  {
   "cell_type": "code",
   "execution_count": null,
   "metadata": {},
   "outputs": [],
   "source": []
  },
  {
   "cell_type": "code",
   "execution_count": null,
   "metadata": {},
   "outputs": [],
   "source": []
  },
  {
   "cell_type": "code",
   "execution_count": null,
   "metadata": {},
   "outputs": [],
   "source": []
  },
  {
   "cell_type": "code",
   "execution_count": 8,
   "metadata": {},
   "outputs": [],
   "source": [
    "# Replace the source IDs to be consistent with the identifiers memote is looking for\n",
    "# These are the MIRIAM compliant versions of the resources, available at identifiers.org\n",
    "# see the memote annotations.py file for the regular expressions expected for \n",
    "# identifiers from each resource.\n",
    "seed_rxn_aliases.loc[seed_rxn_aliases['Source'] == 'KEGG', 'Source'] = 'kegg.reaction'\n",
    "seed_rxn_aliases.loc[seed_rxn_aliases['Source'] == 'BiGG', 'Source'] = 'bigg.reaction'\n",
    "seed_rxn_aliases.loc[seed_rxn_aliases['Source'] == 'MetaCyc', 'Source'] = 'biocyc'\n",
    "\n",
    "seed_cpd_aliases.loc[seed_cpd_aliases['Source'] == 'KEGG', 'Source'] = 'kegg.compound'\n",
    "seed_cpd_aliases.loc[seed_cpd_aliases['Source'] == 'BiGG', 'Source'] = 'bigg.compound'\n",
    "seed_cpd_aliases.loc[seed_cpd_aliases['Source'] == 'MetaCyc', 'Source'] = 'biocyc'"
   ]
  },
  {
   "cell_type": "code",
   "execution_count": 9,
   "metadata": {},
   "outputs": [],
   "source": [
    "# Get and add all of the reaction annotations\n",
    "for reaction in psy.reactions:\n",
    "    if not reaction.id.startswith('EX_'): # don't look for exchange reactions\n",
    "        # get the reaction ID without compartment suffix e.g. '_c'\n",
    "        reaction_baseid = reaction.id.split('_')[0]\n",
    "        \n",
    "        annotation_dict = {}\n",
    "        annotation = seed_rxn_aliases.loc[seed_rxn_aliases['MS ID'] == reaction_baseid]\n",
    "        for source in annotation['Source'].unique():\n",
    "            db_annotation = annotation.loc[annotation['Source'] == source]\n",
    "            annotation_id = db_annotation['External ID'].values[0]\n",
    "            annotation_dict[source] = annotation_id\n",
    "        \n",
    "        # if there were no annotations, this reaction either has no alias\n",
    "        # or is only in modelseed.\n",
    "        if (reaction.id == (reaction_baseid + '_c')) or (reaction.id == (reaction_baseid + '_e')):\n",
    "                # if the ID is a standard modelseed format, add a seed annotation.\n",
    "                # otherwise, this might be a custom object (which should not have an annotation)\n",
    "                annotation_dict['seed.reaction'] = reaction_baseid\n",
    "        \n",
    "        # add each annotation in a way that maintains any existing annotations\n",
    "        for key in annotation_dict:\n",
    "            reaction.annotation[key] = annotation_dict[key]\n",
    "        \n",
    "        "
   ]
  },
  {
   "cell_type": "code",
   "execution_count": 10,
   "metadata": {},
   "outputs": [],
   "source": [
    "# Get and add all of the metabolite annotations\n",
    "for metabolite in psy.metabolites:\n",
    "    # get the reaction ID without compartment suffix e.g. '_c'\n",
    "    metabolite_baseid = metabolite.id.split('_')[0]\n",
    "\n",
    "    annotation_dict = {}\n",
    "    annotation = seed_cpd_aliases.loc[seed_cpd_aliases['MS ID'] == metabolite_baseid]\n",
    "    for source in annotation['Source'].unique():\n",
    "        db_annotation = annotation.loc[annotation['Source'] == source]\n",
    "        annotation_id = db_annotation['External ID'].values[0]\n",
    "        annotation_dict[source] = annotation_id\n",
    "\n",
    "    if (metabolite.id == (metabolite_baseid + '_c')) or (metabolite.id == (metabolite_baseid + '_e')):\n",
    "                # if the ID is a standard modelseed format, add a seed annotation.\n",
    "                # otherwise, this might be a custom object (which should not have an annotation)\n",
    "        annotation_dict['seed.compound'] = metabolite_baseid\n",
    "    \n",
    "    # add each annotation in a way that maintains any existing annotations\n",
    "    for key in annotation_dict:\n",
    "        metabolite.annotation[key] = annotation_dict[key]\n",
    "        "
   ]
  },
  {
   "cell_type": "code",
   "execution_count": 11,
   "metadata": {},
   "outputs": [],
   "source": [
    "# Add inchi keys for all metabolites using the ModelSEED biochemistry files.\n",
    "seed_cpd_structures = pd.read_csv('../data/ModelSEED_Structures.txt', sep = '\\t')"
   ]
  },
  {
   "cell_type": "code",
   "execution_count": 12,
   "metadata": {},
   "outputs": [],
   "source": [
    "# Add the inchi and inchikey annotations for metabolites\n",
    "for metabolite in psy.metabolites:\n",
    "    metabolite_baseid = metabolite.id.split('_')[0]\n",
    "    if metabolite_baseid in seed_cpd_structures['ID'].tolist():\n",
    "        annotations = seed_cpd_structures.loc[seed_cpd_structures['ID'] == metabolite_baseid]\n",
    "        if 'InChI' in annotations['Type'].tolist():\n",
    "            inchi = seed_cpd_structures.loc[(seed_cpd_structures['ID'] == metabolite_baseid) &\n",
    "                                        (seed_cpd_structures['Type'] == 'InChI'),'Structure'].values[0]\n",
    "            metabolite.annotation['inchi'] = inchi\n",
    "        \n",
    "        if 'InChIKey' in annotations['Type'].tolist():\n",
    "            inchikey = seed_cpd_structures.loc[(seed_cpd_structures['ID'] == metabolite_baseid) &\n",
    "                                        (seed_cpd_structures['Type'] == 'InChIKey'),'Structure'].values[0]\n",
    "            metabolite.annotation['inchikey'] = inchikey\n",
    "            "
   ]
  },
  {
   "cell_type": "code",
   "execution_count": 13,
   "metadata": {},
   "outputs": [],
   "source": [
    "# Add SBO terms\n",
    "\n",
    "# The expected SBO terms are as follows:\n",
    "# Metabolite SBO:0000247\n",
    "# Metabolic Reaction SBO:0000176\n",
    "# Transport Reaction SBO:0000185\n",
    "# Exchange Reaction SBO:0000627\n",
    "# Demand Reaction SBO:0000628\n",
    "# Sink Reactions SBO:0000632\n",
    "# Gene SBO:0000243\n",
    "# Biomass Reactions SBO:0000629\n",
    "\n",
    "# For all metabolites, add the metabolite annotation\n",
    "for metabolite in psy.metabolites:\n",
    "    metabolite.annotation['sbo'] = 'SBO:0000247'\n",
    "    \n",
    "# for all reactions, add the reaction annotation.\n",
    "# where applicable, add biomass, transport, and exchange\n",
    "# terms as well.\n",
    "for reaction in psy.reactions:\n",
    "    annotations = []\n",
    "    if reaction.id.startswith('EX_'):\n",
    "        annotations.append('SBO:0000627')\n",
    "    else:\n",
    "        annotations.append('SBO:0000176')\n",
    "    if len(set([met.compartment for met in reaction.metabolites])) > 1:\n",
    "        annotations.append('SBO:0000185')\n",
    "    if reaction.id.lower().find('bio') > -1:\n",
    "        annotations.append('SBO:0000629')\n",
    "    reaction.annotation['sbo'] = annotations\n",
    "\n",
    "    # add gene annotations\n",
    "for gene in psy.genes:\n",
    "    gene.annotation['sbo'] = 'SBO:0000243'"
   ]
  },
  {
   "cell_type": "code",
   "execution_count": 14,
   "metadata": {},
   "outputs": [],
   "source": [
    "# save the model with added annotations\n",
    "\n",
    "# open the exchange reactions to see if this makes a difference for memote\n",
    "for reaction in psy.reactions:\n",
    "    if reaction.id.startswith('EX'):\n",
    "        reaction.lower_bound = -1000\n",
    "cobra.io.write_sbml_model(psy,'../results/v4_with_all_annotations.xml')"
   ]
  },
  {
   "cell_type": "code",
   "execution_count": null,
   "metadata": {},
   "outputs": [],
   "source": []
  },
  {
   "cell_type": "code",
   "execution_count": null,
   "metadata": {},
   "outputs": [],
   "source": []
  },
  {
   "cell_type": "code",
   "execution_count": null,
   "metadata": {},
   "outputs": [],
   "source": []
  },
  {
   "cell_type": "code",
   "execution_count": null,
   "metadata": {},
   "outputs": [],
   "source": []
  },
  {
   "cell_type": "code",
   "execution_count": null,
   "metadata": {},
   "outputs": [],
   "source": []
  },
  {
   "cell_type": "code",
   "execution_count": null,
   "metadata": {},
   "outputs": [],
   "source": []
  }
 ],
 "metadata": {
  "kernelspec": {
   "display_name": "psy_recon",
   "language": "python",
   "name": "psy_recon"
  },
  "language_info": {
   "codemirror_mode": {
    "name": "ipython",
    "version": 3
   },
   "file_extension": ".py",
   "mimetype": "text/x-python",
   "name": "python",
   "nbconvert_exporter": "python",
   "pygments_lexer": "ipython3",
   "version": "3.5.2"
  }
 },
 "nbformat": 4,
 "nbformat_minor": 2
}
