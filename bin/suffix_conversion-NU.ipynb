{
 "cells": [
  {
   "cell_type": "code",
   "execution_count": 1,
   "metadata": {},
   "outputs": [
    {
     "name": "stderr",
     "output_type": "stream",
     "text": [
      "/usr/local/lib/python3.5/importlib/_bootstrap.py:222: RuntimeWarning: numpy.dtype size changed, may indicate binary incompatibility. Expected 96, got 88\n",
      "  return f(*args, **kwds)\n",
      "/usr/local/lib/python3.5/importlib/_bootstrap.py:222: RuntimeWarning: numpy.dtype size changed, may indicate binary incompatibility. Expected 96, got 88\n",
      "  return f(*args, **kwds)\n",
      "/usr/local/lib/python3.5/importlib/_bootstrap.py:222: RuntimeWarning: numpy.dtype size changed, may indicate binary incompatibility. Expected 96, got 88\n",
      "  return f(*args, **kwds)\n",
      "/usr/local/lib/python3.5/importlib/_bootstrap.py:222: RuntimeWarning: numpy.dtype size changed, may indicate binary incompatibility. Expected 96, got 88\n",
      "  return f(*args, **kwds)\n"
     ]
    }
   ],
   "source": [
    "##update the metabolite ids and the reaction ids to contain only _c and not _c0\n",
    "import cobra\n",
    "from cobra import Metabolite, Reaction, Gene"
   ]
  },
  {
   "cell_type": "code",
   "execution_count": 2,
   "metadata": {},
   "outputs": [],
   "source": [
    "#load the most recent version of the model\n",
    "pst = cobra.io.read_sbml_model(\"../results/reconstructions/v4_with_all_annotations.xml\")"
   ]
  },
  {
   "cell_type": "code",
   "execution_count": 3,
   "metadata": {},
   "outputs": [],
   "source": [
    "#remove all exterior reactions, aka the exchange and supp biomass equations\n",
    "#without removal, metabolites from these will interfere with code later, due to updating the metabolite list, errors include \"metabolite already exists\" but does not pass it\n",
    "pst.reactions.PAO1_Biomass.remove_from_model(remove_orphans = True)\n",
    "pst.reactions.PA_Biomass_v13.remove_from_model(remove_orphans = True)\n",
    "pst.reactions.PA_Biomass_v13ub.remove_from_model(remove_orphans = True)\n",
    "pst.reactions.PA_Biomass_v4.remove_from_model(remove_orphans = True)\n",
    "\n",
    "rxns_to_remove = []\n",
    "for reaction in pst.reactions:\n",
    "    if \"LPAREN\" in reaction.id:\n",
    "        rxns_to_remove.append(reaction)\n",
    "    if \"PJT\" in reaction.id:\n",
    "        rxns_to_remove.append(reaction)\n",
    "\n",
    "# remove the flagged reactions. Removing them inside the for loop above can lead to some reactions being skipped due to the list being modified\n",
    "# during the execution of the for loop.\n",
    "for rxn in rxns_to_remove:\n",
    "    rxn.remove_from_model(remove_orphans = True)"
   ]
  },
  {
   "cell_type": "code",
   "execution_count": 4,
   "metadata": {},
   "outputs": [],
   "source": [
    "#manual check for the reactions and metabolites that may still be present\n",
    "#if the previous chunk is exicuted multiple times, to where only 1 \"yes\" appears twice in a row, both of these should print nothing\n",
    "for reaction in pst.reactions:\n",
    "    if \"LPAREN\" in reaction.id:\n",
    "        print (reaction)\n",
    "for reaction in pst.reactions:\n",
    "    if \"PJT\" in reaction.id:\n",
    "        #print(reaction)\n",
    "        print (reaction.id)"
   ]
  },
  {
   "cell_type": "code",
   "execution_count": 5,
   "metadata": {},
   "outputs": [
    {
     "name": "stdout",
     "output_type": "stream",
     "text": [
      "[]\n"
     ]
    }
   ],
   "source": [
    "#call all of the metabolite ids and reduce the names to only _c or _e\n",
    "#this is done to standardize the metabolite names, as previously there was a mix of _c and _c0\n",
    "#the repeated_ids list should render blank\n",
    "repeated_ids = []\n",
    "\n",
    "for met in pst.metabolites:\n",
    "    metid= met.id\n",
    "    if '_c0' in metid:\n",
    "        metid = metid[:-1]\n",
    "        if metid not in pst.metabolites:\n",
    "            met.id = metid\n",
    "        else:\n",
    "            repeated_ids.append(metid)\n",
    "    if '_e0' in metid:\n",
    "        metid = metid[:-1]\n",
    "        if metid not in pst.metabolites:\n",
    "            met.id = metid\n",
    "        else:\n",
    "            repeated_ids.append(metid)\n",
    "#repeated ids are cooming from interferences with the biomass functions\n",
    "print (repeated_ids)\n",
    "    "
   ]
  },
  {
   "cell_type": "code",
   "execution_count": 6,
   "metadata": {},
   "outputs": [],
   "source": [
    "#add back the necessary exchange reactions that were previously deleted\n",
    "#each exchange reaction is based on whetehr a _e is in the metaboltie descriptor\n",
    "for met in pst.metabolites:\n",
    "    if \"_e\" in met.id:\n",
    "        reaction = Reaction('EX_' + met.id)\n",
    "        reaction.name = 'Exchange' + met.id[:-3]\n",
    "        reaction.subsystem = 'Exchange'\n",
    "        reaction.lower_bound = 0.\n",
    "        reaction.upper_bound = 1000.\n",
    "        reaction.add_metabolites({met:-1})\n",
    "        pst.add_reactions([reaction])\n",
    "    else:\n",
    "        pass"
   ]
  },
  {
   "cell_type": "code",
   "execution_count": 7,
   "metadata": {},
   "outputs": [],
   "source": [
    "#add back the appropriate biomass function with its metabolites, this will be biomass v4, eventually\n",
    "#I will hold off on adding this for now due to the presence of manually added metabolites that do not have the proper seed id\n",
    "cobra.io.write_sbml_model(pst, \"../results/suffix_fixed_no_biomass.xml\")"
   ]
  },
  {
   "cell_type": "code",
   "execution_count": null,
   "metadata": {},
   "outputs": [],
   "source": []
  }
 ],
 "metadata": {
  "kernelspec": {
   "display_name": "Python 3",
   "language": "python",
   "name": "python3"
  },
  "language_info": {
   "codemirror_mode": {
    "name": "ipython",
    "version": 3
   },
   "file_extension": ".py",
   "mimetype": "text/x-python",
   "name": "python",
   "nbconvert_exporter": "python",
   "pygments_lexer": "ipython3",
   "version": "3.7.3"
  }
 },
 "nbformat": 4,
 "nbformat_minor": 2
}
