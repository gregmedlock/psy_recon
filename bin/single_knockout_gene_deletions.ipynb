{
 "cells": [
  {
   "cell_type": "raw",
   "metadata": {},
   "source": [
    "Purpose: Generate single gene knockouts within the model and assess the ability to grow on complete and defined medias(either biolog or \"exduates\" from Anderson et al 2014. "
   ]
  },
  {
   "cell_type": "code",
   "execution_count": null,
   "metadata": {},
   "outputs": [],
   "source": [
    "import cobra\n",
    "from cobra.flux_analysis import single_gene_deletion_deletion\n",
    "import pandas as pd"
   ]
  },
  {
   "cell_type": "code",
   "execution_count": null,
   "metadata": {},
   "outputs": [],
   "source": [
    "#import the gapfilled version of the model for testing\n",
    "model = cobra.io.read_sbml_model(\"../results/reconstructions/gapfilled_model_name_here.xml\")"
   ]
  },
  {
   "cell_type": "code",
   "execution_count": null,
   "metadata": {},
   "outputs": [],
   "source": [
    "#for all exchange reactions, use the boundry reaction function in cobrapy, seems more straightforward\n",
    "#define the media conditions, first the complete media conditions\n",
    "# to do this set the exchange reactions open for constituents of the complete King's B media\n",
    "for met in model.metabolites:\n",
    "    try  "
   ]
  },
  {
   "cell_type": "code",
   "execution_count": null,
   "metadata": {},
   "outputs": [],
   "source": [
    "#under complete media conditions, run single gene deletions and check for growth\n",
    "deletion_results_complete_media = single_gene_deletion(model)\n",
    "#the results from this will be a table with the gene deleted, the flux, and the status of the model(optimum or not)    "
   ]
  },
  {
   "cell_type": "code",
   "execution_count": null,
   "metadata": {},
   "outputs": [],
   "source": [
    "#define the media conditions, now in the Ara media defined by Anderson in the apoplast sampling paper, first Mock apoplasmic fluid\n",
    "#again, this will be done by opening up exchange reactions for the metabolites that are present in the analysis\n",
    "for met in model.metabolites:\n",
    "    try  "
   ]
  },
  {
   "cell_type": "code",
   "execution_count": null,
   "metadata": {},
   "outputs": [],
   "source": [
    "#under mock apoplasmic fluid media conditions, run single gene deletions and check for growth\n",
    "deletion_results_ara_mock_media = single_gene_deletion(model)\n",
    "#the results from this will be a table with the gene deleted, the flux, and the status of the model(optimum or not)    "
   ]
  },
  {
   "cell_type": "code",
   "execution_count": null,
   "metadata": {},
   "outputs": [],
   "source": [
    "#define the media conditions, now in the Ara media defined by Anderson in the apoplast sampling paper, now Flg22 apoplasmic fluid\n",
    "#again, this will be done by opening up exchange reactions for the metabolites that are present in the analysis\n",
    "for met in model.metabolites:\n",
    "    try  "
   ]
  },
  {
   "cell_type": "code",
   "execution_count": null,
   "metadata": {},
   "outputs": [],
   "source": [
    "#under flg apoplasmic fluid media conditions, run single gene deletions and check for growth\n",
    "deletion_results_ara_flg_media = single_gene_deletion(model)\n",
    "#the results from this will be a table with the gene deleted, the flux, and the status of the model(optimum or not)    "
   ]
  }
 ],
 "metadata": {
  "kernelspec": {
   "display_name": "cobraenv",
   "language": "python",
   "name": "cobraenv"
  },
  "language_info": {
   "codemirror_mode": {
    "name": "ipython",
    "version": 3
   },
   "file_extension": ".py",
   "mimetype": "text/x-python",
   "name": "python",
   "nbconvert_exporter": "python",
   "pygments_lexer": "ipython3",
   "version": "3.7.3"
  }
 },
 "nbformat": 4,
 "nbformat_minor": 2
}
