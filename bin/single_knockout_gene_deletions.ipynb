{
 "cells": [
  {
   "cell_type": "raw",
   "metadata": {},
   "source": [
    "Purpose: Generate single gene knockouts within the model and assess the ability to grow on complete and defined medias(either biolog or \"exduates\" from Anderson et al 2014. "
   ]
  },
  {
   "cell_type": "code",
   "execution_count": 1,
   "metadata": {},
   "outputs": [],
   "source": [
    "import cobra\n",
    "from cobra import Metabolite, Gene, Reaction\n",
    "from cobra.flux_analysis import single_gene_deletion\n",
    "import pandas as pd\n",
    "from medusa.test import load_universal_modelseed"
   ]
  },
  {
   "cell_type": "code",
   "execution_count": 2,
   "metadata": {},
   "outputs": [],
   "source": [
    "#import the gapfilled version of the model for testing\n",
    "model = cobra.io.read_sbml_model(\"../results/reconstructions/pst7.xml\")\n",
    "universal = load_universal_modelseed()"
   ]
  },
  {
   "cell_type": "code",
   "execution_count": 5,
   "metadata": {},
   "outputs": [
    {
     "name": "stdout",
     "output_type": "stream",
     "text": [
      "IN FLUXES            OUT FLUXES         OBJECTIVES\n",
      "-------------------  -----------------  ------------\n",
      "cpd00067_e  333      cpd10516_e  236    bio1  16.1\n",
      "cpd10515_e  236      cpd00013_e   95.8\n",
      "cpd00092_e   54.9    cpd00007_e   51.8\n",
      "cpd00027_e   10      cpd00011_e   32.3\n",
      "cpd00268_e    0.188  cpd00012_e    3.6\n",
      "cpd00028_e    0.1\n",
      "cpd00030_e    0.05\n",
      "cpd00034_e    0.05\n",
      "cpd00048_e    0.05\n",
      "cpd00058_e    0.05\n",
      "cpd00063_e    0.05\n",
      "cpd00099_e    0.05\n",
      "cpd00149_e    0.05\n",
      "cpd00205_e    0.05\n",
      "cpd00254_e    0.05\n"
     ]
    }
   ],
   "source": [
    "model.summary()"
   ]
  },
  {
   "cell_type": "code",
   "execution_count": 3,
   "metadata": {},
   "outputs": [
    {
     "name": "stdout",
     "output_type": "stream",
     "text": [
      "no cpd00018_e\n",
      "no cpd00033_e\n",
      "no cpd00039_e\n",
      "no cpd00046_e\n",
      "no cpd00065_e\n",
      "no cpd00066_e\n",
      "no cpd00069_e\n",
      "no cpd00084_e\n",
      "no cpd00091_e\n",
      "no cpd00126_e\n",
      "no cpd00161_e\n",
      "no cpd00182_e\n",
      "no cpd00184_e\n",
      "no cpd00215_e\n",
      "no cpd00218_e\n",
      "no cpd00220_e\n",
      "no cpd00226_e\n",
      "no cpd00239_e\n",
      "no cpd00311_e\n",
      "no cpd00383_e\n",
      "no cpd00393_e\n",
      "no cpd00438_e\n",
      "no cpd00541_e\n",
      "no cpd00644_e\n",
      "no cpd00654_e\n",
      "no cpd00793_e\n",
      "no cpd01048_e\n",
      "no cpd03424_e\n",
      "no cpd11595_e\n"
     ]
    }
   ],
   "source": [
    "#for all exchange reactions, use the boundry reaction function in cobrapy, seems more straightforward\n",
    "#define the media conditions, first the complete media conditions\n",
    "# to do this set the exchange reactions open for constituents of the complete King's B media\n",
    "lb = pd.read_csv(\"../data/lb_media.csv\")\n",
    "lb_ids= lb['ID'].tolist()\n",
    "lb_medium = []\n",
    "for met in lb_ids:\n",
    "    met = met + \"_e\"\n",
    "    lb_medium.append(met)\n",
    "lb_medium\n",
    "\n",
    "add_mets = []\n",
    "add_exchanges = []\n",
    "for met in lb_medium:\n",
    "    try:\n",
    "        model.metabolites.get_by_id(met)\n",
    "    except:\n",
    "        print('no '+met)\n",
    "        add_met = universal.metabolites.get_by_id(met).copy()\n",
    "        add_mets.append(add_met)\n",
    "for met in lb_medium:\n",
    "    # Search for exchange reactions\n",
    "    try:\n",
    "        model.reactions.get_by_id('EX_'+met)\n",
    "    except:\n",
    "        add_met = universal.metabolites.get_by_id(met)\n",
    "        ex_rxn = Reaction('EX_' + met)\n",
    "        ex_rxn.name = \"Exchange reaction for \" + met\n",
    "        ex_rxn.lower_bound = -1000\n",
    "        ex_rxn.upper_bound = 1000\n",
    "        ex_rxn.add_metabolites({add_met:-1})\n",
    "        add_exchanges.append(ex_rxn)\n",
    "        if add_met.id not in [m.id for m in add_mets]:\n",
    "            add_mets.append(add_met)"
   ]
  },
  {
   "cell_type": "code",
   "execution_count": 4,
   "metadata": {},
   "outputs": [
    {
     "name": "stdout",
     "output_type": "stream",
     "text": [
      "{'cpd00001_e': 1000, 'cpd00007_e': 1000, 'cpd00009_e': 1000, 'cpd00018_e': 1000, 'cpd00023_e': 1000, 'cpd00027_e': 1000, 'cpd00028_e': 1000, 'cpd00030_e': 1000, 'cpd00033_e': 1000, 'cpd00034_e': 1000, 'cpd00035_e': 1000, 'cpd00039_e': 1000, 'cpd00041_e': 1000, 'cpd00046_e': 1000, 'cpd00048_e': 1000, 'cpd00051_e': 1000, 'cpd00054_e': 1000, 'cpd00058_e': 1000, 'cpd00060_e': 1000, 'cpd00063_e': 1000, 'cpd00065_e': 1000, 'cpd00066_e': 1000, 'cpd00067_e': 1000, 'cpd00069_e': 1000, 'cpd00084_e': 1000, 'cpd00091_e': 1000, 'cpd00092_e': 1000, 'cpd00099_e': 1000, 'cpd00107_e': 1000, 'cpd00119_e': 1000, 'cpd00126_e': 1000, 'cpd00129_e': 1000, 'cpd00149_e': 1000, 'cpd00156_e': 1000, 'cpd00161_e': 1000, 'cpd00182_e': 1000, 'cpd00184_e': 1000, 'cpd00205_e': 1000, 'cpd00215_e': 1000, 'cpd00218_e': 1000, 'cpd00220_e': 1000, 'cpd00226_e': 1000, 'cpd00239_e': 1000, 'cpd00246_e': 1000, 'cpd00249_e': 1000, 'cpd00254_e': 1000, 'cpd00311_e': 1000, 'cpd00322_e': 1000, 'cpd00383_e': 1000, 'cpd00393_e': 1000, 'cpd00438_e': 1000, 'cpd00531_e': 1000, 'cpd00541_e': 1000, 'cpd00644_e': 1000, 'cpd00654_e': 1000, 'cpd00793_e': 1000, 'cpd00971_e': 1000, 'cpd01012_e': 1000, 'cpd01048_e': 1000, 'cpd03424_e': 1000, 'cpd10515_e': 1000, 'cpd10516_e': 1000, 'cpd11595_e': 1000}\n"
     ]
    }
   ],
   "source": [
    "lb_medium_dict = {}\n",
    "for met in lb_medium:\n",
    "    lb_medium_dict[met] = 1000\n",
    "print (lb_medium_dict)"
   ]
  },
  {
   "cell_type": "code",
   "execution_count": 6,
   "metadata": {},
   "outputs": [
    {
     "name": "stdout",
     "output_type": "stream",
     "text": [
      "cpd00001_e was not missing\n",
      "cpd00007_e was not missing\n",
      "cpd00009_e was not missing\n",
      "cpd00018_e was not missing\n",
      "cpd00023_e was not missing\n",
      "cpd00027_e was not missing\n",
      "cpd00028_e was not missing\n",
      "cpd00030_e was not missing\n",
      "cpd00033_e was not missing\n",
      "cpd00034_e was not missing\n",
      "cpd00035_e was not missing\n",
      "cpd00039_e was not missing\n",
      "cpd00041_e was not missing\n",
      "cpd00046_e was not missing\n",
      "cpd00048_e was not missing\n",
      "cpd00051_e was not missing\n",
      "cpd00054_e was not missing\n",
      "cpd00058_e was not missing\n",
      "cpd00060_e was not missing\n",
      "cpd00063_e was not missing\n",
      "cpd00065_e was not missing\n",
      "cpd00066_e was not missing\n",
      "cpd00067_e was not missing\n",
      "cpd00069_e was not missing\n",
      "cpd00084_e was not missing\n",
      "cpd00091_e was not missing\n",
      "cpd00092_e was not missing\n",
      "cpd00099_e was not missing\n",
      "cpd00107_e was not missing\n",
      "cpd00119_e was not missing\n",
      "cpd00126_e was not missing\n",
      "cpd00129_e was not missing\n",
      "cpd00149_e was not missing\n",
      "cpd00156_e was not missing\n",
      "cpd00161_e was not missing\n",
      "cpd00182_e was not missing\n",
      "cpd00184_e was not missing\n",
      "cpd00205_e was not missing\n",
      "cpd00215_e was not missing\n",
      "cpd00218_e was not missing\n",
      "cpd00220_e was not missing\n",
      "cpd00226_e was not missing\n",
      "cpd00239_e was not missing\n",
      "cpd00246_e was not missing\n",
      "cpd00249_e was not missing\n",
      "cpd00254_e was not missing\n",
      "cpd00311_e was not missing\n",
      "cpd00322_e was not missing\n",
      "cpd00383_e was not missing\n",
      "cpd00393_e was not missing\n",
      "cpd00438_e was not missing\n",
      "cpd00531_e was not missing\n",
      "cpd00541_e was not missing\n",
      "cpd00644_e was not missing\n",
      "cpd00654_e was not missing\n",
      "cpd00793_e was not missing\n",
      "cpd00971_e was not missing\n",
      "cpd01012_e was not missing\n",
      "cpd01048_e was not missing\n",
      "cpd03424_e was not missing\n",
      "cpd10515_e was not missing\n",
      "cpd10516_e was not missing\n",
      "cpd11595_e was not missing\n"
     ]
    }
   ],
   "source": [
    "# Find metabolites from the biolog data that are missing in the test model\n",
    "# and add them from the universal\n",
    "missing_mets = []\n",
    "missing_exchanges = []\n",
    "media_dicts = {}\n",
    "\n",
    "# remove duplicate conditions by using a set\n",
    "for met_id in lb_medium:\n",
    "    media_dict = lb_medium_dict.copy()\n",
    "    \n",
    "    for single_met_id in met_id.split(','):\n",
    "        # make a boolean indicator for metabolites missing from both\n",
    "        # the model and the universal model\n",
    "        missing = False\n",
    "        \n",
    "        # add the _e suffix for extracellular metabolites\n",
    "       # single_met_id = single_met_id ==\n",
    "        \n",
    "        # search for the metabolite in the model.\n",
    "        # If missing, try to find it in the universal.\n",
    "        if single_met_id in [m.id for m in model.metabolites]:\n",
    "            met = model.metabolites.get_by_id(single_met_id)\n",
    "        else:\n",
    "            if single_met_id in [m.id for m in universal.metabolites]:\n",
    "                met = universal.metabolites.get_by_id(single_met_id)\n",
    "            else:\n",
    "                print(single_met_id + ' not in universal. Ignoring metabolite.')\n",
    "                missing = True\n",
    "        \n",
    "        # If the metabolite was in the universal or the model,\n",
    "        # check for an existing exchange reaction. If not there,\n",
    "        # create and add the exchange reaction.\n",
    "        if not missing:\n",
    "            if 'EX_' + single_met_id not in [rxn.id for rxn in model.reactions]:\n",
    "                ex_rxn = Reaction('EX_' + single_met_id)\n",
    "                ex_rxn.name = \"Exchange reaction for \" + single_met_id\n",
    "                ex_rxn.lower_bound = -1000\n",
    "                ex_rxn.upper_bound = 1000\n",
    "                ex_rxn.add_metabolites({met:-1})\n",
    "                if ex_rxn.id not in [r.id for r in missing_exchanges]:\n",
    "                    missing_exchanges.append(ex_rxn)\n",
    "            if met_id in media_dicts.keys():\n",
    "                # if media dict was already there, it means this is a double C/N\n",
    "                # case (E.g. D+L mets). Don't need to alter the rest of the dict.\n",
    "                media_dict['EX_'+single_met_id] = 1000\n",
    "            else:\n",
    "                media_dict = {'EX_'+k:v for k,v in media_dict.items()}\n",
    "                media_dict['EX_'+single_met_id] = 1000\n",
    "            \n",
    "            media_dicts[met_id] = media_dict\n",
    "            print(met_id + ' was not missing')\n"
   ]
  },
  {
   "cell_type": "code",
   "execution_count": 7,
   "metadata": {},
   "outputs": [
    {
     "name": "stderr",
     "output_type": "stream",
     "text": [
      "Ignoring reaction 'EX_cpd00018_e' since it already exists.\n",
      "Ignoring reaction 'EX_cpd00033_e' since it already exists.\n",
      "Ignoring reaction 'EX_cpd00039_e' since it already exists.\n",
      "Ignoring reaction 'EX_cpd00046_e' since it already exists.\n",
      "Ignoring reaction 'EX_cpd00065_e' since it already exists.\n",
      "Ignoring reaction 'EX_cpd00066_e' since it already exists.\n",
      "Ignoring reaction 'EX_cpd00069_e' since it already exists.\n",
      "Ignoring reaction 'EX_cpd00084_e' since it already exists.\n",
      "Ignoring reaction 'EX_cpd00091_e' since it already exists.\n",
      "Ignoring reaction 'EX_cpd00126_e' since it already exists.\n",
      "Ignoring reaction 'EX_cpd00161_e' since it already exists.\n",
      "Ignoring reaction 'EX_cpd00182_e' since it already exists.\n",
      "Ignoring reaction 'EX_cpd00184_e' since it already exists.\n",
      "Ignoring reaction 'EX_cpd00215_e' since it already exists.\n",
      "Ignoring reaction 'EX_cpd00218_e' since it already exists.\n",
      "Ignoring reaction 'EX_cpd00220_e' since it already exists.\n",
      "Ignoring reaction 'EX_cpd00226_e' since it already exists.\n",
      "Ignoring reaction 'EX_cpd00239_e' since it already exists.\n",
      "Ignoring reaction 'EX_cpd00311_e' since it already exists.\n",
      "Ignoring reaction 'EX_cpd00383_e' since it already exists.\n",
      "Ignoring reaction 'EX_cpd00393_e' since it already exists.\n",
      "Ignoring reaction 'EX_cpd00438_e' since it already exists.\n",
      "Ignoring reaction 'EX_cpd00541_e' since it already exists.\n",
      "Ignoring reaction 'EX_cpd00644_e' since it already exists.\n",
      "Ignoring reaction 'EX_cpd00654_e' since it already exists.\n",
      "Ignoring reaction 'EX_cpd00793_e' since it already exists.\n",
      "Ignoring reaction 'EX_cpd01048_e' since it already exists.\n",
      "Ignoring reaction 'EX_cpd03424_e' since it already exists.\n",
      "Ignoring reaction 'EX_cpd11595_e' since it already exists.\n"
     ]
    },
    {
     "name": "stdout",
     "output_type": "stream",
     "text": [
      "I have added[<Metabolite cpd00018_e at 0x7fd071d4cc18>, <Metabolite cpd00033_e at 0x7fd071d4cf28>, <Metabolite cpd00039_e at 0x7fd071d4cfd0>, <Metabolite cpd00046_e at 0x7fd0c57bc198>, <Metabolite cpd00065_e at 0x7fd0c57bc2e8>, <Metabolite cpd00066_e at 0x7fd0c57bc828>, <Metabolite cpd00069_e at 0x7fd0c57bcac8>, <Metabolite cpd00084_e at 0x7fd0c57bcc18>, <Metabolite cpd00091_e at 0x7fd0c57bcda0>, <Metabolite cpd00126_e at 0x7fd071d42358>, <Metabolite cpd00161_e at 0x7fd071d424a8>, <Metabolite cpd00182_e at 0x7fd071d42588>, <Metabolite cpd00184_e at 0x7fd071d426a0>, <Metabolite cpd00215_e at 0x7fd071d428d0>, <Metabolite cpd00218_e at 0x7fd071d42a58>, <Metabolite cpd00220_e at 0x7fd071d42ba8>, <Metabolite cpd00226_e at 0x7fd071d42cc0>, <Metabolite cpd00239_e at 0x7fd071d42e10>, <Metabolite cpd00311_e at 0x7fd0c57c8080>, <Metabolite cpd00383_e at 0x7fd0c57c8400>, <Metabolite cpd00393_e at 0x7fd0c57c8668>, <Metabolite cpd00438_e at 0x7fd0c57c8898>, <Metabolite cpd00541_e at 0x7fd0c57c8b38>, <Metabolite cpd00644_e at 0x7fd0c57c8eb8>, <Metabolite cpd00654_e at 0x7fd0c57d5198>, <Metabolite cpd00793_e at 0x7fd0c57d5320>, <Metabolite cpd01048_e at 0x7fd0c57d5630>, <Metabolite cpd03424_e at 0x7fd0c57d5908>, <Metabolite cpd11595_e at 0x7fd0c57d5b00>]\n"
     ]
    }
   ],
   "source": [
    "# Add the exchange reactions for metabolites from biolog base\n",
    "model.add_metabolites(add_mets)\n",
    "print (\"I have added\" + str(add_mets))\n",
    "model.add_reactions(add_exchanges)\n",
    "\n",
    "# Do the same for single C/N supplements\n",
    "model.add_metabolites(missing_mets)\n",
    "model.add_reactions(missing_exchanges)"
   ]
  },
  {
   "cell_type": "code",
   "execution_count": 8,
   "metadata": {},
   "outputs": [
    {
     "data": {
      "text/plain": [
       "{'EX_cpd00023_e': 1000,\n",
       " 'EX_cpd00034_e': 1000,\n",
       " 'EX_cpd00041_e': 1000,\n",
       " 'EX_cpd00048_e': 1000,\n",
       " 'EX_cpd00107_e': 1000,\n",
       " 'EX_cpd00119_e': 1000,\n",
       " 'EX_cpd00156_e': 1000,\n",
       " 'EX_cpd00322_e': 1000,\n",
       " 'EX_cpd00205_e': 1000,\n",
       " 'EX_cpd00971_e': 1000,\n",
       " 'EX_cpd00067_e': 1000,\n",
       " 'EX_cpd00060_e': 1000,\n",
       " 'EX_cpd00129_e': 1000,\n",
       " 'EX_cpd00027_e': 1000,\n",
       " 'EX_cpd00054_e': 1000,\n",
       " 'EX_cpd00009_e': 1000,\n",
       " 'EX_cpd00001_e': 1000,\n",
       " 'EX_cpd01012_e': 1000,\n",
       " 'EX_cpd00058_e': 1000,\n",
       " 'EX_cpd10516_e': 1000,\n",
       " 'EX_cpd00531_e': 1000,\n",
       " 'EX_cpd00149_e': 1000,\n",
       " 'EX_cpd00035_e': 1000,\n",
       " 'EX_cpd00051_e': 1000,\n",
       " 'EX_cpd00249_e': 1000,\n",
       " 'EX_cpd00007_e': 1000,\n",
       " 'EX_cpd00030_e': 1000,\n",
       " 'EX_cpd00063_e': 1000,\n",
       " 'EX_cpd00099_e': 1000,\n",
       " 'EX_cpd00254_e': 1000,\n",
       " 'EX_cpd10515_e': 1000,\n",
       " 'EX_cpd00028_e': 1,\n",
       " 'EX_cpd00246_e': 1000,\n",
       " 'EX_cpd00092_e': 1000,\n",
       " 'EX_cpd00018_e': 1000,\n",
       " 'EX_cpd00033_e': 1000,\n",
       " 'EX_cpd00039_e': 1000,\n",
       " 'EX_cpd00046_e': 1000,\n",
       " 'EX_cpd00065_e': 1000,\n",
       " 'EX_cpd00066_e': 1000,\n",
       " 'EX_cpd00069_e': 1000,\n",
       " 'EX_cpd00084_e': 1000,\n",
       " 'EX_cpd00091_e': 1000,\n",
       " 'EX_cpd00126_e': 1000,\n",
       " 'EX_cpd00161_e': 1000,\n",
       " 'EX_cpd00182_e': 1000,\n",
       " 'EX_cpd00184_e': 1000,\n",
       " 'EX_cpd00215_e': 1000,\n",
       " 'EX_cpd00218_e': 1000,\n",
       " 'EX_cpd00220_e': 1000,\n",
       " 'EX_cpd00226_e': 1000,\n",
       " 'EX_cpd00239_e': 1000,\n",
       " 'EX_cpd00311_e': 1000,\n",
       " 'EX_cpd00383_e': 1000,\n",
       " 'EX_cpd00393_e': 1000,\n",
       " 'EX_cpd00438_e': 1000,\n",
       " 'EX_cpd00541_e': 1000,\n",
       " 'EX_cpd00644_e': 1000,\n",
       " 'EX_cpd00654_e': 1000,\n",
       " 'EX_cpd00793_e': 1000,\n",
       " 'EX_cpd01048_e': 1000,\n",
       " 'EX_cpd03424_e': 1000,\n",
       " 'EX_cpd11595_e': 1000}"
      ]
     },
     "execution_count": 8,
     "metadata": {},
     "output_type": "execute_result"
    }
   ],
   "source": [
    "lb_media_exchanges = {}\n",
    "for key,value in lb_medium_dict.items():\n",
    "    key = \"EX_\" + key\n",
    "    lb_media_exchanges[key] = value\n",
    "#print (lb_media_exchanges)\n",
    "lb_media_exchanges['EX_cpd00028_e'] = 1\n",
    "model.medium = lb_media_exchanges\n",
    "\n",
    "model.medium"
   ]
  },
  {
   "cell_type": "code",
   "execution_count": 9,
   "metadata": {},
   "outputs": [],
   "source": [
    "#under complete media conditions, run single gene deletions and check for growth\n",
    "deletion_results_complete_media = single_gene_deletion(model)\n",
    "\n",
    "#the results from this will be a table with the gene deleted, the flux, and the status of the model(optimum or not)    "
   ]
  },
  {
   "cell_type": "code",
   "execution_count": 10,
   "metadata": {},
   "outputs": [
    {
     "name": "stdout",
     "output_type": "stream",
     "text": [
      "                     growth   status\n",
      "ids                                 \n",
      "(PSPTO_2373)   3.725284e-11  optimal\n",
      "(PSPTO_1744)   3.725284e-11  optimal\n",
      "(PSPTO_3757)   3.655367e-11  optimal\n",
      "(PSPTO_0750)   3.655367e-11  optimal\n",
      "(PSPTO_1692)   3.655367e-11  optimal\n",
      "(PSPTO_1131)   3.655367e-11  optimal\n",
      "(SPONTANEOUS)  3.655367e-11  optimal\n",
      "(PSPTO_4144)   3.655367e-11  optimal\n",
      "(PSPTO_2119)   1.141087e-12  optimal\n",
      "(PSPTO_5338)   1.141087e-12  optimal\n",
      "(PSPTO_4908)   1.141087e-12  optimal\n",
      "(PSPTO_5277)   7.926434e-13  optimal\n",
      "(PSPTO_5302)   7.926434e-13  optimal\n",
      "(PSPTO_0604)   2.673177e-12  optimal\n",
      "(PSPTO_4709)   2.673177e-12  optimal\n",
      "(PSPTO_1747)   2.673177e-12  optimal\n",
      "(PSPTO_1207)   2.673177e-12  optimal\n",
      "(PSPTO_4254)   2.673177e-12  optimal\n",
      "(PSPTO_4459)   2.673177e-12  optimal\n",
      "(PSPTO_4290)   2.673177e-12  optimal\n",
      "(PSPTO_1294)   2.673177e-12  optimal\n",
      "(PSPTO_0233)   2.673177e-12  optimal\n",
      "(PSPTO_1434)   2.673177e-12  optimal\n",
      "(PSPTO_0224)   2.673177e-12  optimal\n",
      "(PSPTO_5154)   2.673177e-12  optimal\n",
      "(PSPTO_4413)   2.673177e-12  optimal\n",
      "(PSPTO_4807)   2.673177e-12  optimal\n",
      "(PSPTO_2106)   2.673177e-12  optimal\n",
      "(PSPTO_2300)   2.673177e-12  optimal\n",
      "(PSPTO_1444)   2.673177e-12  optimal\n",
      "...                     ...      ...\n",
      "(PSPTO_3371)   3.728424e-11  optimal\n",
      "(PSPTO_1859)   3.728424e-11  optimal\n",
      "(PSPTO_0787)   3.728424e-11  optimal\n",
      "(PSPTO_0170)   3.728424e-11  optimal\n",
      "(PSPTO_3705)   3.728424e-11  optimal\n",
      "(PSPTO_1361)   3.728424e-11  optimal\n",
      "(PSPTO_4112)   3.728424e-11  optimal\n",
      "(PSPTO_0300)  -8.071070e-12  optimal\n",
      "(PSPTO_1890)  -8.071070e-12  optimal\n",
      "(PSPTO_4955)  -8.071070e-12  optimal\n",
      "(PSPTO_2705)  -8.071070e-12  optimal\n",
      "(PSPTO_4432)  -8.071070e-12  optimal\n",
      "(PSPTO_1540)  -8.071070e-12  optimal\n",
      "(PSPTO_2345)  -8.071070e-12  optimal\n",
      "(PSPTO_3367)  -8.071070e-12  optimal\n",
      "(PSPTO_2199)  -1.101784e-11  optimal\n",
      "(PSPTO_2198)  -1.101784e-11  optimal\n",
      "(PSPTO_1562)  -1.101784e-11  optimal\n",
      "(Unknown)     -1.153359e-11  optimal\n",
      "(PSPTO_4111)  -1.153359e-11  optimal\n",
      "(PSPTO_5600)   0.000000e+00  optimal\n",
      "(PSPTO_0598)   0.000000e+00  optimal\n",
      "(PSPTO_3959)   0.000000e+00  optimal\n",
      "(PSPTO_0766)   0.000000e+00  optimal\n",
      "(PSPTO_2950)   0.000000e+00  optimal\n",
      "(PSPTO_1993)   0.000000e+00  optimal\n",
      "(PSPTO_4337)   0.000000e+00  optimal\n",
      "(PSPTO_2287)   0.000000e+00  optimal\n",
      "(PSPTO_0230)   0.000000e+00  optimal\n",
      "(PSPTO_4683)   0.000000e+00  optimal\n",
      "\n",
      "[495 rows x 2 columns]\n"
     ]
    }
   ],
   "source": [
    "print (deletion_results_complete_media)"
   ]
  },
  {
   "cell_type": "code",
   "execution_count": null,
   "metadata": {},
   "outputs": [],
   "source": [
    "#define the media conditions, now in the Ara media defined by Anderson in the apoplast sampling paper, first Mock apoplasmic fluid\n",
    "#again, this will be done by opening up exchange reactions for the metabolites that are present in the analysis\n",
    "for met in model.metabolites:\n",
    "    try  "
   ]
  },
  {
   "cell_type": "code",
   "execution_count": null,
   "metadata": {},
   "outputs": [],
   "source": [
    "#under mock apoplasmic fluid media conditions, run single gene deletions and check for growth\n",
    "deletion_results_ara_mock_media = single_gene_deletion(model)\n",
    "#the results from this will be a table with the gene deleted, the flux, and the status of the model(optimum or not)    "
   ]
  },
  {
   "cell_type": "code",
   "execution_count": null,
   "metadata": {},
   "outputs": [],
   "source": [
    "#define the media conditions, now in the Ara media defined by Anderson in the apoplast sampling paper, now Flg22 apoplasmic fluid\n",
    "#again, this will be done by opening up exchange reactions for the metabolites that are present in the analysis\n",
    "for met in model.metabolites:\n",
    "    try  "
   ]
  },
  {
   "cell_type": "code",
   "execution_count": null,
   "metadata": {},
   "outputs": [],
   "source": [
    "#under flg apoplasmic fluid media conditions, run single gene deletions and check for growth\n",
    "deletion_results_ara_flg_media = single_gene_deletion(model)\n",
    "#the results from this will be a table with the gene deleted, the flux, and the status of the model(optimum or not)    "
   ]
  }
 ],
 "metadata": {
  "kernelspec": {
   "display_name": "cobraenv",
   "language": "python",
   "name": "cobraenv"
  },
  "language_info": {
   "codemirror_mode": {
    "name": "ipython",
    "version": 3
   },
   "file_extension": ".py",
   "mimetype": "text/x-python",
   "name": "python",
   "nbconvert_exporter": "python",
   "pygments_lexer": "ipython3",
   "version": "3.7.3"
  }
 },
 "nbformat": 4,
 "nbformat_minor": 2
}
