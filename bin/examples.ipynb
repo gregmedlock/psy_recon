{
 "cells": [
  {
   "cell_type": "code",
   "execution_count": 1,
   "metadata": {},
   "outputs": [],
   "source": [
    "# When importing cobrapy, \"import cobra\" gets you most of the functions you need\n",
    "import cobra"
   ]
  },
  {
   "cell_type": "code",
   "execution_count": 2,
   "metadata": {},
   "outputs": [],
   "source": [
    "# first let's load one of the existing models encoded as a json file\n",
    "# Remember that python uses relative paths, just like you're operating from the commandline.\n",
    "# Because this jupyter notebook is in psy_recon/bin, we go back one level ('..') to 'psy_recon' then\n",
    "# enter ''/results' to access the model.\n",
    "model = cobra.io.load_json_model('../results/PST_pao1_temp_biomass_v4.json')"
   ]
  },
  {
   "cell_type": "code",
   "execution_count": 3,
   "metadata": {},
   "outputs": [
    {
     "data": {
      "text/html": [
       "\n",
       "        <table>\n",
       "            <tr>\n",
       "                <td><strong>Name</strong></td>\n",
       "                <td>PST</td>\n",
       "            </tr><tr>\n",
       "                <td><strong>Memory address</strong></td>\n",
       "                <td>0x0131dff6990</td>\n",
       "            </tr><tr>\n",
       "                <td><strong>Number of metabolites</strong></td>\n",
       "                <td>1027</td>\n",
       "            </tr><tr>\n",
       "                <td><strong>Number of reactions</strong></td>\n",
       "                <td>920</td>\n",
       "            </tr><tr>\n",
       "                <td><strong>Objective expression</strong></td>\n",
       "                <td>-1.0*PAO1_Biomass_reverse_55fa3 + 1.0*PAO1_Biomass</td>\n",
       "            </tr><tr>\n",
       "                <td><strong>Compartments</strong></td>\n",
       "                <td>c, e</td>\n",
       "            </tr>\n",
       "          </table>"
      ],
      "text/plain": [
       "<Model PST at 0x131dff6990>"
      ]
     },
     "execution_count": 3,
     "metadata": {},
     "output_type": "execute_result"
    }
   ],
   "source": [
    "# let's inspect the model. When we're in a notebook and we enter the model variable\n",
    "# at the end of a cell, cobrapy will output some summary information about the model\n",
    "model"
   ]
  },
  {
   "cell_type": "code",
   "execution_count": 4,
   "metadata": {},
   "outputs": [],
   "source": [
    "# First, let's just save the model as an SBML file. We've already loaded the model\n",
    "# in the \"model\" variable, so we just have to pass this to the SBML writing function.\n",
    "# Remember to pass the additional argument use_fbc_package=True to save in the correct format.\n",
    "# The second argument is the location and name of the new SBML file we are saving.\n",
    "# We'll use the same filename as the json file, but swap out the extension for '.sbml'.\n",
    "cobra.io.write_sbml_model(model,filename='../results/PST_pao1_temp_biomass_v4.sbml',use_fbc_package=True)"
   ]
  },
  {
   "cell_type": "code",
   "execution_count": 5,
   "metadata": {},
   "outputs": [],
   "source": [
    "# Even when we save the model, it's still loaded in python as the model variable. \n",
    "# However, because the model might not be functional yet, let's load a test model\n",
    "# to experiment with manipulating media conditions and doing flux balance analysis (FBA)\n",
    "import cobra.test\n",
    "ecoli = cobra.test.create_test_model('textbook')"
   ]
  },
  {
   "cell_type": "code",
   "execution_count": 6,
   "metadata": {},
   "outputs": [
    {
     "data": {
      "text/html": [
       "\n",
       "        <table>\n",
       "            <tr>\n",
       "                <td><strong>Name</strong></td>\n",
       "                <td>e_coli_core</td>\n",
       "            </tr><tr>\n",
       "                <td><strong>Memory address</strong></td>\n",
       "                <td>0x0131e4b4490</td>\n",
       "            </tr><tr>\n",
       "                <td><strong>Number of metabolites</strong></td>\n",
       "                <td>72</td>\n",
       "            </tr><tr>\n",
       "                <td><strong>Number of reactions</strong></td>\n",
       "                <td>95</td>\n",
       "            </tr><tr>\n",
       "                <td><strong>Objective expression</strong></td>\n",
       "                <td>-1.0*Biomass_Ecoli_core_reverse_2cdba + 1.0*Biomass_Ecoli_core</td>\n",
       "            </tr><tr>\n",
       "                <td><strong>Compartments</strong></td>\n",
       "                <td>cytosol, extracellular</td>\n",
       "            </tr>\n",
       "          </table>"
      ],
      "text/plain": [
       "<Model e_coli_core at 0x131e4b4490>"
      ]
     },
     "execution_count": 6,
     "metadata": {},
     "output_type": "execute_result"
    }
   ],
   "source": [
    "# This test model describes basic metabolism in E. coli. let's inspect the model.\n",
    "ecoli"
   ]
  },
  {
   "cell_type": "code",
   "execution_count": 7,
   "metadata": {},
   "outputs": [
    {
     "data": {
      "text/plain": [
       "{'EX_co2_e': 1000.0,\n",
       " 'EX_glc__D_e': 10.0,\n",
       " 'EX_h2o_e': 1000.0,\n",
       " 'EX_h_e': 1000.0,\n",
       " 'EX_nh4_e': 1000.0,\n",
       " 'EX_o2_e': 1000.0,\n",
       " 'EX_pi_e': 1000.0}"
      ]
     },
     "execution_count": 7,
     "metadata": {},
     "output_type": "execute_result"
    }
   ],
   "source": [
    "# Cobrapy can automatically parse the environmental conditions (usually). As an example of this,\n",
    "# inspect ecoli.medium, which specifies the uptake rate of boundary reactions.\n",
    "ecoli.medium"
   ]
  },
  {
   "cell_type": "code",
   "execution_count": 8,
   "metadata": {},
   "outputs": [
    {
     "name": "stdout",
     "output_type": "stream",
     "text": [
      "EX_h_e: h_e <=> \n",
      "EX_o2_e: o2_e <=> \n",
      "EX_co2_e: co2_e <=> \n",
      "EX_pi_e: pi_e <=> \n",
      "EX_h2o_e: h2o_e <=> \n",
      "EX_nh4_e: nh4_e <=> \n",
      "EX_glc__D_e: glc__D_e <=> \n"
     ]
    }
   ],
   "source": [
    "# Where do these uptake rates come from in the model? To see, let's inspect the actual reactions\n",
    "# that are in the medium\n",
    "medium = ecoli.medium\n",
    "\n",
    "# the keys in the medium dictionary are reaction id's in the model\n",
    "for reaction_id in medium.keys():\n",
    "    # what does the reaction look like?\n",
    "    print(ecoli.reactions.get_by_id(reaction_id))"
   ]
  },
  {
   "cell_type": "code",
   "execution_count": 9,
   "metadata": {},
   "outputs": [
    {
     "name": "stdout",
     "output_type": "stream",
     "text": [
      "('EX_h_e', -1000.0)\n",
      "('EX_o2_e', -1000.0)\n",
      "('EX_co2_e', -1000.0)\n",
      "('EX_pi_e', -1000.0)\n",
      "('EX_h2o_e', -1000.0)\n",
      "('EX_nh4_e', -1000.0)\n",
      "('EX_glc__D_e', -10.0)\n"
     ]
    }
   ],
   "source": [
    "# Based on this, each of the reactions in the medium converts an extracellular metabolite (e.g. they all\n",
    "# have the '_e' suffix) to nothing. If we wanted uptake of the metabolite into the system, we would need\n",
    "# NEGATIVE flux for the reaction (e.g. 'nothing' is used to generate the metabolite)\n",
    "\n",
    "# Let's inspect the lower bound of each of these reactions to see if they meet our expectation\n",
    "# based on the uptake rates that medium describes.\n",
    "for reaction_id in medium.keys():\n",
    "    # what does the reaction look like?\n",
    "    print(reaction_id,ecoli.reactions.get_by_id(reaction_id).lower_bound)"
   ]
  },
  {
   "cell_type": "code",
   "execution_count": 10,
   "metadata": {},
   "outputs": [
    {
     "ename": "UnicodeEncodeError",
     "evalue": "'ascii' codec can't encode character u'\\xd7' in position 1443: ordinal not in range(128)",
     "output_type": "error",
     "traceback": [
      "\u001b[0;31m---------------------------------------------------------------------------\u001b[0m",
      "\u001b[0;31mUnicodeEncodeError\u001b[0m                        Traceback (most recent call last)",
      "\u001b[0;32m/anaconda2/lib/python2.7/site-packages/IPython/core/formatters.pyc\u001b[0m in \u001b[0;36m__call__\u001b[0;34m(self, obj)\u001b[0m\n\u001b[1;32m    336\u001b[0m             \u001b[0mmethod\u001b[0m \u001b[0;34m=\u001b[0m \u001b[0mget_real_method\u001b[0m\u001b[0;34m(\u001b[0m\u001b[0mobj\u001b[0m\u001b[0;34m,\u001b[0m \u001b[0mself\u001b[0m\u001b[0;34m.\u001b[0m\u001b[0mprint_method\u001b[0m\u001b[0;34m)\u001b[0m\u001b[0;34m\u001b[0m\u001b[0m\n\u001b[1;32m    337\u001b[0m             \u001b[0;32mif\u001b[0m \u001b[0mmethod\u001b[0m \u001b[0;32mis\u001b[0m \u001b[0;32mnot\u001b[0m \u001b[0mNone\u001b[0m\u001b[0;34m:\u001b[0m\u001b[0;34m\u001b[0m\u001b[0m\n\u001b[0;32m--> 338\u001b[0;31m                 \u001b[0;32mreturn\u001b[0m \u001b[0mmethod\u001b[0m\u001b[0;34m(\u001b[0m\u001b[0;34m)\u001b[0m\u001b[0;34m\u001b[0m\u001b[0m\n\u001b[0m\u001b[1;32m    339\u001b[0m             \u001b[0;32mreturn\u001b[0m \u001b[0mNone\u001b[0m\u001b[0;34m\u001b[0m\u001b[0m\n\u001b[1;32m    340\u001b[0m         \u001b[0;32melse\u001b[0m\u001b[0;34m:\u001b[0m\u001b[0;34m\u001b[0m\u001b[0m\n",
      "\u001b[0;32m/anaconda2/lib/python2.7/site-packages/cobra/core/solution.pyc\u001b[0m in \u001b[0;36m_repr_html_\u001b[0;34m(self)\u001b[0m\n\u001b[1;32m     94\u001b[0m                         \u001b[0;34m'value {:.3f}</strong><br>{}'\u001b[0m\u001b[0;34m\u001b[0m\u001b[0m\n\u001b[1;32m     95\u001b[0m                         .format(self.objective_value,\n\u001b[0;32m---> 96\u001b[0;31m                                 self.to_frame()._repr_html_()))\n\u001b[0m\u001b[1;32m     97\u001b[0m         \u001b[0;32melse\u001b[0m\u001b[0;34m:\u001b[0m\u001b[0;34m\u001b[0m\u001b[0m\n\u001b[1;32m     98\u001b[0m             \u001b[0mhtml\u001b[0m \u001b[0;34m=\u001b[0m \u001b[0;34m'<strong><em>{}</em> solution</strong>'\u001b[0m\u001b[0;34m.\u001b[0m\u001b[0mformat\u001b[0m\u001b[0;34m(\u001b[0m\u001b[0mself\u001b[0m\u001b[0;34m.\u001b[0m\u001b[0mstatus\u001b[0m\u001b[0;34m)\u001b[0m\u001b[0;34m\u001b[0m\u001b[0m\n",
      "\u001b[0;31mUnicodeEncodeError\u001b[0m: 'ascii' codec can't encode character u'\\xd7' in position 1443: ordinal not in range(128)"
     ]
    },
    {
     "data": {
      "text/plain": [
       "<Solution 0.874 at 0x131f04fe50>"
      ]
     },
     "execution_count": 10,
     "metadata": {},
     "output_type": "execute_result"
    }
   ],
   "source": [
    "# As you can see, they are all negative, allowing reverse flux through the reaction and therefore generation\n",
    "# of each metabolite.\n",
    "\n",
    "# Now, let's see if our E. coli model is able to grow in this media condition.\n",
    "# in the model summary when we first loaded ecoli, we saw that the objective function was set to the\n",
    "# biomass reaction. When we 'optimize' the ecoli model, it will attempt to maximize activity, or flux,\n",
    "# through this biomass reaction.\n",
    "\n",
    "# Let's optimize and take a look at the standard summary output\n",
    "ecoli.optimize()"
   ]
  },
  {
   "cell_type": "code",
   "execution_count": 11,
   "metadata": {},
   "outputs": [
    {
     "ename": "UnicodeEncodeError",
     "evalue": "'ascii' codec can't encode character u'\\xd7' in position 1443: ordinal not in range(128)",
     "output_type": "error",
     "traceback": [
      "\u001b[0;31m---------------------------------------------------------------------------\u001b[0m",
      "\u001b[0;31mUnicodeEncodeError\u001b[0m                        Traceback (most recent call last)",
      "\u001b[0;32m/anaconda2/lib/python2.7/site-packages/IPython/core/formatters.pyc\u001b[0m in \u001b[0;36m__call__\u001b[0;34m(self, obj)\u001b[0m\n\u001b[1;32m    336\u001b[0m             \u001b[0mmethod\u001b[0m \u001b[0;34m=\u001b[0m \u001b[0mget_real_method\u001b[0m\u001b[0;34m(\u001b[0m\u001b[0mobj\u001b[0m\u001b[0;34m,\u001b[0m \u001b[0mself\u001b[0m\u001b[0;34m.\u001b[0m\u001b[0mprint_method\u001b[0m\u001b[0;34m)\u001b[0m\u001b[0;34m\u001b[0m\u001b[0m\n\u001b[1;32m    337\u001b[0m             \u001b[0;32mif\u001b[0m \u001b[0mmethod\u001b[0m \u001b[0;32mis\u001b[0m \u001b[0;32mnot\u001b[0m \u001b[0mNone\u001b[0m\u001b[0;34m:\u001b[0m\u001b[0;34m\u001b[0m\u001b[0m\n\u001b[0;32m--> 338\u001b[0;31m                 \u001b[0;32mreturn\u001b[0m \u001b[0mmethod\u001b[0m\u001b[0;34m(\u001b[0m\u001b[0;34m)\u001b[0m\u001b[0;34m\u001b[0m\u001b[0m\n\u001b[0m\u001b[1;32m    339\u001b[0m             \u001b[0;32mreturn\u001b[0m \u001b[0mNone\u001b[0m\u001b[0;34m\u001b[0m\u001b[0m\n\u001b[1;32m    340\u001b[0m         \u001b[0;32melse\u001b[0m\u001b[0;34m:\u001b[0m\u001b[0;34m\u001b[0m\u001b[0m\n",
      "\u001b[0;32m/anaconda2/lib/python2.7/site-packages/cobra/core/solution.pyc\u001b[0m in \u001b[0;36m_repr_html_\u001b[0;34m(self)\u001b[0m\n\u001b[1;32m     94\u001b[0m                         \u001b[0;34m'value {:.3f}</strong><br>{}'\u001b[0m\u001b[0;34m\u001b[0m\u001b[0m\n\u001b[1;32m     95\u001b[0m                         .format(self.objective_value,\n\u001b[0;32m---> 96\u001b[0;31m                                 self.to_frame()._repr_html_()))\n\u001b[0m\u001b[1;32m     97\u001b[0m         \u001b[0;32melse\u001b[0m\u001b[0;34m:\u001b[0m\u001b[0;34m\u001b[0m\u001b[0m\n\u001b[1;32m     98\u001b[0m             \u001b[0mhtml\u001b[0m \u001b[0;34m=\u001b[0m \u001b[0;34m'<strong><em>{}</em> solution</strong>'\u001b[0m\u001b[0;34m.\u001b[0m\u001b[0mformat\u001b[0m\u001b[0;34m(\u001b[0m\u001b[0mself\u001b[0m\u001b[0;34m.\u001b[0m\u001b[0mstatus\u001b[0m\u001b[0;34m)\u001b[0m\u001b[0;34m\u001b[0m\u001b[0m\n",
      "\u001b[0;31mUnicodeEncodeError\u001b[0m: 'ascii' codec can't encode character u'\\xd7' in position 1443: ordinal not in range(128)"
     ]
    },
    {
     "data": {
      "text/plain": [
       "<Solution 0.874 at 0x131f063cd0>"
      ]
     },
     "execution_count": 11,
     "metadata": {},
     "output_type": "execute_result"
    }
   ],
   "source": [
    "# As you can see, the model was able to produce 0.874 units of biomass (i.e. the value of the objective)\n",
    "\n",
    "# we can also save the solution to a varible to inspect it further, rather than printing.\n",
    "solution = ecoli.optimize()\n",
    "solution"
   ]
  },
  {
   "cell_type": "code",
   "execution_count": 12,
   "metadata": {},
   "outputs": [
    {
     "name": "stdout",
     "output_type": "stream",
     "text": [
      "0.873921506968\n",
      "                       fluxes  reduced_costs\n",
      "ACALD                0.000000   6.938894e-18\n",
      "ACALDt               0.000000   0.000000e+00\n",
      "ACKr                 0.000000   1.040834e-17\n",
      "ACONTa               6.007250   0.000000e+00\n",
      "ACONTb               6.007250   1.387779e-17\n",
      "ACt2r                0.000000   0.000000e+00\n",
      "ADK1                 0.000000  -0.000000e+00\n",
      "AKGDH                5.064376   1.318390e-16\n",
      "AKGt2r               0.000000   1.387779e-17\n",
      "ALCD2x               0.000000   0.000000e+00\n",
      "ATPM                 8.390000  -1.018497e-02\n",
      "ATPS4r              45.514010   0.000000e+00\n",
      "Biomass_Ecoli_core   0.873922  -9.714451e-17\n",
      "CO2t               -22.809833  -1.387779e-17\n",
      "CS                   6.007250   3.469447e-17\n",
      "CYTBD               43.598985  -8.673617e-19\n",
      "D_LACt2              0.000000   0.000000e+00\n",
      "ENO                 14.716140   0.000000e+00\n",
      "ETOHt2r              0.000000   0.000000e+00\n",
      "EX_ac_e              0.000000  -4.583237e-02\n",
      "EX_acald_e           0.000000  -6.874856e-02\n",
      "EX_akg_e             0.000000  -1.222197e-01\n",
      "EX_co2_e            22.809833   0.000000e+00\n",
      "EX_etoh_e            0.000000  -7.893353e-02\n",
      "EX_for_e             0.000000   0.000000e+00\n",
      "EX_fru_e             0.000000  -1.833295e-01\n",
      "EX_fum_e             0.000000  -9.166475e-02\n",
      "EX_glc__D_e        -10.000000  -1.833295e-01\n",
      "EX_gln__L_e          0.000000  -1.400434e-01\n",
      "EX_glu__L_e          0.000000  -1.374971e-01\n",
      "...                       ...            ...\n",
      "ME2                  0.000000  -7.638729e-03\n",
      "NADH16              38.534610   0.000000e+00\n",
      "NADTRHD              0.000000  -2.546243e-03\n",
      "NH4t                 4.765319  -2.081668e-17\n",
      "O2t                 21.799493   0.000000e+00\n",
      "PDH                  9.282533  -6.938894e-18\n",
      "PFK                  7.477382  -1.387779e-17\n",
      "PFL                  0.000000  -1.527746e-02\n",
      "PGI                  4.860861   0.000000e+00\n",
      "PGK                -16.023526   6.938894e-18\n",
      "PGL                  4.959985   1.387779e-17\n",
      "PGM                -14.716140  -0.000000e+00\n",
      "PIt2r                3.214895  -1.257675e-17\n",
      "PPC                  2.504309  -1.387779e-17\n",
      "PPCK                 0.000000  -1.018497e-02\n",
      "PPS                  0.000000  -1.018497e-02\n",
      "PTAr                 0.000000   1.387779e-17\n",
      "PYK                  1.758177   1.734723e-18\n",
      "PYRt2                0.000000   1.301043e-18\n",
      "RPE                  2.678482   0.000000e+00\n",
      "RPI                 -2.281503  -0.000000e+00\n",
      "SUCCt2_2             0.000000   5.551115e-17\n",
      "SUCCt3               0.000000  -7.638729e-03\n",
      "SUCDi                5.064376   0.000000e+00\n",
      "SUCOAS              -5.064376   1.110223e-16\n",
      "TALA                 1.496984  -1.387779e-17\n",
      "THD2                 0.000000  -2.546243e-03\n",
      "TKT1                 1.496984  -1.387779e-17\n",
      "TKT2                 1.181498   1.387779e-17\n",
      "TPI                  7.477382  -6.938894e-18\n",
      "\n",
      "[95 rows x 2 columns]\n"
     ]
    }
   ],
   "source": [
    "# Here are some examples of inspecting the solution. These are the actual variables used to construct the\n",
    "# solution summary that cobrapy prints.\n",
    "print(solution.objective_value)\n",
    "print(solution.to_frame())"
   ]
  },
  {
   "cell_type": "code",
   "execution_count": 13,
   "metadata": {},
   "outputs": [
    {
     "name": "stderr",
     "output_type": "stream",
     "text": [
      "cobra/util/solver.py:408 \u001b[1;31mUserWarning\u001b[0m: solver status is 'infeasible'\n"
     ]
    },
    {
     "data": {
      "text/html": [
       "<strong><em>infeasible</em> solution</strong>"
      ],
      "text/plain": [
       "<Solution infeasible at 0x131f0b1b50>"
      ]
     },
     "execution_count": 13,
     "metadata": {},
     "output_type": "execute_result"
    }
   ],
   "source": [
    "# Given that the lower bound of these boundary reactions determines the uptake rate, the most\n",
    "# reliable way to modify the environmental conditions is to change the lower bound. Let's\n",
    "# do this for one of the exchange reactions that was already active and see if the model\n",
    "# can still grow.\n",
    "ecoli.reactions.get_by_id('EX_glc__D_e').lower_bound = 0\n",
    "\n",
    "ecoli.optimize()"
   ]
  },
  {
   "cell_type": "code",
   "execution_count": 14,
   "metadata": {},
   "outputs": [
    {
     "data": {
      "text/plain": [
       "[<Reaction EX_ac_e at 0x131f04b310>,\n",
       " <Reaction EX_acald_e at 0x131f04b390>,\n",
       " <Reaction EX_akg_e at 0x131f04b450>,\n",
       " <Reaction EX_co2_e at 0x131f04b510>,\n",
       " <Reaction EX_etoh_e at 0x131f04b590>,\n",
       " <Reaction EX_for_e at 0x131f04b610>,\n",
       " <Reaction EX_fru_e at 0x131f04b690>,\n",
       " <Reaction EX_fum_e at 0x131f04b710>,\n",
       " <Reaction EX_glc__D_e at 0x131f04b790>,\n",
       " <Reaction EX_gln__L_e at 0x131f04b850>,\n",
       " <Reaction EX_glu__L_e at 0x131f04b8d0>,\n",
       " <Reaction EX_h_e at 0x131f04b990>,\n",
       " <Reaction EX_h2o_e at 0x131f04ba10>,\n",
       " <Reaction EX_lac__D_e at 0x131f04ba90>,\n",
       " <Reaction EX_mal__L_e at 0x131f04bb10>,\n",
       " <Reaction EX_nh4_e at 0x131f04bb90>,\n",
       " <Reaction EX_o2_e at 0x131f04bc10>,\n",
       " <Reaction EX_pi_e at 0x131f04bc90>,\n",
       " <Reaction EX_pyr_e at 0x131f04bd10>,\n",
       " <Reaction EX_succ_e at 0x131f04bd90>]"
      ]
     },
     "execution_count": 14,
     "metadata": {},
     "output_type": "execute_result"
    }
   ],
   "source": [
    "# When we turn off glucose uptake, the model becomes 'infeasible', meaning that there aren't any network-wide\n",
    "# states that allow mass balance constraints to be met. This is equivalent to having 0 activity through the\n",
    "# biomass reaction, so it essentially means the organism can't grow.\n",
    "\n",
    "# Let's modify some of the other exchange reactions to see if we can restore growth. Use the .boundary\n",
    "# attribute to find reactions that might be exchange reactions.\n",
    "ecoli.boundary"
   ]
  },
  {
   "cell_type": "code",
   "execution_count": 15,
   "metadata": {},
   "outputs": [
    {
     "ename": "UnicodeEncodeError",
     "evalue": "'ascii' codec can't encode character u'\\xd7' in position 1446: ordinal not in range(128)",
     "output_type": "error",
     "traceback": [
      "\u001b[0;31m---------------------------------------------------------------------------\u001b[0m",
      "\u001b[0;31mUnicodeEncodeError\u001b[0m                        Traceback (most recent call last)",
      "\u001b[0;32m/anaconda2/lib/python2.7/site-packages/IPython/core/formatters.pyc\u001b[0m in \u001b[0;36m__call__\u001b[0;34m(self, obj)\u001b[0m\n\u001b[1;32m    336\u001b[0m             \u001b[0mmethod\u001b[0m \u001b[0;34m=\u001b[0m \u001b[0mget_real_method\u001b[0m\u001b[0;34m(\u001b[0m\u001b[0mobj\u001b[0m\u001b[0;34m,\u001b[0m \u001b[0mself\u001b[0m\u001b[0;34m.\u001b[0m\u001b[0mprint_method\u001b[0m\u001b[0;34m)\u001b[0m\u001b[0;34m\u001b[0m\u001b[0m\n\u001b[1;32m    337\u001b[0m             \u001b[0;32mif\u001b[0m \u001b[0mmethod\u001b[0m \u001b[0;32mis\u001b[0m \u001b[0;32mnot\u001b[0m \u001b[0mNone\u001b[0m\u001b[0;34m:\u001b[0m\u001b[0;34m\u001b[0m\u001b[0m\n\u001b[0;32m--> 338\u001b[0;31m                 \u001b[0;32mreturn\u001b[0m \u001b[0mmethod\u001b[0m\u001b[0;34m(\u001b[0m\u001b[0;34m)\u001b[0m\u001b[0;34m\u001b[0m\u001b[0m\n\u001b[0m\u001b[1;32m    339\u001b[0m             \u001b[0;32mreturn\u001b[0m \u001b[0mNone\u001b[0m\u001b[0;34m\u001b[0m\u001b[0m\n\u001b[1;32m    340\u001b[0m         \u001b[0;32melse\u001b[0m\u001b[0;34m:\u001b[0m\u001b[0;34m\u001b[0m\u001b[0m\n",
      "\u001b[0;32m/anaconda2/lib/python2.7/site-packages/cobra/core/solution.pyc\u001b[0m in \u001b[0;36m_repr_html_\u001b[0;34m(self)\u001b[0m\n\u001b[1;32m     94\u001b[0m                         \u001b[0;34m'value {:.3f}</strong><br>{}'\u001b[0m\u001b[0;34m\u001b[0m\u001b[0m\n\u001b[1;32m     95\u001b[0m                         .format(self.objective_value,\n\u001b[0;32m---> 96\u001b[0;31m                                 self.to_frame()._repr_html_()))\n\u001b[0m\u001b[1;32m     97\u001b[0m         \u001b[0;32melse\u001b[0m\u001b[0;34m:\u001b[0m\u001b[0;34m\u001b[0m\u001b[0m\n\u001b[1;32m     98\u001b[0m             \u001b[0mhtml\u001b[0m \u001b[0;34m=\u001b[0m \u001b[0;34m'<strong><em>{}</em> solution</strong>'\u001b[0m\u001b[0;34m.\u001b[0m\u001b[0mformat\u001b[0m\u001b[0;34m(\u001b[0m\u001b[0mself\u001b[0m\u001b[0;34m.\u001b[0m\u001b[0mstatus\u001b[0m\u001b[0;34m)\u001b[0m\u001b[0;34m\u001b[0m\u001b[0m\n",
      "\u001b[0;31mUnicodeEncodeError\u001b[0m: 'ascii' codec can't encode character u'\\xd7' in position 1446: ordinal not in range(128)"
     ]
    },
    {
     "data": {
      "text/plain": [
       "<Solution 0.559 at 0x131f0b1e10>"
      ]
     },
     "execution_count": 15,
     "metadata": {},
     "output_type": "execute_result"
    }
   ],
   "source": [
    "# Let's enable uptake through one of these that wasn't in the original medium.\n",
    "ecoli.reactions.get_by_id('EX_gln__L_e').lower_bound = -10\n",
    "\n",
    "# Does this restore biomass production?\n",
    "ecoli.optimize()"
   ]
  },
  {
   "cell_type": "code",
   "execution_count": 16,
   "metadata": {},
   "outputs": [],
   "source": [
    "# It does! Although it appears to be growing at a slower rate than before (e.g. 0.559 vs. 0.874)\n",
    "# We'll add on to this notebook later with some more examples."
   ]
  }
 ],
 "metadata": {
  "kernelspec": {
   "display_name": "Python 2",
   "language": "python",
   "name": "python2"
  },
  "language_info": {
   "codemirror_mode": {
    "name": "ipython",
    "version": 2
   },
   "file_extension": ".py",
   "mimetype": "text/x-python",
   "name": "python",
   "nbconvert_exporter": "python",
   "pygments_lexer": "ipython2",
   "version": "2.7.15"
  }
 },
 "nbformat": 4,
 "nbformat_minor": 2
}
