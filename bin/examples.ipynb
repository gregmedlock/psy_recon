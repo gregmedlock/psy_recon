{
 "cells": [
  {
   "cell_type": "code",
   "execution_count": 2,
   "metadata": {},
   "outputs": [],
   "source": [
    "# When importing cobrapy, \"import cobra\" gets you most of the functions you need\n",
    "import cobra"
   ]
  },
  {
   "cell_type": "code",
   "execution_count": 3,
   "metadata": {},
   "outputs": [],
   "source": [
    "# first let's load one of the existing models encoded as a json file\n",
    "# Remember that python uses relative paths, just like you're operating from the commandline.\n",
    "# Because this jupyter notebook is in psy_recon/bin, we go back one level ('..') to 'psy_recon' then\n",
    "# enter ''/results' to access the model.\n",
    "model = cobra.io.load_json_model('../results/reconstructions/PST_pao1_temp_biomass_v4.json')"
   ]
  },
  {
   "cell_type": "code",
   "execution_count": 3,
   "metadata": {},
   "outputs": [
    {
     "data": {
      "text/html": [
       "\n",
       "        <table>\n",
       "            <tr>\n",
       "                <td><strong>Name</strong></td>\n",
       "                <td>PST</td>\n",
       "            </tr><tr>\n",
       "                <td><strong>Memory address</strong></td>\n",
       "                <td>0x011b2e7048</td>\n",
       "            </tr><tr>\n",
       "                <td><strong>Number of metabolites</strong></td>\n",
       "                <td>1027</td>\n",
       "            </tr><tr>\n",
       "                <td><strong>Number of reactions</strong></td>\n",
       "                <td>920</td>\n",
       "            </tr><tr>\n",
       "                <td><strong>Objective expression</strong></td>\n",
       "                <td>-1.0*PAO1_Biomass_reverse_55fa3 + 1.0*PAO1_Biomass</td>\n",
       "            </tr><tr>\n",
       "                <td><strong>Compartments</strong></td>\n",
       "                <td>c, e</td>\n",
       "            </tr>\n",
       "          </table>"
      ],
      "text/plain": [
       "<Model PST at 0x11b2e7048>"
      ]
     },
     "execution_count": 3,
     "metadata": {},
     "output_type": "execute_result"
    }
   ],
   "source": [
    "# let's inspect the model. When we're in a notebook and we enter the model variable\n",
    "# at the end of a cell, cobrapy will output some summary information about the model\n",
    "model"
   ]
  },
  {
   "cell_type": "code",
   "execution_count": 4,
   "metadata": {},
   "outputs": [],
   "source": [
    "# First, let's just save the model as an SBML file. We've already loaded the model\n",
    "# in the \"model\" variable, so we just have to pass this to the SBML writing function.\n",
    "# Remember to pass the additional argument use_fbc_package=True to save in the correct format.\n",
    "# The second argument is the location and name of the new SBML file we are saving.\n",
    "# We'll use the same filename as the json file, but swap out the extension for '.sbml'.\n",
    "cobra.io.write_sbml_model(model,filename='../results/reconstructions/PST_pao1_temp_biomass_v4.sbml',use_fbc_package=True)"
   ]
  },
  {
   "cell_type": "code",
   "execution_count": 5,
   "metadata": {},
   "outputs": [],
   "source": [
    "# Even when we save the model, it's still loaded in python as the model variable. \n",
    "# However, because the model might not be functional yet, let's load a test model\n",
    "# to experiment with manipulating media conditions and doing flux balance analysis (FBA)\n",
    "import cobra.test\n",
    "ecoli = cobra.test.create_test_model('textbook')"
   ]
  },
  {
   "cell_type": "code",
   "execution_count": 6,
   "metadata": {},
   "outputs": [
    {
     "data": {
      "text/html": [
       "\n",
       "        <table>\n",
       "            <tr>\n",
       "                <td><strong>Name</strong></td>\n",
       "                <td>e_coli_core</td>\n",
       "            </tr><tr>\n",
       "                <td><strong>Memory address</strong></td>\n",
       "                <td>0x011b473a58</td>\n",
       "            </tr><tr>\n",
       "                <td><strong>Number of metabolites</strong></td>\n",
       "                <td>72</td>\n",
       "            </tr><tr>\n",
       "                <td><strong>Number of reactions</strong></td>\n",
       "                <td>95</td>\n",
       "            </tr><tr>\n",
       "                <td><strong>Objective expression</strong></td>\n",
       "                <td>-1.0*Biomass_Ecoli_core_reverse_2cdba + 1.0*Biomass_Ecoli_core</td>\n",
       "            </tr><tr>\n",
       "                <td><strong>Compartments</strong></td>\n",
       "                <td>cytosol, extracellular</td>\n",
       "            </tr>\n",
       "          </table>"
      ],
      "text/plain": [
       "<Model e_coli_core at 0x11b473a58>"
      ]
     },
     "execution_count": 6,
     "metadata": {},
     "output_type": "execute_result"
    }
   ],
   "source": [
    "# This test model describes basic metabolism in E. coli. let's inspect the model.\n",
    "ecoli"
   ]
  },
  {
   "cell_type": "code",
   "execution_count": 7,
   "metadata": {},
   "outputs": [
    {
     "data": {
      "text/plain": [
       "{'EX_co2_e': 1000.0,\n",
       " 'EX_glc__D_e': 10.0,\n",
       " 'EX_h_e': 1000.0,\n",
       " 'EX_h2o_e': 1000.0,\n",
       " 'EX_nh4_e': 1000.0,\n",
       " 'EX_o2_e': 1000.0,\n",
       " 'EX_pi_e': 1000.0}"
      ]
     },
     "execution_count": 7,
     "metadata": {},
     "output_type": "execute_result"
    }
   ],
   "source": [
    "# Cobrapy can automatically parse the environmental conditions (usually). As an example of this,\n",
    "# inspect ecoli.medium, which specifies the uptake rate of boundary reactions.\n",
    "ecoli.medium"
   ]
  },
  {
   "cell_type": "code",
   "execution_count": 8,
   "metadata": {},
   "outputs": [
    {
     "name": "stdout",
     "output_type": "stream",
     "text": [
      "EX_co2_e: co2_e <=> \n",
      "EX_glc__D_e: glc__D_e <=> \n",
      "EX_h_e: h_e <=> \n",
      "EX_h2o_e: h2o_e <=> \n",
      "EX_nh4_e: nh4_e <=> \n",
      "EX_o2_e: o2_e <=> \n",
      "EX_pi_e: pi_e <=> \n"
     ]
    }
   ],
   "source": [
    "# Where do these uptake rates come from in the model? To see, let's inspect the actual reactions\n",
    "# that are in the medium\n",
    "medium = ecoli.medium\n",
    "\n",
    "# the keys in the medium dictionary are reaction id's in the model\n",
    "for reaction_id in medium.keys():\n",
    "    # what does the reaction look like?\n",
    "    print(ecoli.reactions.get_by_id(reaction_id))"
   ]
  },
  {
   "cell_type": "code",
   "execution_count": 9,
   "metadata": {},
   "outputs": [
    {
     "name": "stdout",
     "output_type": "stream",
     "text": [
      "EX_co2_e -1000.0\n",
      "EX_glc__D_e -10.0\n",
      "EX_h_e -1000.0\n",
      "EX_h2o_e -1000.0\n",
      "EX_nh4_e -1000.0\n",
      "EX_o2_e -1000.0\n",
      "EX_pi_e -1000.0\n"
     ]
    }
   ],
   "source": [
    "# Based on this, each of the reactions in the medium converts an extracellular metabolite (e.g. they all\n",
    "# have the '_e' suffix) to nothing. If we wanted uptake of the metabolite into the system, we would need\n",
    "# NEGATIVE flux for the reaction (e.g. 'nothing' is used to generate the metabolite)\n",
    "\n",
    "# Let's inspect the lower bound of each of these reactions to see if they meet our expectation\n",
    "# based on the uptake rates that medium describes.\n",
    "for reaction_id in medium.keys():\n",
    "    # what does the reaction look like?\n",
    "    print(reaction_id,ecoli.reactions.get_by_id(reaction_id).lower_bound)"
   ]
  },
  {
   "cell_type": "code",
   "execution_count": 10,
   "metadata": {},
   "outputs": [
    {
     "data": {
      "text/html": [
       "<strong><em>Optimal</em> solution with objective value 0.874</strong><br><div>\n",
       "<style scoped>\n",
       "    .dataframe tbody tr th:only-of-type {\n",
       "        vertical-align: middle;\n",
       "    }\n",
       "\n",
       "    .dataframe tbody tr th {\n",
       "        vertical-align: top;\n",
       "    }\n",
       "\n",
       "    .dataframe thead th {\n",
       "        text-align: right;\n",
       "    }\n",
       "</style>\n",
       "<table border=\"1\" class=\"dataframe\">\n",
       "  <thead>\n",
       "    <tr style=\"text-align: right;\">\n",
       "      <th></th>\n",
       "      <th>fluxes</th>\n",
       "      <th>reduced_costs</th>\n",
       "    </tr>\n",
       "  </thead>\n",
       "  <tbody>\n",
       "    <tr>\n",
       "      <th>ACALD</th>\n",
       "      <td>0.000000</td>\n",
       "      <td>6.938894e-18</td>\n",
       "    </tr>\n",
       "    <tr>\n",
       "      <th>ACALDt</th>\n",
       "      <td>0.000000</td>\n",
       "      <td>0.000000e+00</td>\n",
       "    </tr>\n",
       "    <tr>\n",
       "      <th>ACKr</th>\n",
       "      <td>0.000000</td>\n",
       "      <td>1.040834e-17</td>\n",
       "    </tr>\n",
       "    <tr>\n",
       "      <th>ACONTa</th>\n",
       "      <td>6.007250</td>\n",
       "      <td>0.000000e+00</td>\n",
       "    </tr>\n",
       "    <tr>\n",
       "      <th>ACONTb</th>\n",
       "      <td>6.007250</td>\n",
       "      <td>1.387779e-17</td>\n",
       "    </tr>\n",
       "    <tr>\n",
       "      <th>...</th>\n",
       "      <td>...</td>\n",
       "      <td>...</td>\n",
       "    </tr>\n",
       "    <tr>\n",
       "      <th>TALA</th>\n",
       "      <td>1.496984</td>\n",
       "      <td>-1.387779e-17</td>\n",
       "    </tr>\n",
       "    <tr>\n",
       "      <th>THD2</th>\n",
       "      <td>0.000000</td>\n",
       "      <td>-2.546243e-03</td>\n",
       "    </tr>\n",
       "    <tr>\n",
       "      <th>TKT1</th>\n",
       "      <td>1.496984</td>\n",
       "      <td>-1.387779e-17</td>\n",
       "    </tr>\n",
       "    <tr>\n",
       "      <th>TKT2</th>\n",
       "      <td>1.181498</td>\n",
       "      <td>1.387779e-17</td>\n",
       "    </tr>\n",
       "    <tr>\n",
       "      <th>TPI</th>\n",
       "      <td>7.477382</td>\n",
       "      <td>-6.938894e-18</td>\n",
       "    </tr>\n",
       "  </tbody>\n",
       "</table>\n",
       "<p>95 rows × 2 columns</p>\n",
       "</div>"
      ],
      "text/plain": [
       "<Solution 0.874 at 0x11b4f6a58>"
      ]
     },
     "execution_count": 10,
     "metadata": {},
     "output_type": "execute_result"
    }
   ],
   "source": [
    "# As you can see, they are all negative, allowing reverse flux through the reaction and therefore generation\n",
    "# of each metabolite.\n",
    "\n",
    "# Now, let's see if our E. coli model is able to grow in this media condition.\n",
    "# in the model summary when we first loaded ecoli, we saw that the objective function was set to the\n",
    "# biomass reaction. When we 'optimize' the ecoli model, it will attempt to maximize activity, or flux,\n",
    "# through this biomass reaction.\n",
    "\n",
    "# Let's optimize and take a look at the standard summary output\n",
    "ecoli.optimize()"
   ]
  },
  {
   "cell_type": "code",
   "execution_count": 11,
   "metadata": {},
   "outputs": [
    {
     "data": {
      "text/html": [
       "<strong><em>Optimal</em> solution with objective value 0.874</strong><br><div>\n",
       "<style scoped>\n",
       "    .dataframe tbody tr th:only-of-type {\n",
       "        vertical-align: middle;\n",
       "    }\n",
       "\n",
       "    .dataframe tbody tr th {\n",
       "        vertical-align: top;\n",
       "    }\n",
       "\n",
       "    .dataframe thead th {\n",
       "        text-align: right;\n",
       "    }\n",
       "</style>\n",
       "<table border=\"1\" class=\"dataframe\">\n",
       "  <thead>\n",
       "    <tr style=\"text-align: right;\">\n",
       "      <th></th>\n",
       "      <th>fluxes</th>\n",
       "      <th>reduced_costs</th>\n",
       "    </tr>\n",
       "  </thead>\n",
       "  <tbody>\n",
       "    <tr>\n",
       "      <th>ACALD</th>\n",
       "      <td>0.000000</td>\n",
       "      <td>6.938894e-18</td>\n",
       "    </tr>\n",
       "    <tr>\n",
       "      <th>ACALDt</th>\n",
       "      <td>0.000000</td>\n",
       "      <td>0.000000e+00</td>\n",
       "    </tr>\n",
       "    <tr>\n",
       "      <th>ACKr</th>\n",
       "      <td>0.000000</td>\n",
       "      <td>1.040834e-17</td>\n",
       "    </tr>\n",
       "    <tr>\n",
       "      <th>ACONTa</th>\n",
       "      <td>6.007250</td>\n",
       "      <td>0.000000e+00</td>\n",
       "    </tr>\n",
       "    <tr>\n",
       "      <th>ACONTb</th>\n",
       "      <td>6.007250</td>\n",
       "      <td>1.387779e-17</td>\n",
       "    </tr>\n",
       "    <tr>\n",
       "      <th>...</th>\n",
       "      <td>...</td>\n",
       "      <td>...</td>\n",
       "    </tr>\n",
       "    <tr>\n",
       "      <th>TALA</th>\n",
       "      <td>1.496984</td>\n",
       "      <td>-1.387779e-17</td>\n",
       "    </tr>\n",
       "    <tr>\n",
       "      <th>THD2</th>\n",
       "      <td>0.000000</td>\n",
       "      <td>-2.546243e-03</td>\n",
       "    </tr>\n",
       "    <tr>\n",
       "      <th>TKT1</th>\n",
       "      <td>1.496984</td>\n",
       "      <td>-1.387779e-17</td>\n",
       "    </tr>\n",
       "    <tr>\n",
       "      <th>TKT2</th>\n",
       "      <td>1.181498</td>\n",
       "      <td>1.387779e-17</td>\n",
       "    </tr>\n",
       "    <tr>\n",
       "      <th>TPI</th>\n",
       "      <td>7.477382</td>\n",
       "      <td>-6.938894e-18</td>\n",
       "    </tr>\n",
       "  </tbody>\n",
       "</table>\n",
       "<p>95 rows × 2 columns</p>\n",
       "</div>"
      ],
      "text/plain": [
       "<Solution 0.874 at 0x11b53ea58>"
      ]
     },
     "execution_count": 11,
     "metadata": {},
     "output_type": "execute_result"
    }
   ],
   "source": [
    "# As you can see, the model was able to produce 0.874 units of biomass (i.e. the value of the objective)\n",
    "\n",
    "# we can also save the solution to a varible to inspect it further, rather than printing.\n",
    "solution = ecoli.optimize()\n",
    "solution"
   ]
  },
  {
   "cell_type": "code",
   "execution_count": 12,
   "metadata": {},
   "outputs": [
    {
     "name": "stdout",
     "output_type": "stream",
     "text": [
      "0.8739215069684307\n",
      "                       fluxes  reduced_costs\n",
      "ACALD                0.000000   6.938894e-18\n",
      "ACALDt               0.000000   0.000000e+00\n",
      "ACKr                 0.000000   1.040834e-17\n",
      "ACONTa               6.007250   0.000000e+00\n",
      "ACONTb               6.007250   1.387779e-17\n",
      "ACt2r                0.000000   1.301043e-18\n",
      "ADK1                 0.000000  -0.000000e+00\n",
      "AKGDH                5.064376   1.318390e-16\n",
      "AKGt2r               0.000000   1.517883e-17\n",
      "ALCD2x               0.000000   0.000000e+00\n",
      "ATPM                 8.390000  -1.018497e-02\n",
      "ATPS4r              45.514010   4.336809e-19\n",
      "Biomass_Ecoli_core   0.873922   0.000000e+00\n",
      "CO2t               -22.809833  -1.387779e-17\n",
      "CS                   6.007250   3.469447e-17\n",
      "CYTBD               43.598985  -8.673617e-19\n",
      "D_LACt2              0.000000   1.301043e-18\n",
      "ENO                 14.716140   0.000000e+00\n",
      "ETOHt2r              0.000000   1.301043e-18\n",
      "EX_ac_e              0.000000  -4.583237e-02\n",
      "EX_acald_e           0.000000  -6.874856e-02\n",
      "EX_akg_e             0.000000  -1.222197e-01\n",
      "EX_co2_e            22.809833   0.000000e+00\n",
      "EX_etoh_e            0.000000  -7.893353e-02\n",
      "EX_for_e             0.000000   0.000000e+00\n",
      "EX_fru_e             0.000000  -1.833295e-01\n",
      "EX_fum_e             0.000000  -9.166475e-02\n",
      "EX_glc__D_e        -10.000000  -1.833295e-01\n",
      "EX_gln__L_e          0.000000  -1.400434e-01\n",
      "EX_glu__L_e          0.000000  -1.374971e-01\n",
      "...                       ...            ...\n",
      "ME2                  0.000000  -7.638729e-03\n",
      "NADH16              38.534610   0.000000e+00\n",
      "NADTRHD              0.000000  -2.546243e-03\n",
      "NH4t                 4.765319  -2.081668e-17\n",
      "O2t                 21.799493   0.000000e+00\n",
      "PDH                  9.282533  -6.938894e-18\n",
      "PFK                  7.477382  -9.107298e-18\n",
      "PFL                  0.000000  -1.527746e-02\n",
      "PGI                  4.860861   0.000000e+00\n",
      "PGK                -16.023526   3.469447e-18\n",
      "PGL                  4.959985   1.517883e-17\n",
      "PGM                -14.716140  -0.000000e+00\n",
      "PIt2r                3.214895  -1.257675e-17\n",
      "PPC                  2.504309  -1.257675e-17\n",
      "PPCK                 0.000000  -1.018497e-02\n",
      "PPS                  0.000000  -1.018497e-02\n",
      "PTAr                 0.000000   1.387779e-17\n",
      "PYK                  1.758177   2.168404e-18\n",
      "PYRt2                0.000000   1.301043e-18\n",
      "RPE                  2.678482   0.000000e+00\n",
      "RPI                 -2.281503  -0.000000e+00\n",
      "SUCCt2_2             0.000000   5.811324e-17\n",
      "SUCCt3               0.000000  -7.638729e-03\n",
      "SUCDi                5.064376  -1.734723e-18\n",
      "SUCOAS              -5.064376   1.110223e-16\n",
      "TALA                 1.496984  -1.387779e-17\n",
      "THD2                 0.000000  -2.546243e-03\n",
      "TKT1                 1.496984  -1.387779e-17\n",
      "TKT2                 1.181498   1.387779e-17\n",
      "TPI                  7.477382  -6.938894e-18\n",
      "\n",
      "[95 rows x 2 columns]\n"
     ]
    }
   ],
   "source": [
    "# Here are some examples of inspecting the solution. These are the actual variables used to construct the\n",
    "# solution summary that cobrapy prints.\n",
    "print(solution.objective_value)\n",
    "print(solution.to_frame())"
   ]
  },
  {
   "cell_type": "code",
   "execution_count": 13,
   "metadata": {},
   "outputs": [
    {
     "name": "stderr",
     "output_type": "stream",
     "text": [
      "cobra/util/solver.py:408 \u001b[1;31mUserWarning\u001b[0m: solver status is 'infeasible'\n"
     ]
    },
    {
     "data": {
      "text/html": [
       "<strong><em>infeasible</em> solution</strong>"
      ],
      "text/plain": [
       "<Solution infeasible at 0x11b53e860>"
      ]
     },
     "execution_count": 13,
     "metadata": {},
     "output_type": "execute_result"
    }
   ],
   "source": [
    "# Given that the lower bound of these boundary reactions determines the uptake rate, the most\n",
    "# reliable way to modify the environmental conditions is to change the lower bound. Let's\n",
    "# do this for one of the exchange reactions that was already active and see if the model\n",
    "# can still grow.\n",
    "ecoli.reactions.get_by_id('EX_glc__D_e').lower_bound = 0\n",
    "\n",
    "ecoli.optimize()"
   ]
  },
  {
   "cell_type": "code",
   "execution_count": 14,
   "metadata": {},
   "outputs": [
    {
     "data": {
      "text/plain": [
       "[<Reaction EX_ac_e at 0x11bac4128>,\n",
       " <Reaction EX_acald_e at 0x11bac4198>,\n",
       " <Reaction EX_akg_e at 0x11bac4278>,\n",
       " <Reaction EX_co2_e at 0x11bac4390>,\n",
       " <Reaction EX_etoh_e at 0x11bac44a8>,\n",
       " <Reaction EX_for_e at 0x11bac45c0>,\n",
       " <Reaction EX_fru_e at 0x11bac46d8>,\n",
       " <Reaction EX_fum_e at 0x11bac47f0>,\n",
       " <Reaction EX_glc__D_e at 0x11bac4908>,\n",
       " <Reaction EX_gln__L_e at 0x11bac49e8>,\n",
       " <Reaction EX_glu__L_e at 0x11bac4b00>,\n",
       " <Reaction EX_h_e at 0x11bac4c88>,\n",
       " <Reaction EX_h2o_e at 0x11bac4dd8>,\n",
       " <Reaction EX_lac__D_e at 0x11bad7b70>,\n",
       " <Reaction EX_mal__L_e at 0x11bbd6b38>,\n",
       " <Reaction EX_nh4_e at 0x11bc0d5f8>,\n",
       " <Reaction EX_o2_e at 0x11bac4f60>,\n",
       " <Reaction EX_pi_e at 0x11bbeb0f0>,\n",
       " <Reaction EX_pyr_e at 0x11bbeb208>,\n",
       " <Reaction EX_succ_e at 0x11bbeb2e8>]"
      ]
     },
     "execution_count": 14,
     "metadata": {},
     "output_type": "execute_result"
    }
   ],
   "source": [
    "# When we turn off glucose uptake, the model becomes 'infeasible', meaning that there aren't any network-wide\n",
    "# states that allow mass balance constraints to be met. This is equivalent to having 0 activity through the\n",
    "# biomass reaction, so it essentially means the organism can't grow.\n",
    "\n",
    "# Let's modify some of the other exchange reactions to see if we can restore growth. Use the .boundary\n",
    "# attribute to find reactions that might be exchange reactions.\n",
    "ecoli.boundary"
   ]
  },
  {
   "cell_type": "code",
   "execution_count": 15,
   "metadata": {},
   "outputs": [
    {
     "data": {
      "text/html": [
       "<strong><em>Optimal</em> solution with objective value 0.559</strong><br><div>\n",
       "<style scoped>\n",
       "    .dataframe tbody tr th:only-of-type {\n",
       "        vertical-align: middle;\n",
       "    }\n",
       "\n",
       "    .dataframe tbody tr th {\n",
       "        vertical-align: top;\n",
       "    }\n",
       "\n",
       "    .dataframe thead th {\n",
       "        text-align: right;\n",
       "    }\n",
       "</style>\n",
       "<table border=\"1\" class=\"dataframe\">\n",
       "  <thead>\n",
       "    <tr style=\"text-align: right;\">\n",
       "      <th></th>\n",
       "      <th>fluxes</th>\n",
       "      <th>reduced_costs</th>\n",
       "    </tr>\n",
       "  </thead>\n",
       "  <tbody>\n",
       "    <tr>\n",
       "      <th>ACALD</th>\n",
       "      <td>0.000000</td>\n",
       "      <td>1.387779e-17</td>\n",
       "    </tr>\n",
       "    <tr>\n",
       "      <th>ACALDt</th>\n",
       "      <td>0.000000</td>\n",
       "      <td>0.000000e+00</td>\n",
       "    </tr>\n",
       "    <tr>\n",
       "      <th>ACKr</th>\n",
       "      <td>0.000000</td>\n",
       "      <td>2.428613e-17</td>\n",
       "    </tr>\n",
       "    <tr>\n",
       "      <th>ACONTa</th>\n",
       "      <td>2.103400</td>\n",
       "      <td>0.000000e+00</td>\n",
       "    </tr>\n",
       "    <tr>\n",
       "      <th>ACONTb</th>\n",
       "      <td>2.103400</td>\n",
       "      <td>1.387779e-16</td>\n",
       "    </tr>\n",
       "    <tr>\n",
       "      <th>...</th>\n",
       "      <td>...</td>\n",
       "      <td>...</td>\n",
       "    </tr>\n",
       "    <tr>\n",
       "      <th>TALA</th>\n",
       "      <td>-0.100053</td>\n",
       "      <td>1.387779e-17</td>\n",
       "    </tr>\n",
       "    <tr>\n",
       "      <th>THD2</th>\n",
       "      <td>0.000000</td>\n",
       "      <td>-5.371868e-03</td>\n",
       "    </tr>\n",
       "    <tr>\n",
       "      <th>TKT1</th>\n",
       "      <td>-0.100053</td>\n",
       "      <td>-2.081668e-17</td>\n",
       "    </tr>\n",
       "    <tr>\n",
       "      <th>TKT2</th>\n",
       "      <td>-0.301947</td>\n",
       "      <td>-0.000000e+00</td>\n",
       "    </tr>\n",
       "    <tr>\n",
       "      <th>TPI</th>\n",
       "      <td>-0.556301</td>\n",
       "      <td>1.387779e-17</td>\n",
       "    </tr>\n",
       "  </tbody>\n",
       "</table>\n",
       "<p>95 rows × 2 columns</p>\n",
       "</div>"
      ],
      "text/plain": [
       "<Solution 0.559 at 0x11b53e208>"
      ]
     },
     "execution_count": 15,
     "metadata": {},
     "output_type": "execute_result"
    }
   ],
   "source": [
    "# Let's enable uptake through one of these that wasn't in the original medium.\n",
    "ecoli.reactions.get_by_id('EX_gln__L_e').lower_bound = -10\n",
    "\n",
    "# Does this restore biomass production?\n",
    "ecoli.optimize()"
   ]
  },
  {
   "cell_type": "code",
   "execution_count": 16,
   "metadata": {},
   "outputs": [],
   "source": [
    "# It does! Although it appears to be growing at a slower rate than before (e.g. 0.559 vs. 0.874)\n",
    "# We'll add on to this notebook later with some more examples."
   ]
  }
 ],
 "metadata": {
  "kernelspec": {
   "display_name": "Python 3",
   "language": "python",
   "name": "python3"
  },
  "language_info": {
   "codemirror_mode": {
    "name": "ipython",
    "version": 3
   },
   "file_extension": ".py",
   "mimetype": "text/x-python",
   "name": "python",
   "nbconvert_exporter": "python",
   "pygments_lexer": "ipython3",
   "version": "3.5.2"
  }
 },
 "nbformat": 4,
 "nbformat_minor": 2
}
