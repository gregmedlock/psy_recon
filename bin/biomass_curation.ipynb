{
 "cells": [
  {
   "cell_type": "code",
   "execution_count": 30,
   "metadata": {},
   "outputs": [],
   "source": [
    "import cobra\n",
    "from cobra import Reaction, Metabolite, Model"
   ]
  },
  {
   "cell_type": "code",
   "execution_count": 31,
   "metadata": {},
   "outputs": [],
   "source": [
    "#uploading model\n",
    "model = cobra.io.read_sbml_model(\"../results/reconstructions/psy_6_lipid.xml\")\n",
    "universal = cobra.io.load_json_model('../data/modelseed_data/seed_universal.json')"
   ]
  },
  {
   "cell_type": "code",
   "execution_count": 32,
   "metadata": {},
   "outputs": [],
   "source": [
    "dna_c = Metabolite('DNA_c',\n",
    "    name='DNA Macromolecule',\n",
    "    compartment='c')\n",
    "rna_c = Metabolite('RNA_c',\n",
    "    name='RNA Macromolecule',\n",
    "    compartment='c')"
   ]
  },
  {
   "cell_type": "code",
   "execution_count": 33,
   "metadata": {},
   "outputs": [],
   "source": [
    "#DNA\n",
    "#taken directly from the genome sequencing file\n",
    "dna = Reaction(\"dna\")\n",
    "dna.name = \"Biomass Componant - DNA\"\n",
    "dna.lower_bound = 0\n",
    "dna.upper_bound = 1000\n",
    "dna.subsystem = \"Biomass production\"\n",
    "rna = Reaction(\"rna\")\n",
    "rna.name = \"Biomass Componant - RNA\"\n",
    "rna.lower_bound = 0\n",
    "rna.upper_bound = 1000\n",
    "rna.subsystem = \"Biomass production\"\n",
    "\n",
    "#these should be in the dNMP forms, TAGC order\n",
    "dna.add_metabolites({\n",
    "                    model.metabolites.cpd00357_c: -0.21916914914113794, \n",
    "                    model.metabolites.cpd00115_c: -0.21916914914113794, \n",
    "                    model.metabolites.cpd00241_c: -0.28083085085886206, \n",
    "                    model.metabolites.cpd00356_c: -0.28083085085886206,\n",
    "                    dna_c : 1})\n",
    "#RNA\n",
    "##look at protein coding fasta file, make Ts Us \n",
    "#these should be in the NMP forms,  AUGC order\n",
    "rna.add_metabolites({\n",
    "                    model.metabolites.cpd00002_c: -0.20344406138661808, \n",
    "                    model.metabolites.cpd00062_c: -0.20344406138661808, \n",
    "                    model.metabolites.cpd00038_c: -0.2965559386133819, \n",
    "                    model.metabolites.cpd00052_c: -0.2965559386133819,\n",
    "                    rna_c : 1})\n",
    "model.add_reactions([dna, rna])"
   ]
  },
  {
   "cell_type": "code",
   "execution_count": 5,
   "metadata": {},
   "outputs": [],
   "source": [
    "#PROTEIN\n",
    "protein_c = Metabolite(\"protein_c\", name = \"Protein Macromolecule\", compartment = \"c\")\n",
    "protein = Reaction(\"protein\")\n",
    "protein.name = \"Bomass Componant - Protein\"\n",
    "protein.lower_bound = 0\n",
    "protein.upper_bound = 1000\n",
    "protein.subsytem = \"Biomass production\"\n",
    "protein.add_metabolites({protein_c:1,\n",
    "                         model.metabolites.cpd00035_c: -0.10617216912031968, \n",
    "                         model.metabolites.cpd00066_c: -0.036319608590392315, \n",
    "                         model.metabolites.cpd00132_c: -0.03194521851573635, \n",
    "                         model.metabolites.cpd00129_c: -0.04784072660144642, \n",
    "                         model.metabolites.cpd00107_c: -0.11392469198081723, \n",
    "                         model.metabolites.cpd00033_c: -0.07671897063326497, \n",
    "                         model.metabolites.cpd00051_c: -0.0635379745301785, \n",
    "                         model.metabolites.cpd00053_c: -0.045577256475947736, \n",
    "                         model.metabolites.cpd00084_c: -0.009789645973446356, \n",
    "                         model.metabolites.cpd00023_c: -0.05656141989518646, \n",
    "                         model.metabolites.cpd00119_c: -0.02294861317020194, \n",
    "                         model.metabolites.cpd00039_c: -0.037538357833148656, \n",
    "                         model.metabolites.cpd00060_c: -0.023911276376861718, \n",
    "                         model.metabolites.cpd00156_c: -0.07080586145139653, \n",
    "                         model.metabolites.cpd00054_c: -0.06144688059671902, \n",
    "                         model.metabolites.cpd00065_c: -0.013921718078462559, \n",
    "                         model.metabolites.cpd00322_c: -0.04981121227274429, \n",
    "                         model.metabolites.cpd00161_c: -0.05105143969917326, \n",
    "                         model.metabolites.cpd00041_c: -0.05461736891148565, \n",
    "                         model.metabolites.cpd00069_c: -0.025559589293070367})\n",
    "model.add_reactions([protein])"
   ]
  },
  {
   "cell_type": "code",
   "execution_count": 6,
   "metadata": {},
   "outputs": [],
   "source": [
    "#still need to actually save metabolites to model\n",
    "#save model with new exchange reactions\n",
    "#cobra.io.write_sbml_model(current_model, \"psy_6_dna_rna.xml\", use_fbc_package=True)"
   ]
  },
  {
   "cell_type": "code",
   "execution_count": 7,
   "metadata": {},
   "outputs": [
    {
     "data": {
      "text/html": [
       "\n",
       "        <table>\n",
       "            <tr>\n",
       "                <td><strong>Reaction identifier</strong></td><td>rxn09398_c</td>\n",
       "            </tr><tr>\n",
       "                <td><strong>Name</strong></td><td>glycogen synthase (UDPGlc)</td>\n",
       "            </tr><tr>\n",
       "                <td><strong>Memory address</strong></td>\n",
       "                <td>0x07fe21bba1e10</td>\n",
       "            </tr><tr>\n",
       "                <td><strong>Stoichiometry</strong></td>\n",
       "                <td>\n",
       "                    <p style='text-align:right'>cpd00026_c + cpd15302_c <=> cpd00014_c + cpd00155_c</p>\n",
       "                    <p style='text-align:right'>UDP-glucose + glycogen(n-1) <=> UDP + Glycogen</p>\n",
       "                </td>\n",
       "            </tr><tr>\n",
       "                <td><strong>GPR</strong></td><td></td>\n",
       "            </tr><tr>\n",
       "                <td><strong>Lower bound</strong></td><td>-1000.0</td>\n",
       "            </tr><tr>\n",
       "                <td><strong>Upper bound</strong></td><td>1000.0</td>\n",
       "            </tr>\n",
       "        </table>\n",
       "        "
      ],
      "text/plain": [
       "<Reaction rxn09398_c at 0x7fe21bba1e10>"
      ]
     },
     "execution_count": 7,
     "metadata": {},
     "output_type": "execute_result"
    }
   ],
   "source": [
    "model.reactions.rxn09398_c\n",
    "#niversal.metabolites.cpd03587_c"
   ]
  },
  {
   "cell_type": "code",
   "execution_count": 8,
   "metadata": {},
   "outputs": [],
   "source": [
    "biomass_pto_unit = Metabolite(\"biomass\", name = \"Biomass Unit\" , compartment = 'c' )\n",
    "\n",
    "biomass_pto = Reaction('biomass_pto')\n",
    "biomass_pto.name = \"Biomass Equation, Pto Specific\"\n",
    "biomass_pto.lower_bound = 0\n",
    "biomass_pto.upper_bound = 1000\n",
    "biomass_pto.add_metabolites({biomass_pto_unit : 1,\n",
    "                             protein_c:-.229,\n",
    "                             model.metabolites.phospholipid : -.6204,\n",
    "                             dna_c : -.0271,\n",
    "                             rna_c : -.0645,\n",
    "                             model.metabolites.cpd03587_c : -0.034,\n",
    "                             model.metabolites.cpd00155_c : -0.025,\n",
    "                            })\n",
    "model.add_reactions([biomass_pto])"
   ]
  },
  {
   "cell_type": "code",
   "execution_count": 9,
   "metadata": {},
   "outputs": [],
   "source": [
    "model.objective = biomass_pto"
   ]
  },
  {
   "cell_type": "code",
   "execution_count": 19,
   "metadata": {},
   "outputs": [
    {
     "name": "stderr",
     "output_type": "stream",
     "text": [
      "Error encountered trying to <set model history>.\n",
      "LibSBML error code -5: The object passed as an argument to the method is not of a type that is valid for the operation or kind of object involved. For example, handing an invalidly-constructed ASTNode to a method expecting an ASTNode will result in this error.\n"
     ]
    }
   ],
   "source": [
    "cobra.io.write_sbml_model(model, \"../results/reconstructions/psy_6_biomass.xml\")"
   ]
  },
  {
   "cell_type": "markdown",
   "metadata": {},
   "source": [
    "Curation of the biomass equations due to the infeasible solution issue when gapfilling.\n",
    "Starting with DNA and RNA curation"
   ]
  },
  {
   "cell_type": "code",
   "execution_count": 29,
   "metadata": {},
   "outputs": [
    {
     "ename": "AttributeError",
     "evalue": "DictList has no attribute or entry cpd000299_c",
     "output_type": "error",
     "traceback": [
      "\u001b[0;31m---------------------------------------------------------------------------\u001b[0m",
      "\u001b[0;31mKeyError\u001b[0m                                  Traceback (most recent call last)",
      "\u001b[0;32m~/cobrapython/lib/python3.7/site-packages/cobra/core/dictlist.py\u001b[0m in \u001b[0;36m__getattr__\u001b[0;34m(self, attr)\u001b[0m\n\u001b[1;32m    450\u001b[0m         \u001b[0;32mtry\u001b[0m\u001b[0;34m:\u001b[0m\u001b[0;34m\u001b[0m\u001b[0;34m\u001b[0m\u001b[0m\n\u001b[0;32m--> 451\u001b[0;31m             \u001b[0;32mreturn\u001b[0m \u001b[0mDictList\u001b[0m\u001b[0;34m.\u001b[0m\u001b[0mget_by_id\u001b[0m\u001b[0;34m(\u001b[0m\u001b[0mself\u001b[0m\u001b[0;34m,\u001b[0m \u001b[0mattr\u001b[0m\u001b[0;34m)\u001b[0m\u001b[0;34m\u001b[0m\u001b[0;34m\u001b[0m\u001b[0m\n\u001b[0m\u001b[1;32m    452\u001b[0m         \u001b[0;32mexcept\u001b[0m \u001b[0mKeyError\u001b[0m\u001b[0;34m:\u001b[0m\u001b[0;34m\u001b[0m\u001b[0;34m\u001b[0m\u001b[0m\n",
      "\u001b[0;32m~/cobrapython/lib/python3.7/site-packages/cobra/core/dictlist.py\u001b[0m in \u001b[0;36mget_by_id\u001b[0;34m(self, id)\u001b[0m\n\u001b[1;32m     57\u001b[0m         \u001b[0;34m\"\"\"return the element with a matching id\"\"\"\u001b[0m\u001b[0;34m\u001b[0m\u001b[0;34m\u001b[0m\u001b[0m\n\u001b[0;32m---> 58\u001b[0;31m         \u001b[0;32mreturn\u001b[0m \u001b[0mlist\u001b[0m\u001b[0;34m.\u001b[0m\u001b[0m__getitem__\u001b[0m\u001b[0;34m(\u001b[0m\u001b[0mself\u001b[0m\u001b[0;34m,\u001b[0m \u001b[0mself\u001b[0m\u001b[0;34m.\u001b[0m\u001b[0m_dict\u001b[0m\u001b[0;34m[\u001b[0m\u001b[0mid\u001b[0m\u001b[0;34m]\u001b[0m\u001b[0;34m)\u001b[0m\u001b[0;34m\u001b[0m\u001b[0;34m\u001b[0m\u001b[0m\n\u001b[0m\u001b[1;32m     59\u001b[0m \u001b[0;34m\u001b[0m\u001b[0m\n",
      "\u001b[0;31mKeyError\u001b[0m: 'cpd000299_c'",
      "\nDuring handling of the above exception, another exception occurred:\n",
      "\u001b[0;31mAttributeError\u001b[0m                            Traceback (most recent call last)",
      "\u001b[0;32m<ipython-input-29-8865781052f6>\u001b[0m in \u001b[0;36m<module>\u001b[0;34m\u001b[0m\n\u001b[0;32m----> 1\u001b[0;31m \u001b[0mmodel\u001b[0m\u001b[0;34m.\u001b[0m\u001b[0mmetabolites\u001b[0m\u001b[0;34m.\u001b[0m\u001b[0mcpd000299_c\u001b[0m\u001b[0;34m\u001b[0m\u001b[0;34m\u001b[0m\u001b[0m\n\u001b[0m",
      "\u001b[0;32m~/cobrapython/lib/python3.7/site-packages/cobra/core/dictlist.py\u001b[0m in \u001b[0;36m__getattr__\u001b[0;34m(self, attr)\u001b[0m\n\u001b[1;32m    452\u001b[0m         \u001b[0;32mexcept\u001b[0m \u001b[0mKeyError\u001b[0m\u001b[0;34m:\u001b[0m\u001b[0;34m\u001b[0m\u001b[0;34m\u001b[0m\u001b[0m\n\u001b[1;32m    453\u001b[0m             raise AttributeError(\"DictList has no attribute or entry %s\" %\n\u001b[0;32m--> 454\u001b[0;31m                                  attr)\n\u001b[0m\u001b[1;32m    455\u001b[0m \u001b[0;34m\u001b[0m\u001b[0m\n\u001b[1;32m    456\u001b[0m     \u001b[0;32mdef\u001b[0m \u001b[0m__dir__\u001b[0m\u001b[0;34m(\u001b[0m\u001b[0mself\u001b[0m\u001b[0;34m)\u001b[0m\u001b[0;34m:\u001b[0m\u001b[0;34m\u001b[0m\u001b[0;34m\u001b[0m\u001b[0m\n",
      "\u001b[0;31mAttributeError\u001b[0m: DictList has no attribute or entry cpd000299_c"
     ]
    }
   ],
   "source": [
    "#RNA first, there is no reaction to import or create dUTP\n",
    "#Uridine monophosphotase synthetase, KEGG\n",
    "##Anything that is commented out is already in the model\n",
    "\n",
    "#rxn1 = universal.reactions.rxn01362_c.copy()\n",
    "#rxn1.gene_reaction_rule = \"PSPTO_0080\"\n",
    "\n",
    "#rxn2 = universal.reactions.rxn00710_c.copy()\n",
    "#rxn2.gene_reaction_rule = \"PSPTO_2028\"\n",
    "\n",
    "#rxn3 = universal.reactions.rxn00119_c.copy()\n",
    "#rxn3.gene_reaction_rule = \"PSPTO_1536\"\n",
    "\n",
    "rxn4 = universal.reactions.rxn00238_c.copy()\n",
    "rxn4.gene_reaction_rule = \"PSPTO_1430\"\n",
    "\n",
    "rxn5 = universal.reactions.rxn06641_c.copy()\n",
    "rxn5.gene_reaction_rule = \"PSPTO_1671 and PSPTO_1661\"\n",
    "\n",
    "rxn6 = universal.reactions.rxn00410_c.copy()\n",
    "rxn6.gene_reaction_rule = \"PSPTO_1552\"\n",
    "\n",
    "rxn7 = universal.reactions.rxn06648_c.copy()\n",
    "rxn7.gene_reaction_rule = \"PSPTO_1671 and PSPTO_1661\"\n",
    "\n",
    "#rxn8 = universal.reactions.rxn06648_c.copy()\n",
    "#rxn8.gene_reaction_rule = \"PSPTO_4144\"\n",
    "\n",
    "rxn9 = unviersal.reactions.rxn01677_c.copy()\n",
    "rxn9.gene_reaction_rule = \"PSPTO_1430\"\n",
    "\n",
    "#rxn36935 not in universal\n",
    "rxn10 = Reaction('rxn36935')\n",
    "rxn10.name = \"Nucleoside Diphosphatase\"\n",
    "rxn10.lower_bound = 0\n",
    "rxn10.upper_bound = 1000\n",
    "rxn10.add_metabolites({model.metabolites.cpd00001_c : -1,\n",
    "                      model.metabolites.cpd00978_c : -1,\n",
    "                      model.metabolites.cpd00009_c : 1,\n",
    "                      model.metabolites.cpd00067_c : 2,\n",
    "                      model.metabolites.cpd00299_c : 1})\n",
    "\n",
    "\n",
    "\n",
    "\n"
   ]
  },
  {
   "cell_type": "code",
   "execution_count": 48,
   "metadata": {},
   "outputs": [
    {
     "data": {
      "text/html": [
       "\n",
       "        <table>\n",
       "            <tr>\n",
       "                <td><strong>Metabolite identifier</strong></td><td>cpd00978_c</td>\n",
       "            </tr><tr>\n",
       "                <td><strong>Name</strong></td><td>dUDP</td>\n",
       "            </tr><tr>\n",
       "                <td><strong>Memory address</strong></td>\n",
       "                <td>0x07fe22a9545c0</td>\n",
       "            </tr><tr>\n",
       "                <td><strong>Formula</strong></td><td>C9H12N2O11P2</td>\n",
       "            </tr><tr>\n",
       "                <td><strong>Compartment</strong></td><td>c</td>\n",
       "            </tr><tr>\n",
       "                <td><strong>In 3 reaction(s)</strong></td><td>\n",
       "                    rxn01678_c, rxn06075_c, rxn01517_c</td>\n",
       "            </tr>\n",
       "        </table>"
      ],
      "text/plain": [
       "<Metabolite cpd00978_c at 0x7fe22a9545c0>"
      ]
     },
     "execution_count": 48,
     "metadata": {},
     "output_type": "execute_result"
    }
   ],
   "source": [
    "model.metabolites.cpd00978_c"
   ]
  },
  {
   "cell_type": "code",
   "execution_count": null,
   "metadata": {},
   "outputs": [],
   "source": []
  }
 ],
 "metadata": {
  "kernelspec": {
   "display_name": "Python 3",
   "language": "python",
   "name": "python3"
  },
  "language_info": {
   "codemirror_mode": {
    "name": "ipython",
    "version": 3
   },
   "file_extension": ".py",
   "mimetype": "text/x-python",
   "name": "python",
   "nbconvert_exporter": "python",
   "pygments_lexer": "ipython3",
   "version": "3.7.3"
  }
 },
 "nbformat": 4,
 "nbformat_minor": 2
}
