{
 "cells": [
  {
   "cell_type": "code",
   "execution_count": 1,
   "metadata": {},
   "outputs": [],
   "source": [
    "# This notebook creates, gapfills, and returns a ModelSEED model for\n",
    "# Pseudomonas syringae pv. tomato str. DC3000, which we will use \n",
    "# to gapfill our manually curated template.\n",
    "\n",
    "# Mackinac must be install on your machine using the latest version\n",
    "# of the package to run this (previous version do not have the patric\n",
    "# interface functions). Follow the virtualenv instructions\n",
    "# on the mackinac github readme to get the latest version.\n",
    "\n",
    "import mackinac\n",
    "import cobra\n",
    "import json"
   ]
  },
  {
   "cell_type": "code",
   "execution_count": 2,
   "metadata": {},
   "outputs": [
    {
     "name": "stdin",
     "output_type": "stream",
     "text": [
      "patric password:  ···············\n"
     ]
    },
    {
     "data": {
      "text/plain": [
       "'gregmedlock_seed@patricbrc.org'"
      ]
     },
     "execution_count": 2,
     "metadata": {},
     "output_type": "execute_result"
    }
   ],
   "source": [
    "mackinac.get_token('gregmedlock_seed')"
   ]
  },
  {
   "cell_type": "code",
   "execution_count": 3,
   "metadata": {},
   "outputs": [],
   "source": [
    "species = \"Pseudomonas syringae pv. tomato str. DC3000\"\n",
    "recon_info = mackinac.create_patric_model(\"223283.9\",species)\n",
    "# Get the reactions contained in the gapfill solution. This is on complete media\n",
    "gapfill_solution = mackinac.get_patric_gapfill_solutions(species)[0]\n",
    "# convert to a cobra model\n",
    "model = mackinac.create_cobra_model_from_patric_model(species)"
   ]
  },
  {
   "cell_type": "code",
   "execution_count": 4,
   "metadata": {},
   "outputs": [],
   "source": [
    "# Save model in json format using patric_id\n",
    "cobra.io.save_json_model(model, '../data/modelseed_draft_psy_DC3000.json')\n",
    "\n",
    "# save conversion dict for id:original_name:SEED_name mapping\n",
    "with open('../data/patric_recon_info.json','w') as jsonfile:\n",
    "    json.dump(recon_info,jsonfile)\n",
    "    \n",
    "# save the gapfill solutions\n",
    "with open('../data/patric_gapfill_solutions.json','w') as jsonfile:\n",
    "    json.dump(gapfill_solution,jsonfile)"
   ]
  },
  {
   "cell_type": "code",
   "execution_count": null,
   "metadata": {},
   "outputs": [],
   "source": []
  },
  {
   "cell_type": "code",
   "execution_count": null,
   "metadata": {},
   "outputs": [],
   "source": []
  }
 ],
 "metadata": {
  "kernelspec": {
   "display_name": "psy_recon",
   "language": "python",
   "name": "psy_recon"
  },
  "language_info": {
   "codemirror_mode": {
    "name": "ipython",
    "version": 3
   },
   "file_extension": ".py",
   "mimetype": "text/x-python",
   "name": "python",
   "nbconvert_exporter": "python",
   "pygments_lexer": "ipython3",
   "version": "3.5.2"
  }
 },
 "nbformat": 4,
 "nbformat_minor": 2
}
