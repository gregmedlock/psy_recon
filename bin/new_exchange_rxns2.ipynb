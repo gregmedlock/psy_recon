{
 "cells": [
  {
   "cell_type": "code",
   "execution_count": 15,
   "metadata": {},
   "outputs": [],
   "source": [
    "import cobra\n",
    "from cobra import Reaction, Metabolite, Model\n",
    "import pandas as pd\n",
    "import numpy"
   ]
  },
  {
   "cell_type": "code",
   "execution_count": 16,
   "metadata": {},
   "outputs": [
    {
     "name": "stdout",
     "output_type": "stream",
     "text": [
      "                                             met_name    met_id    source\n",
      "0                                   L-(+) lactic acid  cpd00159  Anderson\n",
      "1                                       glycolic acid  cpd00139  Anderson\n",
      "2                                           L-alanine  cpd00035  Anderson\n",
      "3                      3-hydroxypropanoic acid (NIST)  cpd00745  Anderson\n",
      "4                                           L-proline  cpd00129  Anderson\n",
      "5                       dehydroalanine from cysteine*  cpd01495  Anderson\n",
      "6   3-hydroxy-3-methylbutanoic acid (3-hydroxyisov...       NaN  Anderson\n",
      "7                                            L-valine  cpd00156  Anderson\n",
      "8                                                urea  cpd00073  Anderson\n",
      "9                                        benzoic acid  cpd00153  Anderson\n",
      "10                                           L-serine  cpd00054  Anderson\n",
      "11                                    phosphoric acid  cpd00009  Anderson\n",
      "12                                        L-threonine  cpd00161  Anderson\n",
      "13                                     nicotinic acid  cpd00218  Anderson\n",
      "14                                            glycine  cpd00033  Anderson\n",
      "15                                      succinic acid  cpd00036  Anderson\n",
      "16                                      glyceric acid  cpd00223  Anderson\n",
      "17                                           porphine       NaN  Anderson\n",
      "18                                             uracil  cpd00092  Anderson\n",
      "19                                       fumaric acid  cpd00106  Anderson\n",
      "20                      2-methyl-benzoic acid  (NIST)  cpd04453  Anderson\n",
      "21                  2,4-dihydroxybutanoic acid (NIST)       NaN  Anderson\n",
      "22                                      Beta- alanine  cpd00085  Anderson\n",
      "23                                       D-malic acid  cpd00386  Anderson\n",
      "24                                         D-threitol  cpd17172  Anderson\n",
      "25                                      aspartic acid  cpd00041  Anderson\n",
      "26                                L-pyroglutamic acid  cpd01293  Anderson\n",
      "27                            4-guanidinobutyric acid  cpd00762  Anderson\n",
      "28                               threonic acid (NIST)  cpd01138  Anderson\n",
      "29                                   triethanolamine   cpd04148  Anderson\n",
      "30                              4-hydroxybenzoic acid  cpd00136  Anderson\n",
      "31                                           D-lyxose  cpd00368  Anderson\n",
      "32                                            xylitol  cpd00306  Anderson\n",
      "33                                       L-(-)-fucose  cpd00751  Anderson\n",
      "34                               glycerol-3-phosphate  cpd00080  Anderson\n",
      "35                      2-Keto-l-gluconic acid (NIST)  cpd11314  Anderson\n",
      "36                                      shikimic acid  cpd00383  Anderson\n",
      "37                                        citric acid  cpd00137  Anderson\n",
      "38                                           fructose  cpd00082  Anderson\n",
      "39                                     D(+) galactose  cpd00108  Anderson\n",
      "40                                          D-glucose  cpd00027  Anderson\n",
      "41                                      gluconic acid  cpd00222  Anderson\n",
      "42                                      palmitic acid  cpd00214  Anderson\n",
      "43  3,5-dimethoxy-4-hydroxycinnamic acid (sinapini...  cpd00373  Anderson\n",
      "44                                       myo-inositol  cpd00121  Anderson\n",
      "45                                       stearic acid  cpd01080  Anderson\n",
      "46                            glucosylglycerol (NIST)       NaN  Anderson\n",
      "47                                            sucrose  cpd00076  Anderson\n"
     ]
    }
   ],
   "source": [
    "#loading new metabolite data\n",
    "current_model = cobra.io.read_sbml_model(\"../results/reconstructions/v5_with_all_annotations.xml\")\n",
    "\n",
    "#loading new metabolite data\n",
    "meta_data = pd.read_csv(\"../data/metabolite_ids_Anderson2014.csv\")\n",
    "print(meta_data)"
   ]
  },
  {
   "cell_type": "code",
   "execution_count": 41,
   "metadata": {},
   "outputs": [
    {
     "name": "stdout",
     "output_type": "stream",
     "text": [
      "[]\n"
     ]
    }
   ],
   "source": [
    "\n",
    "#checking for metabolite in current model (cpdXXXXX_e or _c)\n",
    "\n",
    "in_mod = []\n",
    "out_mod = []\n",
    "met_id = []\n",
    "\n",
    "original_met_id = meta_data['met_id'].tolist()\n",
    "for cpd_id in original_met_id:\n",
    "    if \"cpd\" in str(cpd_id):\n",
    "        met_id.append(cpd_id)\n",
    "        \n",
    "for cpd_id in met_id:\n",
    "    try:\n",
    "        current_model.metabolites.get_by_id(str(cpd_id)+\"_c\" or \"_e\")\n",
    "        in_mod.append(cpd_id)\n",
    "    except:\n",
    "         out_mod.append(cpd_id)\n",
    "print(out_mod)          "
   ]
  },
  {
   "cell_type": "code",
   "execution_count": 43,
   "metadata": {},
   "outputs": [],
   "source": [
    "#checking if metabolite has exchange reaction\n",
    "RX_in_mod = []\n",
    "RX_out_mod = []\n",
    "\n",
    "for cpd_id in in_mod:\n",
    "    try:\n",
    "        current_model.reactions.get_by_id(\"EX_\"+str(cpd_id))\n",
    "        RX_in_mod.append(cpd_id)\n",
    "    except:\n",
    "        RX_out_mod.append(cpd_id)\n"
   ]
  },
  {
   "cell_type": "code",
   "execution_count": 44,
   "metadata": {},
   "outputs": [],
   "source": [
    "#UNNECESSARY all existing metabolites already have exchange rxns\n",
    "#create exchange reaction of existing metabolites w bounds -1000,1000\n",
    "for cpd_id in RX_out_mod:\n",
    "    Ex_rxn = cobra.Reaction(\"EX_\" + str(cpd_id) + \"_c\")\n",
    "    met_obj = current_model.metabolites.get_by_id(str(cpd_id)+\"_c\" or \"_e\")\n",
    "    Ex_rxn.add_metabolites({met_obj.copy():-1})\n",
    "\n",
    "    Ex_rxn.id = \"EX_\"+str(cpd_id)\n",
    "    Ex_rxn.lower_bound = -1000\n",
    "    Ex_rxn.upper_bound = 1000\n",
    "    current_model.add_reaction(Ex_rxn)\n",
    "    \n",
    "    "
   ]
  },
  {
   "cell_type": "code",
   "execution_count": 46,
   "metadata": {},
   "outputs": [],
   "source": [
    "#loading universal model for meatbolites not found in current model\n",
    "universal = cobra.io.load_json_model(\"../data/modelseed_data/seed_universal.json\")"
   ]
  },
  {
   "cell_type": "code",
   "execution_count": 47,
   "metadata": {},
   "outputs": [
    {
     "name": "stdout",
     "output_type": "stream",
     "text": [
      "[]\n"
     ]
    }
   ],
   "source": [
    "#checking if metabolites not in model are in universal\n",
    "in_uni = []\n",
    "out_uni = []\n",
    "\n",
    "for cpd_id in out_mod:\n",
    "    try:\n",
    "        universal.metabolites.get_by_id(str(cpd_id)+\"_c\" or \"_e\" or \"\")\n",
    "        in_uni.append(cpd_id)\n",
    "    except:\n",
    "         out_uni.append(cpd_id)\n",
    "\n",
    "print(out_uni)"
   ]
  },
  {
   "cell_type": "code",
   "execution_count": 49,
   "metadata": {},
   "outputs": [],
   "source": [
    "#make copy of metabolite from universal\n",
    "#create exchange reaction for universal metabolites w bounds -1000,1000\n",
    "for cpd_id in in_uni:\n",
    "    met_obj = universal.metabolites.get_by_id(str(cpd_id)+\"_c\" or \"_e\")\n",
    "    Ex_rxn = cobra.Reaction(\"EX_\" + str(cpd_id))\n",
    "    Ex_rxn.add_metabolites({met_obj.copy():-1})\n",
    "    \n",
    "    Ex_rxn.id = \"EX_\"+str(cpd_id)\n",
    "    Ex_rxn.lower_bound = -1000\n",
    "    Ex_rxn.upper_bound = 1000\n",
    "    current_model.add_reaction(Ex_rxn)\n",
    "    \n"
   ]
  },
  {
   "cell_type": "code",
   "execution_count": 50,
   "metadata": {},
   "outputs": [],
   "source": [
    "#save model with new exchange reactions\n",
    "cobra.io.write_sbml_model(current_model, \"v6_with_all_annotations.xml\", use_fbc_package=True)"
   ]
  },
  {
   "cell_type": "code",
   "execution_count": null,
   "metadata": {},
   "outputs": [],
   "source": [
    "\n"
   ]
  }
 ],
 "metadata": {
  "kernelspec": {
   "display_name": "Python 3",
   "language": "python",
   "name": "python3"
  },
  "language_info": {
   "codemirror_mode": {
    "name": "ipython",
    "version": 3
   },
   "file_extension": ".py",
   "mimetype": "text/x-python",
   "name": "python",
   "nbconvert_exporter": "python",
   "pygments_lexer": "ipython3",
   "version": "3.6.8"
  }
 },
 "nbformat": 4,
 "nbformat_minor": 2
}
